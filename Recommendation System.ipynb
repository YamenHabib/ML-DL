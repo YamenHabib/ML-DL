{
 "cells": [
  {
   "cell_type": "code",
   "execution_count": 1,
   "id": "344bcd80",
   "metadata": {},
   "outputs": [],
   "source": [
    "%matplotlib inline\n",
    "import pandas as pd \n",
    "import numpy as np\n",
    "import matplotlib.pyplot as plt\n",
    "import seaborn as sns\n",
    "from scipy import stats\n",
    "from ast import literal_eval\n",
    "from sklearn.feature_extraction.text import TfidfVectorizer, CountVectorizer\n",
    "from sklearn.metrics.pairwise import linear_kernel, cosine_similarity\n",
    "from nltk.stem.snowball import SnowballStemmer\n",
    "from nltk.stem.wordnet import WordNetLemmatizer\n",
    "from nltk.corpus import wordnet\n",
    "from surprise.model_selection import cross_validate\n",
    "from surprise import Reader, Dataset, SVD\n",
    "\n",
    "\n",
    "import warnings; warnings.simplefilter('ignore')"
   ]
  },
  {
   "cell_type": "markdown",
   "id": "7763b61d",
   "metadata": {},
   "source": [
    "The dataset consists of the following files:\n",
    "\n",
    "movies_metadata.csv: The main Movies Metadata file. Contains information on 45,000 movies featured in the Full MovieLens dataset. Features include posters, backdrops, budget, revenue, release dates, languages, production countries and companies.\n",
    "\n",
    "keywords.csv: Contains the movie plot keywords for our MovieLens movies. Available in the form of a stringified JSON Object.\n",
    "\n",
    "credits.csv: Consists of Cast and Crew Information for all our movies. Available in the form of a stringified JSON Object.\n",
    "\n",
    "links.csv: The file that contains the TMDB and IMDB IDs of all the movies featured in the Full MovieLens dataset.\n",
    "\n",
    "links_small.csv: Contains the TMDB and IMDB IDs of a small subset of 9,000 movies of the Full Dataset.\n",
    "\n",
    "ratings_small.csv: The subset of 100,000 ratings from 700 users on 9,000 movies."
   ]
  },
  {
   "cell_type": "markdown",
   "id": "81d2e628",
   "metadata": {},
   "source": [
    "#### let's start with the main file: movies_metadata.csv"
   ]
  },
  {
   "cell_type": "code",
   "execution_count": 2,
   "id": "41c2d711",
   "metadata": {},
   "outputs": [],
   "source": [
    "# read our dataset and save it in pandas dataframe object.\n",
    "orig_md = pd.read_csv('data/recmmendation_system/movies_metadata.csv')"
   ]
  },
  {
   "cell_type": "markdown",
   "id": "7a40a79c",
   "metadata": {},
   "source": [
    "Let's take a look at our dataset."
   ]
  },
  {
   "cell_type": "code",
   "execution_count": 3,
   "id": "5aed9520",
   "metadata": {},
   "outputs": [
    {
     "data": {
      "text/html": [
       "<div>\n",
       "<style scoped>\n",
       "    .dataframe tbody tr th:only-of-type {\n",
       "        vertical-align: middle;\n",
       "    }\n",
       "\n",
       "    .dataframe tbody tr th {\n",
       "        vertical-align: top;\n",
       "    }\n",
       "\n",
       "    .dataframe thead th {\n",
       "        text-align: right;\n",
       "    }\n",
       "</style>\n",
       "<table border=\"1\" class=\"dataframe\">\n",
       "  <thead>\n",
       "    <tr style=\"text-align: right;\">\n",
       "      <th></th>\n",
       "      <th>adult</th>\n",
       "      <th>belongs_to_collection</th>\n",
       "      <th>budget</th>\n",
       "      <th>genres</th>\n",
       "      <th>homepage</th>\n",
       "      <th>id</th>\n",
       "      <th>imdb_id</th>\n",
       "      <th>original_language</th>\n",
       "      <th>original_title</th>\n",
       "      <th>overview</th>\n",
       "      <th>...</th>\n",
       "      <th>release_date</th>\n",
       "      <th>revenue</th>\n",
       "      <th>runtime</th>\n",
       "      <th>spoken_languages</th>\n",
       "      <th>status</th>\n",
       "      <th>tagline</th>\n",
       "      <th>title</th>\n",
       "      <th>video</th>\n",
       "      <th>vote_average</th>\n",
       "      <th>vote_count</th>\n",
       "    </tr>\n",
       "  </thead>\n",
       "  <tbody>\n",
       "    <tr>\n",
       "      <th>0</th>\n",
       "      <td>False</td>\n",
       "      <td>{'id': 10194, 'name': 'Toy Story Collection', ...</td>\n",
       "      <td>30000000</td>\n",
       "      <td>[{'id': 16, 'name': 'Animation'}, {'id': 35, '...</td>\n",
       "      <td>http://toystory.disney.com/toy-story</td>\n",
       "      <td>862</td>\n",
       "      <td>tt0114709</td>\n",
       "      <td>en</td>\n",
       "      <td>Toy Story</td>\n",
       "      <td>Led by Woody, Andy's toys live happily in his ...</td>\n",
       "      <td>...</td>\n",
       "      <td>1995-10-30</td>\n",
       "      <td>373554033.0</td>\n",
       "      <td>81.0</td>\n",
       "      <td>[{'iso_639_1': 'en', 'name': 'English'}]</td>\n",
       "      <td>Released</td>\n",
       "      <td>NaN</td>\n",
       "      <td>Toy Story</td>\n",
       "      <td>False</td>\n",
       "      <td>7.7</td>\n",
       "      <td>5415.0</td>\n",
       "    </tr>\n",
       "    <tr>\n",
       "      <th>1</th>\n",
       "      <td>False</td>\n",
       "      <td>NaN</td>\n",
       "      <td>65000000</td>\n",
       "      <td>[{'id': 12, 'name': 'Adventure'}, {'id': 14, '...</td>\n",
       "      <td>NaN</td>\n",
       "      <td>8844</td>\n",
       "      <td>tt0113497</td>\n",
       "      <td>en</td>\n",
       "      <td>Jumanji</td>\n",
       "      <td>When siblings Judy and Peter discover an encha...</td>\n",
       "      <td>...</td>\n",
       "      <td>1995-12-15</td>\n",
       "      <td>262797249.0</td>\n",
       "      <td>104.0</td>\n",
       "      <td>[{'iso_639_1': 'en', 'name': 'English'}, {'iso...</td>\n",
       "      <td>Released</td>\n",
       "      <td>Roll the dice and unleash the excitement!</td>\n",
       "      <td>Jumanji</td>\n",
       "      <td>False</td>\n",
       "      <td>6.9</td>\n",
       "      <td>2413.0</td>\n",
       "    </tr>\n",
       "  </tbody>\n",
       "</table>\n",
       "<p>2 rows × 24 columns</p>\n",
       "</div>"
      ],
      "text/plain": [
       "   adult                              belongs_to_collection    budget  \\\n",
       "0  False  {'id': 10194, 'name': 'Toy Story Collection', ...  30000000   \n",
       "1  False                                                NaN  65000000   \n",
       "\n",
       "                                              genres  \\\n",
       "0  [{'id': 16, 'name': 'Animation'}, {'id': 35, '...   \n",
       "1  [{'id': 12, 'name': 'Adventure'}, {'id': 14, '...   \n",
       "\n",
       "                               homepage    id    imdb_id original_language  \\\n",
       "0  http://toystory.disney.com/toy-story   862  tt0114709                en   \n",
       "1                                   NaN  8844  tt0113497                en   \n",
       "\n",
       "  original_title                                           overview  ...  \\\n",
       "0      Toy Story  Led by Woody, Andy's toys live happily in his ...  ...   \n",
       "1        Jumanji  When siblings Judy and Peter discover an encha...  ...   \n",
       "\n",
       "  release_date      revenue runtime  \\\n",
       "0   1995-10-30  373554033.0    81.0   \n",
       "1   1995-12-15  262797249.0   104.0   \n",
       "\n",
       "                                    spoken_languages    status  \\\n",
       "0           [{'iso_639_1': 'en', 'name': 'English'}]  Released   \n",
       "1  [{'iso_639_1': 'en', 'name': 'English'}, {'iso...  Released   \n",
       "\n",
       "                                     tagline      title  video vote_average  \\\n",
       "0                                        NaN  Toy Story  False          7.7   \n",
       "1  Roll the dice and unleash the excitement!    Jumanji  False          6.9   \n",
       "\n",
       "  vote_count  \n",
       "0     5415.0  \n",
       "1     2413.0  \n",
       "\n",
       "[2 rows x 24 columns]"
      ]
     },
     "execution_count": 3,
     "metadata": {},
     "output_type": "execute_result"
    }
   ],
   "source": [
    "orig_md.head(2)"
   ]
  },
  {
   "cell_type": "markdown",
   "id": "7e32b7ce",
   "metadata": {},
   "source": [
    "it seems that some of the features has json values connected to other files. we will come back to this later. \\\n",
    "let's check our columns."
   ]
  },
  {
   "cell_type": "code",
   "execution_count": 4,
   "id": "eb03593d",
   "metadata": {},
   "outputs": [
    {
     "name": "stdout",
     "output_type": "stream",
     "text": [
      "<class 'pandas.core.frame.DataFrame'>\n",
      "RangeIndex: 45466 entries, 0 to 45465\n",
      "Data columns (total 24 columns):\n",
      " #   Column                 Non-Null Count  Dtype  \n",
      "---  ------                 --------------  -----  \n",
      " 0   adult                  45466 non-null  object \n",
      " 1   belongs_to_collection  4494 non-null   object \n",
      " 2   budget                 45466 non-null  object \n",
      " 3   genres                 45466 non-null  object \n",
      " 4   homepage               7782 non-null   object \n",
      " 5   id                     45466 non-null  object \n",
      " 6   imdb_id                45449 non-null  object \n",
      " 7   original_language      45455 non-null  object \n",
      " 8   original_title         45466 non-null  object \n",
      " 9   overview               44512 non-null  object \n",
      " 10  popularity             45461 non-null  object \n",
      " 11  poster_path            45080 non-null  object \n",
      " 12  production_companies   45463 non-null  object \n",
      " 13  production_countries   45463 non-null  object \n",
      " 14  release_date           45379 non-null  object \n",
      " 15  revenue                45460 non-null  float64\n",
      " 16  runtime                45203 non-null  float64\n",
      " 17  spoken_languages       45460 non-null  object \n",
      " 18  status                 45379 non-null  object \n",
      " 19  tagline                20412 non-null  object \n",
      " 20  title                  45460 non-null  object \n",
      " 21  video                  45460 non-null  object \n",
      " 22  vote_average           45460 non-null  float64\n",
      " 23  vote_count             45460 non-null  float64\n",
      "dtypes: float64(4), object(20)\n",
      "memory usage: 8.3+ MB\n"
     ]
    }
   ],
   "source": [
    "orig_md.info()"
   ]
  },
  {
   "cell_type": "markdown",
   "id": "21529dc7",
   "metadata": {},
   "source": [
    "let's make some data cleaning."
   ]
  },
  {
   "cell_type": "code",
   "execution_count": 5,
   "id": "e50a492c",
   "metadata": {},
   "outputs": [
    {
     "name": "stdout",
     "output_type": "stream",
     "text": [
      "The number of deleted rows with non integer id is:3\n"
     ]
    }
   ],
   "source": [
    "# let's delete all rows with non integer id.\n",
    "tmp = len(orig_md[~orig_md[\"id\"].str.match(\"^\\d+$\")])\n",
    "print(f'The number of deleted rows with non integer id is:{tmp}')\n",
    "orig_md = orig_md[orig_md['id'].str.match('^\\d+$')]"
   ]
  },
  {
   "cell_type": "markdown",
   "id": "72dc172d",
   "metadata": {},
   "source": [
    "let's take a look at genres feature."
   ]
  },
  {
   "cell_type": "code",
   "execution_count": 6,
   "id": "cf36cf31",
   "metadata": {},
   "outputs": [
    {
     "name": "stdout",
     "output_type": "stream",
     "text": [
      "[{'id': 16, 'name': 'Animation'}, {'id': 35, 'name': 'Comedy'}, {'id': 10751, 'name': 'Family'}]\n",
      "[{'id': 12, 'name': 'Adventure'}, {'id': 14, 'name': 'Fantasy'}, {'id': 10751, 'name': 'Family'}]\n"
     ]
    }
   ],
   "source": [
    "for i in orig_md['genres'][:2]:\n",
    "    print(i)"
   ]
  },
  {
   "cell_type": "markdown",
   "id": "f1766145",
   "metadata": {},
   "source": [
    "let's replace each element with the value of the name key."
   ]
  },
  {
   "cell_type": "code",
   "execution_count": 7,
   "id": "9337ab29",
   "metadata": {},
   "outputs": [],
   "source": [
    "# fill null values with empty list\n",
    "# evaluete the string so we can process it as list\n",
    "# replace each element by the name \n",
    "orig_md['genres']= orig_md['genres'].fillna('[]').apply(literal_eval) \\\n",
    "                                    .apply(lambda x: [i['name'] for i in x] if isinstance(x, list) else []) "
   ]
  },
  {
   "cell_type": "code",
   "execution_count": 8,
   "id": "aec97aae",
   "metadata": {},
   "outputs": [
    {
     "name": "stdout",
     "output_type": "stream",
     "text": [
      "['Animation', 'Comedy', 'Family']\n",
      "['Adventure', 'Fantasy', 'Family']\n"
     ]
    }
   ],
   "source": [
    "for i in orig_md['genres'][:2]:\n",
    "    print(i)"
   ]
  },
  {
   "cell_type": "code",
   "execution_count": 9,
   "id": "cab0ca16",
   "metadata": {},
   "outputs": [
    {
     "name": "stdout",
     "output_type": "stream",
     "text": [
      "['Drama', 'Western', 'History', 'Romance', 'Horror', 'Family', 'Documentary', 'Fantasy', 'TV Movie', 'War', 'Comedy', 'Action', 'Adventure', 'Mystery', 'Music', 'Science Fiction', 'Foreign', 'Thriller', 'Crime', 'Animation']\n"
     ]
    }
   ],
   "source": [
    "supported_genre= list(set([genre for movie_genres in orig_md['genres'].values.tolist() for genre in movie_genres]))\n",
    "print(supported_genre)"
   ]
  },
  {
   "cell_type": "markdown",
   "id": "1e38872f",
   "metadata": {},
   "source": [
    "now it's easier to deal with."
   ]
  },
  {
   "cell_type": "markdown",
   "id": "c9743a4a",
   "metadata": {},
   "source": [
    "## Base Recommendation System\n",
    "This System will recommend movies based on their popularity and genre (if user specified any). The basic rule is that movies that are popular are more have more (high) probability of being liked by the average user.\n"
   ]
  },
  {
   "cell_type": "code",
   "execution_count": 10,
   "id": "f9c7c06f",
   "metadata": {},
   "outputs": [],
   "source": [
    "md = orig_md.copy()"
   ]
  },
  {
   "cell_type": "markdown",
   "id": "fc618f47",
   "metadata": {},
   "source": [
    "$$ Weighted Rating (WR) = (\\frac{v}{v+m} * R)+(\\frac{m}{v+m} * C) $$\n",
    "\n",
    "where:\n",
    "- v is the number of votes for the movie\n",
    "- m is the minimum votes required to be listed in the chart\n",
    "- R is the average rating of the movie\n",
    "- C is the mean vote across the whole report\n"
   ]
  },
  {
   "cell_type": "code",
   "execution_count": 11,
   "id": "6c1124c1",
   "metadata": {},
   "outputs": [],
   "source": [
    "def weighted_rating(x, m, C):\n",
    "    \"\"\"Calculating 𝑊𝑒𝑖𝑔ℎ𝑡𝑒𝑑𝑅𝑎𝑡𝑖𝑛𝑔 of a movie.\n",
    "\n",
    "    Calculating 𝑊𝑒𝑖𝑔ℎ𝑡𝑒𝑑𝑅𝑎𝑡𝑖𝑛𝑔(𝑊𝑅) of a movie using the formula: \n",
    "            𝑊𝑅 =(𝑣 / (𝑣+𝑚) ∗ 𝑅) + (𝑚 / (𝑣+𝑚) ∗𝐶)\n",
    "\n",
    "    Args:\n",
    "        x (record): the feature of the movie.\n",
    "        m (float) : is the minimum votes required to be listed in the chart\n",
    "        C (flaot) : is the mean vote across the whole report\n",
    "\n",
    "    Returns:\n",
    "        𝑊𝑅 (flaot)\n",
    "    \"\"\"\n",
    "    v = x['vote_count'] # the number of votes for the movie\n",
    "    R = x['vote_average'] # the average rating of the movie\n",
    "    return (v/(v+m) * R) + (m/(m+v) * C)"
   ]
  },
  {
   "cell_type": "code",
   "execution_count": 12,
   "id": "dcb5fa3e",
   "metadata": {},
   "outputs": [],
   "source": [
    "def get_high_score_movies(genre, percentile=0.95):\n",
    "    \"\"\"get a list of recommendation.\n",
    "\n",
    "    this movie will return a list of movies depending on thier popularity and their genres.\n",
    "    first will get the movies that have the genres that our user requested. \n",
    "\n",
    "    Args:\n",
    "        x (record): the feature of the movie.\n",
    "        m (float) : is the minimum votes required to be listed in the chart\n",
    "        C (flaot) : is the mean vote across the whole report\n",
    "\n",
    "    Returns:\n",
    "        𝑊𝑅 (flaot)\n",
    "    \"\"\"\n",
    "    df = md[[set(genre).issubset(md['genres'].iloc[i])  for i in range(len(md['genres']))]]\n",
    "    \n",
    "    if len(df) == 0:\n",
    "        print('We did not find any movie')\n",
    "        return pd.DataFrame()\n",
    "    \n",
    "    # calculate the mean vote across the whole report. (ignore the null values)\n",
    "    C =  df[~df['vote_average'].isna()]['vote_average'].mean()\n",
    "\n",
    "    # calculate the minimum votes required to be cinsidered in the results. (ignore the null values)\n",
    "    # here we use quantile to get for example the top 5% popular movies.\n",
    "    m = df[~df['vote_count'].isna()]['vote_count'].quantile(percentile)\n",
    "    \n",
    "    considered = df[(df['vote_count'] >= m) # have votes more than m\n",
    "                    & (~ df['vote_count'].isna()) # asd \n",
    "                    & (~ df['vote_average'].isna())]\n",
    "    if len(considered) == 0:\n",
    "        print(\"There is no movies with satisfy your input\")\n",
    "        return pd.DataFrame()\n",
    "    \n",
    "    # get just there attributes to show.\n",
    "    considered = considered[['title', 'release_date', 'genres', 'vote_count', 'vote_average', 'popularity']]\n",
    "    \n",
    "    # calculate weighted_rating for each record depening on the above function.\n",
    "    considered['weighted rating'] = considered.apply(weighted_rating, args=(m, C), axis=1)\n",
    "    \n",
    "    # sort our values descending and get top 100\n",
    "    considered = considered.sort_values('weighted rating', ascending=False).head(100)\n",
    "    return considered"
   ]
  },
  {
   "cell_type": "code",
   "execution_count": 13,
   "id": "f21068ba",
   "metadata": {},
   "outputs": [
    {
     "name": "stdout",
     "output_type": "stream",
     "text": [
      "please chose one of these supported genres: ['Drama', 'Western', 'History', 'Romance', 'Horror', 'Family', 'Documentary', 'Fantasy', 'TV Movie', 'War', 'Comedy', 'Action', 'Adventure', 'Mystery', 'Music', 'Science Fiction', 'Foreign', 'Thriller', 'Crime', 'Animation']\n"
     ]
    }
   ],
   "source": [
    "print(f'please chose one of these supported genres: {supported_genre}')"
   ]
  },
  {
   "cell_type": "code",
   "execution_count": 14,
   "id": "f40b87ec",
   "metadata": {},
   "outputs": [
    {
     "data": {
      "text/html": [
       "<div>\n",
       "<style scoped>\n",
       "    .dataframe tbody tr th:only-of-type {\n",
       "        vertical-align: middle;\n",
       "    }\n",
       "\n",
       "    .dataframe tbody tr th {\n",
       "        vertical-align: top;\n",
       "    }\n",
       "\n",
       "    .dataframe thead th {\n",
       "        text-align: right;\n",
       "    }\n",
       "</style>\n",
       "<table border=\"1\" class=\"dataframe\">\n",
       "  <thead>\n",
       "    <tr style=\"text-align: right;\">\n",
       "      <th></th>\n",
       "      <th>title</th>\n",
       "      <th>release_date</th>\n",
       "      <th>genres</th>\n",
       "      <th>vote_count</th>\n",
       "      <th>vote_average</th>\n",
       "      <th>popularity</th>\n",
       "      <th>weighted rating</th>\n",
       "    </tr>\n",
       "  </thead>\n",
       "  <tbody>\n",
       "    <tr>\n",
       "      <th>45258</th>\n",
       "      <td>Descendants 2</td>\n",
       "      <td>2017-07-21</td>\n",
       "      <td>[TV Movie, Family, Action, Comedy, Music, Adve...</td>\n",
       "      <td>171.0</td>\n",
       "      <td>7.5</td>\n",
       "      <td>15.842073</td>\n",
       "      <td>6.546735</td>\n",
       "    </tr>\n",
       "    <tr>\n",
       "      <th>11034</th>\n",
       "      <td>High School Musical</td>\n",
       "      <td>2006-01-20</td>\n",
       "      <td>[Comedy, Drama, Family, Music, TV Movie]</td>\n",
       "      <td>1048.0</td>\n",
       "      <td>6.1</td>\n",
       "      <td>10.187478</td>\n",
       "      <td>6.023472</td>\n",
       "    </tr>\n",
       "    <tr>\n",
       "      <th>13090</th>\n",
       "      <td>Camp Rock</td>\n",
       "      <td>2008-06-20</td>\n",
       "      <td>[Comedy, Drama, Family, Music, TV Movie]</td>\n",
       "      <td>432.0</td>\n",
       "      <td>6.0</td>\n",
       "      <td>5.840379</td>\n",
       "      <td>5.870415</td>\n",
       "    </tr>\n",
       "  </tbody>\n",
       "</table>\n",
       "</div>"
      ],
      "text/plain": [
       "                     title release_date  \\\n",
       "45258        Descendants 2   2017-07-21   \n",
       "11034  High School Musical   2006-01-20   \n",
       "13090            Camp Rock   2008-06-20   \n",
       "\n",
       "                                                  genres  vote_count  \\\n",
       "45258  [TV Movie, Family, Action, Comedy, Music, Adve...       171.0   \n",
       "11034           [Comedy, Drama, Family, Music, TV Movie]      1048.0   \n",
       "13090           [Comedy, Drama, Family, Music, TV Movie]       432.0   \n",
       "\n",
       "       vote_average popularity  weighted rating  \n",
       "45258           7.5  15.842073         6.546735  \n",
       "11034           6.1  10.187478         6.023472  \n",
       "13090           6.0   5.840379         5.870415  "
      ]
     },
     "execution_count": 14,
     "metadata": {},
     "output_type": "execute_result"
    }
   ],
   "source": [
    "get_high_score_movies(['TV Movie', 'Family'], percentile=0.95).head(3)"
   ]
  },
  {
   "cell_type": "code",
   "execution_count": 15,
   "id": "1d94a4aa",
   "metadata": {},
   "outputs": [
    {
     "data": {
      "text/html": [
       "<div>\n",
       "<style scoped>\n",
       "    .dataframe tbody tr th:only-of-type {\n",
       "        vertical-align: middle;\n",
       "    }\n",
       "\n",
       "    .dataframe tbody tr th {\n",
       "        vertical-align: top;\n",
       "    }\n",
       "\n",
       "    .dataframe thead th {\n",
       "        text-align: right;\n",
       "    }\n",
       "</style>\n",
       "<table border=\"1\" class=\"dataframe\">\n",
       "  <thead>\n",
       "    <tr style=\"text-align: right;\">\n",
       "      <th></th>\n",
       "      <th>title</th>\n",
       "      <th>release_date</th>\n",
       "      <th>genres</th>\n",
       "      <th>vote_count</th>\n",
       "      <th>vote_average</th>\n",
       "      <th>popularity</th>\n",
       "      <th>weighted rating</th>\n",
       "    </tr>\n",
       "  </thead>\n",
       "  <tbody>\n",
       "    <tr>\n",
       "      <th>314</th>\n",
       "      <td>The Shawshank Redemption</td>\n",
       "      <td>1994-09-23</td>\n",
       "      <td>[Drama, Crime]</td>\n",
       "      <td>8358.0</td>\n",
       "      <td>8.5</td>\n",
       "      <td>51.645403</td>\n",
       "      <td>8.357746</td>\n",
       "    </tr>\n",
       "    <tr>\n",
       "      <th>834</th>\n",
       "      <td>The Godfather</td>\n",
       "      <td>1972-03-14</td>\n",
       "      <td>[Drama, Crime]</td>\n",
       "      <td>6024.0</td>\n",
       "      <td>8.5</td>\n",
       "      <td>41.109264</td>\n",
       "      <td>8.306334</td>\n",
       "    </tr>\n",
       "    <tr>\n",
       "      <th>12481</th>\n",
       "      <td>The Dark Knight</td>\n",
       "      <td>2008-07-16</td>\n",
       "      <td>[Drama, Action, Crime, Thriller]</td>\n",
       "      <td>12269.0</td>\n",
       "      <td>8.3</td>\n",
       "      <td>123.167259</td>\n",
       "      <td>8.208376</td>\n",
       "    </tr>\n",
       "  </tbody>\n",
       "</table>\n",
       "</div>"
      ],
      "text/plain": [
       "                          title release_date  \\\n",
       "314    The Shawshank Redemption   1994-09-23   \n",
       "834               The Godfather   1972-03-14   \n",
       "12481           The Dark Knight   2008-07-16   \n",
       "\n",
       "                                 genres  vote_count  vote_average  popularity  \\\n",
       "314                      [Drama, Crime]      8358.0           8.5   51.645403   \n",
       "834                      [Drama, Crime]      6024.0           8.5   41.109264   \n",
       "12481  [Drama, Action, Crime, Thriller]     12269.0           8.3  123.167259   \n",
       "\n",
       "       weighted rating  \n",
       "314           8.357746  \n",
       "834           8.306334  \n",
       "12481         8.208376  "
      ]
     },
     "execution_count": 15,
     "metadata": {},
     "output_type": "execute_result"
    }
   ],
   "source": [
    "get_high_score_movies([], percentile=0.95).head(3)"
   ]
  },
  {
   "cell_type": "markdown",
   "id": "1df38e37",
   "metadata": {},
   "source": [
    "# Content Based Recommender\n",
    "First we will use the small dataset so we don't waste much resources."
   ]
  },
  {
   "cell_type": "code",
   "execution_count": 16,
   "id": "a50ef682",
   "metadata": {},
   "outputs": [],
   "source": [
    "links_small = pd.read_csv('data/recmmendation_system/links_small.csv')\n",
    "links_small = links_small[links_small['tmdbId'].notnull()]['tmdbId'].astype('int')"
   ]
  },
  {
   "cell_type": "markdown",
   "id": "ed3bd7ed",
   "metadata": {},
   "source": [
    "read keywords and credits datasets: \\\n",
    "\n",
    "keywords.csv: Contains the movie plot (the narrative sequence of events that determine the outcome of the characters) keywords for our MovieLens movies. Available in the form of a stringified JSON Object.\n",
    "\n",
    "credits.csv: Consists of Cast and Crew Information for all our movies. Available in the form of a stringified JSON Object."
   ]
  },
  {
   "cell_type": "code",
   "execution_count": 17,
   "id": "2be8641b",
   "metadata": {},
   "outputs": [],
   "source": [
    "credits = pd.read_csv('data/recmmendation_system/credits.csv')\n",
    "keywords = pd.read_csv('data/recmmendation_system/keywords.csv')"
   ]
  },
  {
   "cell_type": "markdown",
   "id": "1e3ad1fd",
   "metadata": {},
   "source": [
    "we need to understand what are the credits and keywords and their architecture. \\\n",
    "\n",
    "starting from credits"
   ]
  },
  {
   "cell_type": "code",
   "execution_count": 18,
   "id": "21fd6c1d",
   "metadata": {
    "scrolled": false
   },
   "outputs": [
    {
     "data": {
      "text/html": [
       "<div>\n",
       "<style scoped>\n",
       "    .dataframe tbody tr th:only-of-type {\n",
       "        vertical-align: middle;\n",
       "    }\n",
       "\n",
       "    .dataframe tbody tr th {\n",
       "        vertical-align: top;\n",
       "    }\n",
       "\n",
       "    .dataframe thead th {\n",
       "        text-align: right;\n",
       "    }\n",
       "</style>\n",
       "<table border=\"1\" class=\"dataframe\">\n",
       "  <thead>\n",
       "    <tr style=\"text-align: right;\">\n",
       "      <th></th>\n",
       "      <th>cast</th>\n",
       "      <th>crew</th>\n",
       "      <th>id</th>\n",
       "    </tr>\n",
       "  </thead>\n",
       "  <tbody>\n",
       "    <tr>\n",
       "      <th>0</th>\n",
       "      <td>[{'cast_id': 14, 'character': 'Woody (voice)',...</td>\n",
       "      <td>[{'credit_id': '52fe4284c3a36847f8024f49', 'de...</td>\n",
       "      <td>862</td>\n",
       "    </tr>\n",
       "    <tr>\n",
       "      <th>1</th>\n",
       "      <td>[{'cast_id': 1, 'character': 'Alan Parrish', '...</td>\n",
       "      <td>[{'credit_id': '52fe44bfc3a36847f80a7cd1', 'de...</td>\n",
       "      <td>8844</td>\n",
       "    </tr>\n",
       "  </tbody>\n",
       "</table>\n",
       "</div>"
      ],
      "text/plain": [
       "                                                cast  \\\n",
       "0  [{'cast_id': 14, 'character': 'Woody (voice)',...   \n",
       "1  [{'cast_id': 1, 'character': 'Alan Parrish', '...   \n",
       "\n",
       "                                                crew    id  \n",
       "0  [{'credit_id': '52fe4284c3a36847f8024f49', 'de...   862  \n",
       "1  [{'credit_id': '52fe44bfc3a36847f80a7cd1', 'de...  8844  "
      ]
     },
     "execution_count": 18,
     "metadata": {},
     "output_type": "execute_result"
    }
   ],
   "source": [
    "credits[:2]"
   ]
  },
  {
   "cell_type": "markdown",
   "id": "6fe22a07",
   "metadata": {},
   "source": [
    "let's check what are the keys in cast and crew fields"
   ]
  },
  {
   "cell_type": "code",
   "execution_count": 19,
   "id": "63da57bf",
   "metadata": {},
   "outputs": [
    {
     "name": "stdout",
     "output_type": "stream",
     "text": [
      "cast attribute are: ['cast_id', 'character', 'credit_id', 'gender', 'id', 'name', 'order', 'profile_path']\n",
      "crew attribute are: ['credit_id', 'department', 'gender', 'id', 'job', 'name', 'profile_path']\n"
     ]
    }
   ],
   "source": [
    "rec  = credits.iloc[0]\n",
    "cast = literal_eval(rec['cast'])\n",
    "print('cast attribute are:', list(cast[0].keys()))\n",
    "\n",
    "crew = literal_eval(rec['crew'])\n",
    "print('crew attribute are:', list(crew[0].keys()))"
   ]
  },
  {
   "cell_type": "markdown",
   "id": "c1edb06c",
   "metadata": {},
   "source": [
    "let's dig deeper a little bit and print the cast and crew members."
   ]
  },
  {
   "cell_type": "code",
   "execution_count": 20,
   "id": "777a3d36",
   "metadata": {
    "scrolled": false
   },
   "outputs": [
    {
     "name": "stdout",
     "output_type": "stream",
     "text": [
      "Cast members are:\n",
      "{'name': 'Tom Hanks', 'character': 'Woody (voice)'}\n",
      "{'name': 'Tim Allen', 'character': 'Buzz Lightyear (voice)'}\n",
      "{'name': 'Don Rickles', 'character': 'Mr. Potato Head (voice)'}\n",
      "\n",
      "Crew Members are:\n",
      "{'name': 'John Lasseter', 'job': 'Director'}\n",
      "{'name': 'Joss Whedon', 'job': 'Screenplay'}\n",
      "{'name': 'Andrew Stanton', 'job': 'Screenplay'}\n"
     ]
    }
   ],
   "source": [
    "rec  = credits.iloc[0]\n",
    "print(\"Cast members are:\")\n",
    "cast = literal_eval(rec['cast'])\n",
    "for c in cast[:3]:\n",
    "    print({\"name\" : c['name'], \"character\": c['character']})\n",
    "\n",
    "print(\"\\nCrew Members are:\")\n",
    "crew = literal_eval(rec['crew'])\n",
    "for c in crew[:3]:\n",
    "    print({\"name\" : c['name'], \"job\": c['job']})"
   ]
  },
  {
   "cell_type": "markdown",
   "id": "eca8c803",
   "metadata": {},
   "source": [
    "now we need to understand keywords dataset:"
   ]
  },
  {
   "cell_type": "code",
   "execution_count": 21,
   "id": "56228c84",
   "metadata": {},
   "outputs": [
    {
     "data": {
      "text/html": [
       "<div>\n",
       "<style scoped>\n",
       "    .dataframe tbody tr th:only-of-type {\n",
       "        vertical-align: middle;\n",
       "    }\n",
       "\n",
       "    .dataframe tbody tr th {\n",
       "        vertical-align: top;\n",
       "    }\n",
       "\n",
       "    .dataframe thead th {\n",
       "        text-align: right;\n",
       "    }\n",
       "</style>\n",
       "<table border=\"1\" class=\"dataframe\">\n",
       "  <thead>\n",
       "    <tr style=\"text-align: right;\">\n",
       "      <th></th>\n",
       "      <th>id</th>\n",
       "      <th>keywords</th>\n",
       "    </tr>\n",
       "  </thead>\n",
       "  <tbody>\n",
       "    <tr>\n",
       "      <th>0</th>\n",
       "      <td>862</td>\n",
       "      <td>[{'id': 931, 'name': 'jealousy'}, {'id': 4290,...</td>\n",
       "    </tr>\n",
       "    <tr>\n",
       "      <th>1</th>\n",
       "      <td>8844</td>\n",
       "      <td>[{'id': 10090, 'name': 'board game'}, {'id': 1...</td>\n",
       "    </tr>\n",
       "  </tbody>\n",
       "</table>\n",
       "</div>"
      ],
      "text/plain": [
       "     id                                           keywords\n",
       "0   862  [{'id': 931, 'name': 'jealousy'}, {'id': 4290,...\n",
       "1  8844  [{'id': 10090, 'name': 'board game'}, {'id': 1..."
      ]
     },
     "execution_count": 21,
     "metadata": {},
     "output_type": "execute_result"
    }
   ],
   "source": [
    "keywords[:2]"
   ]
  },
  {
   "cell_type": "code",
   "execution_count": 22,
   "id": "c6fda8a4",
   "metadata": {},
   "outputs": [
    {
     "name": "stdout",
     "output_type": "stream",
     "text": [
      "[{'id': 931, 'name': 'jealousy'}, {'id': 4290, 'name': 'toy'}, {'id': 5202, 'name': 'boy'}, {'id': 6054, 'name': 'friendship'}, {'id': 9713, 'name': 'friends'}, {'id': 9823, 'name': 'rivalry'}, {'id': 165503, 'name': 'boy next door'}, {'id': 170722, 'name': 'new toy'}, {'id': 187065, 'name': 'toy comes to life'}]\n"
     ]
    }
   ],
   "source": [
    "# printing the keywords of the first record.\n",
    "rec  = keywords.iloc[0]\n",
    "rec_keywords = literal_eval(rec['keywords'])\n",
    "print(rec_keywords)"
   ]
  },
  {
   "cell_type": "markdown",
   "id": "aa67c1d4",
   "metadata": {},
   "source": [
    "so the keywords of each record are a list of dicts. later we need to process that and keep just the name of the keywords.\\ \n",
    "\n",
    "\n",
    "now let's starting working on merging credits and keywords with out main dataset, then we will do some data preprocessing, and finally build a content base recommendation system."
   ]
  },
  {
   "cell_type": "code",
   "execution_count": 23,
   "id": "0daac506",
   "metadata": {},
   "outputs": [],
   "source": [
    "md = orig_md.copy()\n",
    "\n",
    "# get movies that exist in the small dataset.\n",
    "md = md[md['id'].astype('int').isin(links_small)]"
   ]
  },
  {
   "cell_type": "code",
   "execution_count": 24,
   "id": "a17e2679",
   "metadata": {},
   "outputs": [],
   "source": [
    "# cast the id of our datasets to int.\n",
    "keywords['id'] = keywords['id'].astype('int')\n",
    "credits['id'] = credits['id'].astype('int')\n",
    "md['id'] = md['id'].astype('int')"
   ]
  },
  {
   "cell_type": "code",
   "execution_count": 25,
   "id": "536854e9",
   "metadata": {},
   "outputs": [],
   "source": [
    "# Merge our data set with both credits and keywords based of id.\n",
    "md = md.merge(credits, on='id')\n",
    "md = md.merge(keywords, on='id')"
   ]
  },
  {
   "cell_type": "code",
   "execution_count": 26,
   "id": "23ad2dff",
   "metadata": {},
   "outputs": [
    {
     "name": "stdout",
     "output_type": "stream",
     "text": [
      "['adult' 'belongs_to_collection' 'budget' 'genres' 'homepage' 'id'\n",
      " 'imdb_id' 'original_language' 'original_title' 'overview' 'popularity'\n",
      " 'poster_path' 'production_companies' 'production_countries'\n",
      " 'release_date' 'revenue' 'runtime' 'spoken_languages' 'status' 'tagline'\n",
      " 'title' 'video' 'vote_average' 'vote_count' 'cast' 'crew' 'keywords']\n"
     ]
    }
   ],
   "source": [
    "print(md.columns.values)"
   ]
  },
  {
   "cell_type": "markdown",
   "id": "9f858523",
   "metadata": {},
   "source": [
    "we can see that crew and cast of each movie has been added to the main dataset. now let's apply some cleaning."
   ]
  },
  {
   "cell_type": "code",
   "execution_count": 27,
   "id": "f8e072ab",
   "metadata": {},
   "outputs": [],
   "source": [
    "# apply literal_eval to cast and crew to evaluate string to list of dicts.\n",
    "md['cast'] = md['cast'].apply(literal_eval)\n",
    "md['crew'] = md['crew'].apply(literal_eval)\n",
    "md['keywords'] = md['keywords'].apply(literal_eval)\n",
    "\n",
    "# # save the cast and crew size\n",
    "# md['cast_size'] = md['cast'].apply(lambda x: len(x))\n",
    "# md['crew_size'] = md['crew'].apply(lambda x: len(x))"
   ]
  },
  {
   "cell_type": "code",
   "execution_count": 28,
   "id": "255425b7",
   "metadata": {},
   "outputs": [],
   "source": [
    "def get_director(x):\n",
    "    \"\"\"get the name of the director.\n",
    "\n",
    "    take a movie record from our data set, and return \n",
    "    the name of the director if it's exits else return null.\n",
    "\n",
    "    Args:\n",
    "        x (record): the feature of the movie.\n",
    "\n",
    "    Returns:\n",
    "        director name (string) or null.\n",
    "    \"\"\"\n",
    "    for i in x:\n",
    "        if i['job'] == 'Director':\n",
    "            return i['name']\n",
    "    return np.nan"
   ]
  },
  {
   "cell_type": "code",
   "execution_count": 29,
   "id": "1f8d8d7e",
   "metadata": {},
   "outputs": [],
   "source": [
    "def get_producer(x):\n",
    "    \"\"\"get the name of the producer.\n",
    "\n",
    "    take a movie record from our data set, and return \n",
    "    the name of the producer if it's exits else return null.\n",
    "\n",
    "    Args:\n",
    "        x (record): the feature of the movie.\n",
    "\n",
    "    Returns:\n",
    "        producer name (string) or null.\n",
    "    \"\"\"\n",
    "    for i in x:\n",
    "        if i['job'] == 'Producer':\n",
    "            return i['name']\n",
    "    return np.nan"
   ]
  },
  {
   "cell_type": "code",
   "execution_count": 30,
   "id": "06161eae",
   "metadata": {},
   "outputs": [],
   "source": [
    "# add two new features: the name of the director and the name of the producer\n",
    "md['director'] = md['crew'].apply(get_director)\n",
    "md['producer'] = md['crew'].apply(get_producer)"
   ]
  },
  {
   "cell_type": "code",
   "execution_count": 31,
   "id": "e2adceb0",
   "metadata": {},
   "outputs": [],
   "source": [
    "# get the name of each one of the cast.\n",
    "md['cast'] = md['cast'].apply(lambda x: [i['name'] for i in x] if isinstance(x, list) else [])\n",
    "\n",
    "# keep just 5 of the whold cast.\n",
    "md['cast'] = md['cast'].apply(lambda x: x[:5] if len(x) >=5 else x)\n",
    "\n",
    "# put underscore between first and last name to make the model not confuse Kate Hudson & Katy Perry.\n",
    "md['cast'] = md['cast'].apply(lambda x: [str.lower(i.replace(\" \", \"_\")) for i in x])"
   ]
  },
  {
   "cell_type": "code",
   "execution_count": 32,
   "id": "c6491431",
   "metadata": {},
   "outputs": [],
   "source": [
    "# get the name of each keyword without the id.\n",
    "md['keywords'] = md['keywords'].apply(lambda x: [i['name'] for i in x] if isinstance(x, list) else [])\n",
    "\n",
    "# get all keywords and stack them in a pandas series object.\n",
    "keywords_series = md.apply(lambda x: pd.Series(x['keywords']),axis=1).stack().reset_index(level=1, drop=True)\n",
    "\n",
    "# calculate the count of each different value in s.\n",
    "keywords_series = keywords_series.value_counts()\n",
    "\n",
    "# keep keywords that occurred more than 1. \n",
    "keywords_series = keywords_series[keywords_series > 1]\n",
    "\n",
    "# define an English Stemmer.\n",
    "stemmer = SnowballStemmer('english')"
   ]
  },
  {
   "cell_type": "code",
   "execution_count": 33,
   "id": "dab9b7f3",
   "metadata": {},
   "outputs": [],
   "source": [
    "def filter_keywords(x): #keywords_series\n",
    "    \"\"\"filter keywords and keep whose in keywords_series.\n",
    "\n",
    "    this function iterate through the keywords of x and keep just keywords that exist in keywords_series. \n",
    "    save the result in words list.\n",
    "\n",
    "    Args:\n",
    "        x (record): the keywords of a movie.\n",
    "        s (pandas.core.series.Series): has our list of keywords.\n",
    "\n",
    "    Returns:\n",
    "        words (list): the list of keywords that we kept.\n",
    "    \"\"\"\n",
    "    words = []\n",
    "    # for word in x\n",
    "    for word in x:\n",
    "        if word in keywords_series:\n",
    "            words.append(word)\n",
    "    return words"
   ]
  },
  {
   "cell_type": "code",
   "execution_count": 34,
   "id": "3c922424",
   "metadata": {},
   "outputs": [],
   "source": [
    "# filter words and just the one in s.\n",
    "md['keywords'] = md['keywords'].apply(filter_keywords)\n",
    "\n",
    "# get the stem of each word of the keywords\n",
    "md['keywords'] = md['keywords'].apply(lambda x: [stemmer.stem(i) for i in x])\n",
    "\n",
    "# convert keyword to lowecase and replace space with underscore.\n",
    "md['keywords'] = md['keywords'].apply(lambda x: [str.lower(i.replace(\" \", \"_\")) for i in x])"
   ]
  },
  {
   "cell_type": "code",
   "execution_count": 35,
   "id": "cff88ffd",
   "metadata": {},
   "outputs": [],
   "source": [
    "# replace the space with _\n",
    "md['director'] = md['director'].astype('str').apply(lambda x: str.lower(x.replace(\" \", \"_\")))\n",
    "\n",
    "# repaeat 3 times to increase the importance of the Director\n",
    "md['director'] = md['director'].apply(lambda x: [x,x,x])\n",
    "\n",
    "# replace the space with _\n",
    "md['producer'] = md['producer'].astype('str').apply(lambda x: str.lower(x.replace(\" \", \"_\")))\n",
    "\n",
    "# repaeat 3 times to increase the importance of the producer\n",
    "md['producer'] = md['producer'].apply(lambda x: [x,x])"
   ]
  },
  {
   "cell_type": "code",
   "execution_count": 36,
   "id": "1f8a4876",
   "metadata": {},
   "outputs": [],
   "source": [
    "# create now our content from the keywords \n",
    "# and the name of the cast and the name of director, producer and the genres. \n",
    "md['content'] = md['keywords'] + md['cast'] + md['director'] + md['producer'] + md['genres']\n",
    "md['content'] = md['content'].apply(lambda x: ' '.join(x))"
   ]
  },
  {
   "cell_type": "code",
   "execution_count": 37,
   "id": "3b7b5c95",
   "metadata": {},
   "outputs": [],
   "source": [
    "# calculate the count of each token in each content.\n",
    "count = CountVectorizer(analyzer='word',ngram_range=(1, 2), min_df=0, stop_words='english')\n",
    "count_matrix = count.fit_transform(md['content'])"
   ]
  },
  {
   "cell_type": "code",
   "execution_count": 38,
   "id": "9318a3db",
   "metadata": {},
   "outputs": [],
   "source": [
    "# calculate the cosine similarity between different contents. \n",
    "cosine_sim = cosine_similarity(count_matrix, count_matrix)"
   ]
  },
  {
   "cell_type": "code",
   "execution_count": 39,
   "id": "68b4d401",
   "metadata": {},
   "outputs": [],
   "source": [
    "# reset the index to access records easily\n",
    "md = md.reset_index()"
   ]
  },
  {
   "cell_type": "code",
   "execution_count": 40,
   "id": "b4b004cf",
   "metadata": {},
   "outputs": [],
   "source": [
    "# keep the title to get the index of the movie from its title.\n",
    "titles = md['title']\n",
    "\n",
    "# it's imoprtant to make the index of title is the index of our dataset.\n",
    "indices = pd.Series(md.index, index=md['title'])"
   ]
  },
  {
   "cell_type": "code",
   "execution_count": 41,
   "id": "e593069d",
   "metadata": {},
   "outputs": [],
   "source": [
    "def get_content_base_recommendations(title):\n",
    "    \"\"\"get the recommendation based on the content of the movie.\n",
    "\n",
    "    this function use the similarity score between our movie and other movies in our dataset,\n",
    "    to get movies that are more similar to our movies, then it use the vote count and vote average to\n",
    "    get red of ones with low vote count and low and to weight resulting movies to return them sorted.  \n",
    "\n",
    "    Args:\n",
    "        title (string): title of a movie to find similar ones to it.\n",
    "\n",
    "    Returns:\n",
    "        considered (pd.dataframe): dataframe has the similar movies to the input.\n",
    "    \"\"\"\n",
    "        \n",
    "    # get the index of our movie\n",
    "    idx = indices[title]\n",
    "\n",
    "    # build a list of tuple, each tuple has (index, sim) for our movie.\n",
    "    sim_scores = list(enumerate(cosine_sim[idx]))\n",
    "\n",
    "    # sort according to similarity\n",
    "    sim_scores = sorted(sim_scores, key=lambda x: x[1], reverse=True)\n",
    "\n",
    "    # get first 20 results.\n",
    "    sim_scores = sim_scores[1:21]\n",
    "\n",
    "    # get the indices of the similar movies. (the first element of the tuple)\n",
    "    movie_indices = [i[0] for i in sim_scores]\n",
    "\n",
    "    # get the movie record usign their indecis and keep just these cols.\n",
    "    movies = md.iloc[movie_indices][['title', 'vote_count', 'vote_average']]\n",
    "\n",
    "    # get vote_counts of the movies and get rid of movies that has no count.\n",
    "    vote_counts = movies[~movies['vote_count'].isna()]['vote_count'].astype('int')\n",
    "\n",
    "    # get average vote of the movies and get rid of movies that has no average vote.\n",
    "    vote_averages = movies[movies['vote_average'].notnull()]['vote_average'].astype('int')\n",
    "\n",
    "    # calculate the mean of the votes.\n",
    "    average_vote = vote_averages.mean()\n",
    "\n",
    "    # calculate the minimum_vote_count to get the top 40% movies.\n",
    "    minimum_vote_count = vote_counts.quantile(0.60)\n",
    "\n",
    "    # get movies with vote more that \n",
    "    considered = movies[(movies['vote_count'] >= minimum_vote_count) & \n",
    "                        (~ movies['vote_count'].isna()) & \n",
    "                        (~ movies['vote_average'].isna())]\n",
    "\n",
    "    # order the movie according to weighted rating.\n",
    "\n",
    "    # get the vote count and average of just the movie that we want to consider.\n",
    "    considered['vote_count'] = considered['vote_count'].astype('int')\n",
    "    considered['vote_average'] = considered['vote_average'].astype('int')\n",
    "\n",
    "    # calculate weighted rating according to the previous formula.\n",
    "    considered['weighted rating'] = considered.apply(weighted_rating, args=(minimum_vote_count, average_vote), axis=1)\n",
    "\n",
    "    # sort the results descendingly.\n",
    "    considered = considered.sort_values('weighted rating', ascending=False).head(10)\n",
    "    \n",
    "    return considered"
   ]
  },
  {
   "cell_type": "code",
   "execution_count": 42,
   "id": "17b79d3c",
   "metadata": {},
   "outputs": [
    {
     "data": {
      "text/html": [
       "<div>\n",
       "<style scoped>\n",
       "    .dataframe tbody tr th:only-of-type {\n",
       "        vertical-align: middle;\n",
       "    }\n",
       "\n",
       "    .dataframe tbody tr th {\n",
       "        vertical-align: top;\n",
       "    }\n",
       "\n",
       "    .dataframe thead th {\n",
       "        text-align: right;\n",
       "    }\n",
       "</style>\n",
       "<table border=\"1\" class=\"dataframe\">\n",
       "  <thead>\n",
       "    <tr style=\"text-align: right;\">\n",
       "      <th></th>\n",
       "      <th>title</th>\n",
       "      <th>vote_count</th>\n",
       "      <th>vote_average</th>\n",
       "      <th>weighted rating</th>\n",
       "    </tr>\n",
       "  </thead>\n",
       "  <tbody>\n",
       "    <tr>\n",
       "      <th>7648</th>\n",
       "      <td>Inception</td>\n",
       "      <td>14075</td>\n",
       "      <td>8</td>\n",
       "      <td>7.873350</td>\n",
       "    </tr>\n",
       "    <tr>\n",
       "      <th>6981</th>\n",
       "      <td>The Dark Knight</td>\n",
       "      <td>12269</td>\n",
       "      <td>8</td>\n",
       "      <td>7.856283</td>\n",
       "    </tr>\n",
       "    <tr>\n",
       "      <th>8613</th>\n",
       "      <td>Interstellar</td>\n",
       "      <td>11187</td>\n",
       "      <td>8</td>\n",
       "      <td>7.843661</td>\n",
       "    </tr>\n",
       "    <tr>\n",
       "      <th>3381</th>\n",
       "      <td>Memento</td>\n",
       "      <td>4168</td>\n",
       "      <td>8</td>\n",
       "      <td>7.636653</td>\n",
       "    </tr>\n",
       "    <tr>\n",
       "      <th>8031</th>\n",
       "      <td>The Dark Knight Rises</td>\n",
       "      <td>9263</td>\n",
       "      <td>7</td>\n",
       "      <td>6.923711</td>\n",
       "    </tr>\n",
       "    <tr>\n",
       "      <th>6218</th>\n",
       "      <td>Batman Begins</td>\n",
       "      <td>7511</td>\n",
       "      <td>7</td>\n",
       "      <td>6.908248</td>\n",
       "    </tr>\n",
       "    <tr>\n",
       "      <th>4145</th>\n",
       "      <td>Insomnia</td>\n",
       "      <td>1181</td>\n",
       "      <td>6</td>\n",
       "      <td>6.146889</td>\n",
       "    </tr>\n",
       "    <tr>\n",
       "      <th>8419</th>\n",
       "      <td>Man of Steel</td>\n",
       "      <td>6462</td>\n",
       "      <td>6</td>\n",
       "      <td>6.044753</td>\n",
       "    </tr>\n",
       "  </tbody>\n",
       "</table>\n",
       "</div>"
      ],
      "text/plain": [
       "                      title  vote_count  vote_average  weighted rating\n",
       "7648              Inception       14075             8         7.873350\n",
       "6981        The Dark Knight       12269             8         7.856283\n",
       "8613           Interstellar       11187             8         7.843661\n",
       "3381                Memento        4168             8         7.636653\n",
       "8031  The Dark Knight Rises        9263             7         6.923711\n",
       "6218          Batman Begins        7511             7         6.908248\n",
       "4145               Insomnia        1181             6         6.146889\n",
       "8419           Man of Steel        6462             6         6.044753"
      ]
     },
     "execution_count": 42,
     "metadata": {},
     "output_type": "execute_result"
    }
   ],
   "source": [
    "get_content_base_recommendations('The Prestige')"
   ]
  },
  {
   "cell_type": "markdown",
   "id": "6acc9dd5",
   "metadata": {},
   "source": [
    "# Collaborative Filtering Recommendation System."
   ]
  },
  {
   "cell_type": "markdown",
   "id": "ade69bdc",
   "metadata": {},
   "source": [
    "The assumption of this approach is that people who have liked an item in the past will also like the same in future. This approach builds a model based on the past behaviour of users. The user behaviour may include previously watched videos, purchased items, given ratings on items. In this way, the model finds an association between the users and the items. The model is then used to predict the item or a rating for the item in which the user may be interested."
   ]
  },
  {
   "cell_type": "markdown",
   "id": "689801fd",
   "metadata": {},
   "source": [
    "read the small rating dataset."
   ]
  },
  {
   "cell_type": "code",
   "execution_count": 43,
   "id": "65054fab",
   "metadata": {},
   "outputs": [
    {
     "data": {
      "text/html": [
       "<div>\n",
       "<style scoped>\n",
       "    .dataframe tbody tr th:only-of-type {\n",
       "        vertical-align: middle;\n",
       "    }\n",
       "\n",
       "    .dataframe tbody tr th {\n",
       "        vertical-align: top;\n",
       "    }\n",
       "\n",
       "    .dataframe thead th {\n",
       "        text-align: right;\n",
       "    }\n",
       "</style>\n",
       "<table border=\"1\" class=\"dataframe\">\n",
       "  <thead>\n",
       "    <tr style=\"text-align: right;\">\n",
       "      <th></th>\n",
       "      <th>userId</th>\n",
       "      <th>movieId</th>\n",
       "      <th>rating</th>\n",
       "      <th>timestamp</th>\n",
       "    </tr>\n",
       "  </thead>\n",
       "  <tbody>\n",
       "    <tr>\n",
       "      <th>0</th>\n",
       "      <td>1</td>\n",
       "      <td>31</td>\n",
       "      <td>2.5</td>\n",
       "      <td>1260759144</td>\n",
       "    </tr>\n",
       "    <tr>\n",
       "      <th>1</th>\n",
       "      <td>1</td>\n",
       "      <td>1029</td>\n",
       "      <td>3.0</td>\n",
       "      <td>1260759179</td>\n",
       "    </tr>\n",
       "    <tr>\n",
       "      <th>2</th>\n",
       "      <td>1</td>\n",
       "      <td>1061</td>\n",
       "      <td>3.0</td>\n",
       "      <td>1260759182</td>\n",
       "    </tr>\n",
       "    <tr>\n",
       "      <th>3</th>\n",
       "      <td>1</td>\n",
       "      <td>1129</td>\n",
       "      <td>2.0</td>\n",
       "      <td>1260759185</td>\n",
       "    </tr>\n",
       "    <tr>\n",
       "      <th>4</th>\n",
       "      <td>1</td>\n",
       "      <td>1172</td>\n",
       "      <td>4.0</td>\n",
       "      <td>1260759205</td>\n",
       "    </tr>\n",
       "    <tr>\n",
       "      <th>5</th>\n",
       "      <td>1</td>\n",
       "      <td>1263</td>\n",
       "      <td>2.0</td>\n",
       "      <td>1260759151</td>\n",
       "    </tr>\n",
       "    <tr>\n",
       "      <th>6</th>\n",
       "      <td>1</td>\n",
       "      <td>1287</td>\n",
       "      <td>2.0</td>\n",
       "      <td>1260759187</td>\n",
       "    </tr>\n",
       "    <tr>\n",
       "      <th>7</th>\n",
       "      <td>1</td>\n",
       "      <td>1293</td>\n",
       "      <td>2.0</td>\n",
       "      <td>1260759148</td>\n",
       "    </tr>\n",
       "    <tr>\n",
       "      <th>8</th>\n",
       "      <td>1</td>\n",
       "      <td>1339</td>\n",
       "      <td>3.5</td>\n",
       "      <td>1260759125</td>\n",
       "    </tr>\n",
       "    <tr>\n",
       "      <th>9</th>\n",
       "      <td>1</td>\n",
       "      <td>1343</td>\n",
       "      <td>2.0</td>\n",
       "      <td>1260759131</td>\n",
       "    </tr>\n",
       "  </tbody>\n",
       "</table>\n",
       "</div>"
      ],
      "text/plain": [
       "   userId  movieId  rating   timestamp\n",
       "0       1       31     2.5  1260759144\n",
       "1       1     1029     3.0  1260759179\n",
       "2       1     1061     3.0  1260759182\n",
       "3       1     1129     2.0  1260759185\n",
       "4       1     1172     4.0  1260759205\n",
       "5       1     1263     2.0  1260759151\n",
       "6       1     1287     2.0  1260759187\n",
       "7       1     1293     2.0  1260759148\n",
       "8       1     1339     3.5  1260759125\n",
       "9       1     1343     2.0  1260759131"
      ]
     },
     "execution_count": 43,
     "metadata": {},
     "output_type": "execute_result"
    }
   ],
   "source": [
    "ratings = pd.read_csv('data/recmmendation_system/ratings_small.csv')\n",
    "\n",
    "# let's find out what our dataset has.\n",
    "ratings.head(10)"
   ]
  },
  {
   "cell_type": "markdown",
   "id": "2b240d92",
   "metadata": {},
   "source": [
    "The Singular Value Decomposition (SVD), a method from linear algebra that has been generally used as a dimensionality reduction technique in machine learning. SVD is a matrix factorisation technique, which reduces the number of features of a dataset by reducing the space dimension from N-dimension to K-dimension (where K<N)."
   ]
  },
  {
   "cell_type": "markdown",
   "id": "c1ae49f8",
   "metadata": {},
   "source": [
    "The factorisation of this matrix is done by the singular value decomposition. It finds factors of matrices from the factorisation of a high-level (user-item-rating) matrix. The singular value decomposition is a method of decomposing a matrix into three other matrices as given below: \n",
    "\n",
    "$ A = U S V^T$\n",
    "\n",
    "\n",
    "Where $A$ is a $m*n$ utility matrix, $U$ is a $m*r$ orthogonal left singular matrix, which represents the relationship between users and latent factors, $S$ is a $r*r$ diagonal matrix, which describes the strength of each latent factor and $V$ is a $r*n$ diagonal right singular matrix, which indicates the similarity between items and latent factors. The latent factors here are the characteristics of the items, for example, the genre of the movie. \n",
    "\n",
    "The SVD decreases the dimension of the utility matrix $A$ by extracting its latent factors. It maps each user and each item into a r-dimensional latent space. This mapping facilitates a clear representation of relationships between users and items.\n",
    "\n",
    "it's easy to implement this algorithm, but I prefer to use surprise library as they can handle large datasets very well. Anyway, I will leave a snippet of the main code idea."
   ]
  },
  {
   "cell_type": "code",
   "execution_count": 44,
   "id": "be38a307",
   "metadata": {},
   "outputs": [],
   "source": [
    "# # Create the rating matrix with rows as movies and columns as users and values are rating.\n",
    "# movie_data = mini_data[['userId', 'movieId', 'rating']]\n",
    "# ratings = np.ndarray( shape=(np.max(data.movieId.values), np.max(data.userId.values)), dtype=np.uint8)\n",
    "# ratings[data.movieId.values-1, data.userId.values-1] = data.rating.values\n",
    "\n",
    "# U, S, V = np.linalg.svd(ratings_mat)"
   ]
  },
  {
   "cell_type": "code",
   "execution_count": 45,
   "id": "d9e478ce",
   "metadata": {},
   "outputs": [],
   "source": [
    "# build a suprise dataset from our pandas dataframe.\n",
    "data = Dataset.load_from_df(ratings[['userId', 'movieId', 'rating']], Reader())"
   ]
  },
  {
   "cell_type": "code",
   "execution_count": 46,
   "id": "1216392a",
   "metadata": {},
   "outputs": [],
   "source": [
    "# Use the famous SVD algorithm\n",
    "algo = SVD()"
   ]
  },
  {
   "cell_type": "markdown",
   "id": "98261ac5",
   "metadata": {},
   "source": [
    "test the model."
   ]
  },
  {
   "cell_type": "code",
   "execution_count": 47,
   "id": "df430ad6",
   "metadata": {},
   "outputs": [
    {
     "name": "stdout",
     "output_type": "stream",
     "text": [
      "Evaluating RMSE, MAE of algorithm SVD on 5 split(s).\n",
      "\n",
      "                  Fold 1  Fold 2  Fold 3  Fold 4  Fold 5  Mean    Std     \n",
      "RMSE (testset)    0.8940  0.8913  0.9025  0.9044  0.8951  0.8975  0.0051  \n",
      "MAE (testset)     0.6880  0.6885  0.6925  0.6964  0.6917  0.6914  0.0030  \n",
      "Fit time          5.48    5.48    5.49    6.67    7.26    6.08    0.75    \n",
      "Test time         0.27    0.16    0.26    0.25    0.15    0.22    0.05    \n"
     ]
    }
   ],
   "source": [
    "# Run 5-fold cross-validation and then print results\n",
    "res = cross_validate(algo, data, measures=['RMSE', 'MAE'], cv=5, verbose=True)"
   ]
  },
  {
   "cell_type": "code",
   "execution_count": 48,
   "id": "5e1a97aa",
   "metadata": {},
   "outputs": [
    {
     "data": {
      "text/plain": [
       "<surprise.prediction_algorithms.matrix_factorization.SVD at 0x7f4c58694820>"
      ]
     },
     "execution_count": 48,
     "metadata": {},
     "output_type": "execute_result"
    }
   ],
   "source": [
    "trainset = data.build_full_trainset()\n",
    "algo.fit(trainset)"
   ]
  },
  {
   "cell_type": "markdown",
   "id": "80c5b020",
   "metadata": {},
   "source": [
    "let's test the try the model on our dataset. "
   ]
  },
  {
   "cell_type": "code",
   "execution_count": 49,
   "id": "96147f38",
   "metadata": {},
   "outputs": [],
   "source": [
    "user_id = 10"
   ]
  },
  {
   "cell_type": "code",
   "execution_count": 50,
   "id": "43f7579b",
   "metadata": {},
   "outputs": [
    {
     "data": {
      "text/html": [
       "<div>\n",
       "<style scoped>\n",
       "    .dataframe tbody tr th:only-of-type {\n",
       "        vertical-align: middle;\n",
       "    }\n",
       "\n",
       "    .dataframe tbody tr th {\n",
       "        vertical-align: top;\n",
       "    }\n",
       "\n",
       "    .dataframe thead th {\n",
       "        text-align: right;\n",
       "    }\n",
       "</style>\n",
       "<table border=\"1\" class=\"dataframe\">\n",
       "  <thead>\n",
       "    <tr style=\"text-align: right;\">\n",
       "      <th></th>\n",
       "      <th>userId</th>\n",
       "      <th>movieId</th>\n",
       "      <th>rating</th>\n",
       "      <th>timestamp</th>\n",
       "    </tr>\n",
       "  </thead>\n",
       "  <tbody>\n",
       "    <tr>\n",
       "      <th>744</th>\n",
       "      <td>10</td>\n",
       "      <td>50</td>\n",
       "      <td>5.0</td>\n",
       "      <td>942766420</td>\n",
       "    </tr>\n",
       "    <tr>\n",
       "      <th>745</th>\n",
       "      <td>10</td>\n",
       "      <td>152</td>\n",
       "      <td>4.0</td>\n",
       "      <td>942766793</td>\n",
       "    </tr>\n",
       "    <tr>\n",
       "      <th>746</th>\n",
       "      <td>10</td>\n",
       "      <td>318</td>\n",
       "      <td>4.0</td>\n",
       "      <td>942766515</td>\n",
       "    </tr>\n",
       "    <tr>\n",
       "      <th>747</th>\n",
       "      <td>10</td>\n",
       "      <td>344</td>\n",
       "      <td>3.0</td>\n",
       "      <td>942766603</td>\n",
       "    </tr>\n",
       "    <tr>\n",
       "      <th>748</th>\n",
       "      <td>10</td>\n",
       "      <td>345</td>\n",
       "      <td>4.0</td>\n",
       "      <td>942766603</td>\n",
       "    </tr>\n",
       "  </tbody>\n",
       "</table>\n",
       "</div>"
      ],
      "text/plain": [
       "     userId  movieId  rating  timestamp\n",
       "744      10       50     5.0  942766420\n",
       "745      10      152     4.0  942766793\n",
       "746      10      318     4.0  942766515\n",
       "747      10      344     3.0  942766603\n",
       "748      10      345     4.0  942766603"
      ]
     },
     "execution_count": 50,
     "metadata": {},
     "output_type": "execute_result"
    }
   ],
   "source": [
    "ratings[ratings['userId'] == user_id][:5]"
   ]
  },
  {
   "cell_type": "code",
   "execution_count": 51,
   "id": "0ce7e3aa",
   "metadata": {},
   "outputs": [
    {
     "name": "stdout",
     "output_type": "stream",
     "text": [
      "The predicted rating is: 3.77\n"
     ]
    }
   ],
   "source": [
    "movie_id = 152\n",
    "print(f\"The predicted rating is: {algo.predict(user_id, movie_id)[3] :2.2f}\")"
   ]
  }
 ],
 "metadata": {
  "kernelspec": {
   "display_name": "Python 3 (ipykernel)",
   "language": "python",
   "name": "python3"
  },
  "language_info": {
   "codemirror_mode": {
    "name": "ipython",
    "version": 3
   },
   "file_extension": ".py",
   "mimetype": "text/x-python",
   "name": "python",
   "nbconvert_exporter": "python",
   "pygments_lexer": "ipython3",
   "version": "3.9.6"
  }
 },
 "nbformat": 4,
 "nbformat_minor": 5
}
