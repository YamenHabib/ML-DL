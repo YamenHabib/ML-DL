{
  "nbformat": 4,
  "nbformat_minor": 0,
  "metadata": {
    "colab": {
      "name": "KD_103.ipynb",
      "provenance": [],
      "toc_visible": true,
      "include_colab_link": true
    },
    "kernelspec": {
      "name": "python3",
      "display_name": "Python 3"
    },
    "language_info": {
      "name": "python"
    },
    "accelerator": "GPU",
    "widgets": {
      "application/vnd.jupyter.widget-state+json": {
        "9954fcf727b743f1b935a0e22ae679b9": {
          "model_module": "@jupyter-widgets/controls",
          "model_name": "HBoxModel",
          "state": {
            "_view_name": "HBoxView",
            "_dom_classes": [],
            "_model_name": "HBoxModel",
            "_view_module": "@jupyter-widgets/controls",
            "_model_module_version": "1.5.0",
            "_view_count": null,
            "_view_module_version": "1.5.0",
            "box_style": "",
            "layout": "IPY_MODEL_168ea9ca2bba480f96b25aee21647eb9",
            "_model_module": "@jupyter-widgets/controls",
            "children": [
              "IPY_MODEL_7eae55cbe6dd4bf28f184c70acbc1ef0",
              "IPY_MODEL_d2a3bb4f69094069999fd623305edd8d"
            ]
          }
        },
        "168ea9ca2bba480f96b25aee21647eb9": {
          "model_module": "@jupyter-widgets/base",
          "model_name": "LayoutModel",
          "state": {
            "_view_name": "LayoutView",
            "grid_template_rows": null,
            "right": null,
            "justify_content": null,
            "_view_module": "@jupyter-widgets/base",
            "overflow": null,
            "_model_module_version": "1.2.0",
            "_view_count": null,
            "flex_flow": null,
            "width": null,
            "min_width": null,
            "border": null,
            "align_items": null,
            "bottom": null,
            "_model_module": "@jupyter-widgets/base",
            "top": null,
            "grid_column": null,
            "overflow_y": null,
            "overflow_x": null,
            "grid_auto_flow": null,
            "grid_area": null,
            "grid_template_columns": null,
            "flex": null,
            "_model_name": "LayoutModel",
            "justify_items": null,
            "grid_row": null,
            "max_height": null,
            "align_content": null,
            "visibility": null,
            "align_self": null,
            "height": null,
            "min_height": null,
            "padding": null,
            "grid_auto_rows": null,
            "grid_gap": null,
            "max_width": null,
            "order": null,
            "_view_module_version": "1.2.0",
            "grid_template_areas": null,
            "object_position": null,
            "object_fit": null,
            "grid_auto_columns": null,
            "margin": null,
            "display": null,
            "left": null
          }
        },
        "7eae55cbe6dd4bf28f184c70acbc1ef0": {
          "model_module": "@jupyter-widgets/controls",
          "model_name": "FloatProgressModel",
          "state": {
            "_view_name": "ProgressView",
            "style": "IPY_MODEL_df45f17dfb0a4638b04e6e16ae86ed13",
            "_dom_classes": [],
            "description": "",
            "_model_name": "FloatProgressModel",
            "bar_style": "success",
            "max": 170498071,
            "_view_module": "@jupyter-widgets/controls",
            "_model_module_version": "1.5.0",
            "value": 170498071,
            "_view_count": null,
            "_view_module_version": "1.5.0",
            "orientation": "horizontal",
            "min": 0,
            "description_tooltip": null,
            "_model_module": "@jupyter-widgets/controls",
            "layout": "IPY_MODEL_00c5e472c4b345a19e4572e9c6de66ed"
          }
        },
        "d2a3bb4f69094069999fd623305edd8d": {
          "model_module": "@jupyter-widgets/controls",
          "model_name": "HTMLModel",
          "state": {
            "_view_name": "HTMLView",
            "style": "IPY_MODEL_0a263c992b144a94b650e4cd535a762c",
            "_dom_classes": [],
            "description": "",
            "_model_name": "HTMLModel",
            "placeholder": "​",
            "_view_module": "@jupyter-widgets/controls",
            "_model_module_version": "1.5.0",
            "value": " 170499072/? [03:08&lt;00:00, 906765.51it/s]",
            "_view_count": null,
            "_view_module_version": "1.5.0",
            "description_tooltip": null,
            "_model_module": "@jupyter-widgets/controls",
            "layout": "IPY_MODEL_eb9a2f8c75574a2fbfd965150e03ea5b"
          }
        },
        "df45f17dfb0a4638b04e6e16ae86ed13": {
          "model_module": "@jupyter-widgets/controls",
          "model_name": "ProgressStyleModel",
          "state": {
            "_view_name": "StyleView",
            "_model_name": "ProgressStyleModel",
            "description_width": "initial",
            "_view_module": "@jupyter-widgets/base",
            "_model_module_version": "1.5.0",
            "_view_count": null,
            "_view_module_version": "1.2.0",
            "bar_color": null,
            "_model_module": "@jupyter-widgets/controls"
          }
        },
        "00c5e472c4b345a19e4572e9c6de66ed": {
          "model_module": "@jupyter-widgets/base",
          "model_name": "LayoutModel",
          "state": {
            "_view_name": "LayoutView",
            "grid_template_rows": null,
            "right": null,
            "justify_content": null,
            "_view_module": "@jupyter-widgets/base",
            "overflow": null,
            "_model_module_version": "1.2.0",
            "_view_count": null,
            "flex_flow": null,
            "width": null,
            "min_width": null,
            "border": null,
            "align_items": null,
            "bottom": null,
            "_model_module": "@jupyter-widgets/base",
            "top": null,
            "grid_column": null,
            "overflow_y": null,
            "overflow_x": null,
            "grid_auto_flow": null,
            "grid_area": null,
            "grid_template_columns": null,
            "flex": null,
            "_model_name": "LayoutModel",
            "justify_items": null,
            "grid_row": null,
            "max_height": null,
            "align_content": null,
            "visibility": null,
            "align_self": null,
            "height": null,
            "min_height": null,
            "padding": null,
            "grid_auto_rows": null,
            "grid_gap": null,
            "max_width": null,
            "order": null,
            "_view_module_version": "1.2.0",
            "grid_template_areas": null,
            "object_position": null,
            "object_fit": null,
            "grid_auto_columns": null,
            "margin": null,
            "display": null,
            "left": null
          }
        },
        "0a263c992b144a94b650e4cd535a762c": {
          "model_module": "@jupyter-widgets/controls",
          "model_name": "DescriptionStyleModel",
          "state": {
            "_view_name": "StyleView",
            "_model_name": "DescriptionStyleModel",
            "description_width": "",
            "_view_module": "@jupyter-widgets/base",
            "_model_module_version": "1.5.0",
            "_view_count": null,
            "_view_module_version": "1.2.0",
            "_model_module": "@jupyter-widgets/controls"
          }
        },
        "eb9a2f8c75574a2fbfd965150e03ea5b": {
          "model_module": "@jupyter-widgets/base",
          "model_name": "LayoutModel",
          "state": {
            "_view_name": "LayoutView",
            "grid_template_rows": null,
            "right": null,
            "justify_content": null,
            "_view_module": "@jupyter-widgets/base",
            "overflow": null,
            "_model_module_version": "1.2.0",
            "_view_count": null,
            "flex_flow": null,
            "width": null,
            "min_width": null,
            "border": null,
            "align_items": null,
            "bottom": null,
            "_model_module": "@jupyter-widgets/base",
            "top": null,
            "grid_column": null,
            "overflow_y": null,
            "overflow_x": null,
            "grid_auto_flow": null,
            "grid_area": null,
            "grid_template_columns": null,
            "flex": null,
            "_model_name": "LayoutModel",
            "justify_items": null,
            "grid_row": null,
            "max_height": null,
            "align_content": null,
            "visibility": null,
            "align_self": null,
            "height": null,
            "min_height": null,
            "padding": null,
            "grid_auto_rows": null,
            "grid_gap": null,
            "max_width": null,
            "order": null,
            "_view_module_version": "1.2.0",
            "grid_template_areas": null,
            "object_position": null,
            "object_fit": null,
            "grid_auto_columns": null,
            "margin": null,
            "display": null,
            "left": null
          }
        }
      }
    }
  },
  "cells": [
    {
      "cell_type": "markdown",
      "metadata": {
        "id": "view-in-github",
        "colab_type": "text"
      },
      "source": [
        "<a href=\"https://colab.research.google.com/github/YamenHabib/Knowledge-Distillation/blob/main/KD_103.ipynb\" target=\"_parent\"><img src=\"https://colab.research.google.com/assets/colab-badge.svg\" alt=\"Open In Colab\"/></a>"
      ]
    },
    {
      "cell_type": "code",
      "metadata": {
        "id": "f3UCP0DTlAUB"
      },
      "source": [
        "import numpy as np\n",
        "import torch\n",
        "import torch.nn as nn\n",
        "import torch.nn.functional as F\n",
        "from torch.utils.tensorboard import SummaryWriter\n",
        "import matplotlib.pyplot as plt\n",
        "from copy import deepcopy\n",
        "import os\n",
        "import torch.optim as optim\n",
        "from torchvision import datasets, transforms\n",
        "import torchvision.models as models\n",
        "import datetime\n",
        "from tqdm import tqdm"
      ],
      "execution_count": 1,
      "outputs": []
    },
    {
      "cell_type": "code",
      "metadata": {
        "id": "1nb9G5ZkqhLc",
        "colab": {
          "base_uri": "https://localhost:8080/"
        },
        "outputId": "af7a53ab-310b-4ea9-a631-6d864350be25"
      },
      "source": [
        "device = torch.device(\"cuda\" if torch.cuda.is_available() else \"cpu\")\n",
        "device"
      ],
      "execution_count": 2,
      "outputs": [
        {
          "output_type": "execute_result",
          "data": {
            "text/plain": [
              "device(type='cuda')"
            ]
          },
          "metadata": {
            "tags": []
          },
          "execution_count": 2
        }
      ]
    },
    {
      "cell_type": "code",
      "metadata": {
        "id": "OiD8KhNfzue9"
      },
      "source": [
        "transform_train = transforms.Compose([\n",
        "    transforms.RandomCrop(32, padding=4),\n",
        "    transforms.RandomHorizontalFlip(),\n",
        "    transforms.ToTensor(),\n",
        "    transforms.Normalize((0.4914, 0.4822, 0.4465), (0.2023, 0.1994, 0.2010)),\n",
        "])\n",
        "\n",
        "transform_test = transforms.Compose([\n",
        "    transforms.ToTensor(),\n",
        "    transforms.Normalize((0.4914, 0.4822, 0.4465), (0.2023, 0.1994, 0.2010)),\n",
        "])"
      ],
      "execution_count": 3,
      "outputs": []
    },
    {
      "cell_type": "code",
      "metadata": {
        "colab": {
          "base_uri": "https://localhost:8080/",
          "height": 102,
          "referenced_widgets": [
            "9954fcf727b743f1b935a0e22ae679b9",
            "168ea9ca2bba480f96b25aee21647eb9",
            "7eae55cbe6dd4bf28f184c70acbc1ef0",
            "d2a3bb4f69094069999fd623305edd8d",
            "df45f17dfb0a4638b04e6e16ae86ed13",
            "00c5e472c4b345a19e4572e9c6de66ed",
            "0a263c992b144a94b650e4cd535a762c",
            "eb9a2f8c75574a2fbfd965150e03ea5b"
          ]
        },
        "id": "WcPgnxAJohgr",
        "outputId": "dbd362fd-de6a-43ed-cf94-3b39ff7bca69"
      },
      "source": [
        "train_data = datasets.CIFAR10(\"CIFAR10\", train=True, download=True, transform=transform_train)\n",
        "test_data = datasets.CIFAR10(\"CIFAR10\", train=False, transform=transform_test)"
      ],
      "execution_count": 4,
      "outputs": [
        {
          "output_type": "stream",
          "text": [
            "Downloading https://www.cs.toronto.edu/~kriz/cifar-10-python.tar.gz to CIFAR10/cifar-10-python.tar.gz\n"
          ],
          "name": "stdout"
        },
        {
          "output_type": "display_data",
          "data": {
            "application/vnd.jupyter.widget-view+json": {
              "model_id": "9954fcf727b743f1b935a0e22ae679b9",
              "version_minor": 0,
              "version_major": 2
            },
            "text/plain": [
              "HBox(children=(FloatProgress(value=0.0, max=170498071.0), HTML(value='')))"
            ]
          },
          "metadata": {
            "tags": []
          }
        },
        {
          "output_type": "stream",
          "text": [
            "\n",
            "Extracting CIFAR10/cifar-10-python.tar.gz to CIFAR10\n"
          ],
          "name": "stdout"
        }
      ]
    },
    {
      "cell_type": "code",
      "metadata": {
        "colab": {
          "base_uri": "https://localhost:8080/"
        },
        "id": "F8UiuGmbQTqZ",
        "outputId": "12ebef17-c8c9-4121-eb5e-3af40ec4dfc8"
      },
      "source": [
        "len(train_data), len(test_data)"
      ],
      "execution_count": 5,
      "outputs": [
        {
          "output_type": "execute_result",
          "data": {
            "text/plain": [
              "(50000, 10000)"
            ]
          },
          "metadata": {
            "tags": []
          },
          "execution_count": 5
        }
      ]
    },
    {
      "cell_type": "code",
      "metadata": {
        "id": "WXaDtRipu5CH"
      },
      "source": [
        "train_loader = torch.utils.data.DataLoader(train_data , batch_size=32, shuffle=True )\n",
        "test_loader = torch.utils.data.DataLoader(test_data , batch_size=32, shuffle=True)"
      ],
      "execution_count": 6,
      "outputs": []
    },
    {
      "cell_type": "code",
      "metadata": {
        "id": "YydHAaNmU6M6"
      },
      "source": [
        "class TecherModel(nn.Module):\n",
        "    def __init__(self):\n",
        "        super(TecherModel, self).__init__()\n",
        "        self.conv_layer = nn.Sequential(\n",
        "            # Conv Layer block 1\n",
        "            nn.Conv2d(in_channels=3, out_channels=32, kernel_size=3, padding=1),\n",
        "            nn.BatchNorm2d(32),\n",
        "            nn.ReLU(inplace=True),\n",
        "            nn.Conv2d(in_channels=32, out_channels=64, kernel_size=3, padding=1),\n",
        "            nn.ReLU(inplace=True),\n",
        "            nn.MaxPool2d(kernel_size=2, stride=2),\n",
        "\n",
        "            # Conv Layer block 2\n",
        "            nn.Conv2d(in_channels=64, out_channels=128, kernel_size=3, padding=1),\n",
        "            nn.BatchNorm2d(128),\n",
        "            nn.ReLU(inplace=True),\n",
        "            nn.Conv2d(in_channels=128, out_channels=128, kernel_size=3, padding=1),\n",
        "            nn.ReLU(inplace=True),\n",
        "            nn.MaxPool2d(kernel_size=2, stride=2),\n",
        "            nn.Dropout2d(p=0.05),\n",
        "\n",
        "            # Conv Layer block 3\n",
        "            nn.Conv2d(in_channels=128, out_channels=256, kernel_size=3, padding=1),\n",
        "            nn.BatchNorm2d(256),\n",
        "            nn.ReLU(inplace=True),\n",
        "            nn.Conv2d(in_channels=256, out_channels=256, kernel_size=3, padding=1),\n",
        "            nn.ReLU(inplace=True),\n",
        "            nn.MaxPool2d(kernel_size=2, stride=2),\n",
        "\n",
        "            # Conv Layer block 4\n",
        "            nn.Conv2d(in_channels=256, out_channels=512, kernel_size=3, padding=1),\n",
        "            nn.BatchNorm2d(512),\n",
        "            nn.ReLU(inplace=True),\n",
        "            nn.Conv2d(in_channels=512, out_channels=512, kernel_size=3, padding=1),\n",
        "            nn.ReLU(inplace=True),\n",
        "            nn.MaxPool2d(kernel_size=2, stride=2),\n",
        "\n",
        "            # Conv Layer block 5\n",
        "            nn.Conv2d(in_channels=512, out_channels=1024, kernel_size=3, padding=1),\n",
        "            nn.BatchNorm2d(1024),\n",
        "            nn.ReLU(inplace=True),\n",
        "            nn.Conv2d(in_channels=1024, out_channels=1024, kernel_size=3, padding=1),\n",
        "            nn.ReLU(inplace=True),\n",
        "            nn.MaxPool2d(kernel_size=2, stride=2),\n",
        "        )\n",
        "        self.fc_layer = nn.Sequential(\n",
        "            nn.Dropout(p=0.1),\n",
        "            nn.Linear(1024, 512),\n",
        "            nn.ReLU(inplace=True),\n",
        "            nn.Dropout(p=0.1),\n",
        "            nn.Linear(512, 10)\n",
        "        )\n",
        "    def forward(self, x):\n",
        "        \"\"\"Perform forward.\"\"\"\n",
        "        # conv layers\n",
        "        x = self.conv_layer(x)\n",
        "        # flatten\n",
        "        x = x.view(x.size(0), -1)\n",
        "        # fc layer\n",
        "        x = self.fc_layer(x)\n",
        "        return x"
      ],
      "execution_count": 7,
      "outputs": []
    },
    {
      "cell_type": "code",
      "metadata": {
        "id": "ZWnSpkmMVGsp"
      },
      "source": [
        "teacher_model = TecherModel()"
      ],
      "execution_count": 8,
      "outputs": []
    },
    {
      "cell_type": "code",
      "metadata": {
        "colab": {
          "base_uri": "https://localhost:8080/"
        },
        "id": "L2MYQpOA8iGS",
        "outputId": "915e8696-485d-4dc0-8300-69c75ecf2c3a"
      },
      "source": [
        "teacher_model(iter(train_loader).next()[0]).shape"
      ],
      "execution_count": 9,
      "outputs": [
        {
          "output_type": "execute_result",
          "data": {
            "text/plain": [
              "torch.Size([32, 10])"
            ]
          },
          "metadata": {
            "tags": []
          },
          "execution_count": 9
        }
      ]
    },
    {
      "cell_type": "code",
      "metadata": {
        "id": "iW0VSv5gh2zl"
      },
      "source": [
        "class StudentModel(nn.Module):\n",
        "    def __init__(self):\n",
        "        super(StudentModel, self).__init__()\n",
        "        self.conv_layer = nn.Sequential(\n",
        "            # Conv Layer block 1\n",
        "            nn.Conv2d(in_channels=3, out_channels=32, kernel_size=5, padding=1),\n",
        "            nn.BatchNorm2d(32),\n",
        "            nn.LeakyReLU(negative_slope=0.02, inplace=True),\n",
        "            nn.Conv2d(in_channels=32, out_channels=64, kernel_size=5, padding=1),\n",
        "            nn.ReLU(inplace=True),\n",
        "            nn.MaxPool2d(kernel_size=3, stride=3),\n",
        "\n",
        "            # Conv Layer block 2\n",
        "            nn.Conv2d(in_channels=64, out_channels=128, kernel_size=3, padding=1),\n",
        "            nn.BatchNorm2d(128),\n",
        "            nn.ReLU(inplace=True),\n",
        "            nn.Conv2d(in_channels=128, out_channels=128, kernel_size=3, padding=1),\n",
        "            nn.ReLU(inplace=True),\n",
        "            nn.MaxPool2d(kernel_size=2, stride=2),\n",
        "\n",
        "            # Conv Layer block 2\n",
        "            nn.Conv2d(in_channels=128, out_channels=256, kernel_size=3, padding=1),\n",
        "            nn.BatchNorm2d(256),\n",
        "            nn.ReLU(inplace=True),\n",
        "            nn.Conv2d(in_channels=256, out_channels=512, kernel_size=3, padding=1),\n",
        "            nn.ReLU(inplace=True),\n",
        "            nn.MaxPool2d(kernel_size=2, stride=2),\n",
        "        )\n",
        "        self.fc_layer = nn.Sequential(\n",
        "            nn.Linear(2048, 10),\n",
        "        )\n",
        "    def forward(self, x):\n",
        "        x = self.conv_layer(x)\n",
        "        x = x.view(x.size(0), -1)\n",
        "        x = self.fc_layer(x)\n",
        "        return x"
      ],
      "execution_count": 43,
      "outputs": []
    },
    {
      "cell_type": "code",
      "metadata": {
        "id": "krj3-XqQo7jC"
      },
      "source": [
        "student_model = StudentModel()"
      ],
      "execution_count": 44,
      "outputs": []
    },
    {
      "cell_type": "code",
      "metadata": {
        "colab": {
          "base_uri": "https://localhost:8080/"
        },
        "id": "PJqHWn4I8Hye",
        "outputId": "b6859da1-3c1c-4617-b2a9-f6fa457ea241"
      },
      "source": [
        "student_model(iter(train_loader).next()[0]).shape"
      ],
      "execution_count": 45,
      "outputs": [
        {
          "output_type": "execute_result",
          "data": {
            "text/plain": [
              "torch.Size([32, 10])"
            ]
          },
          "metadata": {
            "tags": []
          },
          "execution_count": 45
        }
      ]
    },
    {
      "cell_type": "code",
      "metadata": {
        "id": "Xu3gNhoWs-Qh"
      },
      "source": [
        "distilled_student_model = StudentModel()"
      ],
      "execution_count": 46,
      "outputs": []
    },
    {
      "cell_type": "code",
      "metadata": {
        "id": "TLqx0X5CoQPD"
      },
      "source": [
        "class KD:\n",
        "    def __init__( self, teacher_model, student_model, distilled_student_model,\n",
        "                  train_loader, val_loader,\n",
        "                  loss_fn=nn.KLDivLoss(reduction='batchmean'), temp=20.0, distil_weight=0.5, log=False, logdir=\"./Experiments\"):\n",
        "\n",
        "        self.train_loader, self.val_loader = train_loader, val_loader\n",
        "        self.temp = temp\n",
        "        self.distil_weight = distil_weight\n",
        "        self.logdir = logdir\n",
        "        self.teacher_model = teacher_model.to(device)\n",
        "        self.student_model = student_model.to(device)\n",
        "        self.distilled_student_model = distilled_student_model.to(device)\n",
        "        self.optimizer_teacher = optim.SGD(teacher_model.parameters(), 0.01)\n",
        "        self.optimizer_student = optim.SGD(student_model.parameters(), 0.01)\n",
        "        self.optimizer_distilled_student = optim.SGD(self.distilled_student_model.parameters(), 0.05)\n",
        "\n",
        "        self.loss_fn = loss_fn.to(device)\n",
        "        self.ce_fn = nn.CrossEntropyLoss(reduction='mean').to(device)\n",
        "        \n",
        "\n",
        "\n",
        "    def train_teacher( self, epochs=20, save_model_pth=\"./models/teacher.pt\"):\n",
        "        self.teacher_model = self.teacher_model.to(device)\n",
        "        self.teacher_model.train()\n",
        "        train_loss_arr = []\n",
        "        val_loss_arr = []\n",
        "        best_val_acc = 0.0\n",
        "        self.best_teacher_model_weights = deepcopy(self.teacher_model.state_dict())\n",
        "\n",
        "        save_dir = os.path.dirname(save_model_pth)\n",
        "        if not os.path.exists(save_dir):\n",
        "            os.makedirs(save_dir)\n",
        "\n",
        "        for ep in range(epochs):\n",
        "            train_epoch_loss = 0.0\n",
        "            val_epoch_loss = 0.0\n",
        "            train_correct = 0.0\n",
        "            val_correct = 0.0\n",
        "\n",
        "            self.teacher_model.train()\n",
        "            for (data, label) in self.train_loader:\n",
        "                data = data.to(device)\n",
        "                label = label.to(device)\n",
        "                out = self.teacher_model(data)\n",
        "                pred = out.argmax(dim=1, keepdim=True)\n",
        "                train_correct += pred.eq(label.view_as(pred)).sum().item()\n",
        "                loss = self.ce_fn(out, label)\n",
        "                self.optimizer_teacher.zero_grad()\n",
        "                loss.backward()\n",
        "                self.optimizer_teacher.step()\n",
        "                train_epoch_loss += loss.item()\n",
        "            \n",
        "            train_epoch_acc = train_correct / len(self.train_loader.dataset)\n",
        "            train_epoch_loss /= len(self.train_loader.dataset)\n",
        "\n",
        "            with torch.no_grad():\n",
        "              self.teacher_model.eval()\n",
        "              for (data, label) in self.val_loader:\n",
        "                  data = data.to(device)\n",
        "                  label = label.to(device)\n",
        "                  out = self.teacher_model(data)\n",
        "                  pred = out.argmax(dim=1, keepdim=True)\n",
        "                  val_correct += pred.eq(label.view_as(pred)).sum().item()\n",
        "                  loss = self.ce_fn(out, label)\n",
        "                  val_epoch_loss += loss.item()\n",
        "            \n",
        "            val_epoch_acc = val_correct / len(self.val_loader.dataset)\n",
        "            val_epoch_loss /= len(self.val_loader.dataset)\n",
        "\n",
        "            if val_epoch_acc > best_val_acc:\n",
        "                best_val_acc = val_epoch_acc\n",
        "                self.best_teacher_model_weights = deepcopy( self.teacher_model.state_dict())\n",
        "\n",
        "            train_loss_arr.append(train_epoch_loss)\n",
        "            val_loss_arr.append(val_epoch_loss)\n",
        "            print(f\"Epoch: {ep+1}, Train Loss: {train_epoch_loss:4.4f},\"\n",
        "                  f\" Val Loss: {val_epoch_loss:4.4f}, Train-Accuracy: {train_epoch_acc: 4.4f},\"\n",
        "                  f\" Val-Accuracy: {val_epoch_acc:4.4f}, Time: {datetime.datetime.now()}\")\n",
        "\n",
        "        self.teacher_model.load_state_dict(self.best_teacher_model_weights)\n",
        "        torch.save(self.teacher_model.state_dict(), save_model_pth)\n",
        "        plt.plot(train_loss_arr, label='Train')\n",
        "        plt.plot(val_loss_arr, label='Validation')\n",
        "        \n",
        "    def train_student( self, epochs=20,  save_model_pth=\"./models/student.pt\"):\n",
        "        self.student_model = self.student_model.to(device)\n",
        "        self.student_model.train()\n",
        "        train_loss_arr = []\n",
        "        val_loss_arr = []\n",
        "        best_val_acc = 0.0\n",
        "        self.best_student_model_weights = deepcopy(self.student_model.state_dict())\n",
        "\n",
        "        save_dir = os.path.dirname(save_model_pth)\n",
        "        if not os.path.exists(save_dir):\n",
        "            os.makedirs(save_dir)\n",
        "\n",
        "        for ep in range(epochs):\n",
        "            train_epoch_loss = 0.0\n",
        "            val_epoch_loss = 0.0\n",
        "            train_correct = 0.0\n",
        "            val_correct = 0.0\n",
        "\n",
        "            self.student_model.train()\n",
        "            for (data, label) in self.train_loader:\n",
        "                data = data.to(device)\n",
        "                label = label.to(device)\n",
        "                out = self.student_model(data)\n",
        "                pred = out.argmax(dim=1, keepdim=True)\n",
        "                train_correct += pred.eq(label.view_as(pred)).sum().item()\n",
        "                loss = self.ce_fn(out, label)\n",
        "                self.optimizer_student.zero_grad()\n",
        "                loss.backward()\n",
        "                self.optimizer_student.step()\n",
        "                train_epoch_loss += loss\n",
        "            \n",
        "            train_epoch_loss /= len(self.train_loader.dataset)\n",
        "            train_epoch_acc = train_correct / len(self.train_loader.dataset)\n",
        "\n",
        "            with torch.no_grad():\n",
        "              self.student_model.eval()\n",
        "              for (data, label) in self.val_loader:\n",
        "                  data = data.to(device)\n",
        "                  label = label.to(device)\n",
        "                  out = self.student_model(data)\n",
        "                  pred = out.argmax(dim=1, keepdim=True)\n",
        "                  val_correct += pred.eq(label.view_as(pred)).sum().item()\n",
        "                  loss = self.ce_fn(out, label)\n",
        "                  val_epoch_loss += loss\n",
        "            \n",
        "            val_epoch_acc = val_correct / len(self.val_loader.dataset)\n",
        "            val_epoch_loss /= len(self.val_loader.dataset)\n",
        "            if val_epoch_acc > best_val_acc:\n",
        "                best_val_acc = val_epoch_acc\n",
        "                self.best_student_model_weights = deepcopy( self.student_model.state_dict())\n",
        "\n",
        "            train_loss_arr.append(train_epoch_loss)\n",
        "            val_loss_arr.append(val_epoch_loss)\n",
        "            \n",
        "            \n",
        "            print(f\"Epoch: {ep+1}, Train Loss: {train_epoch_loss:4.4f},\"\n",
        "                  f\" Val Loss: {val_epoch_loss:4.4f}, Train-Accuracy: {train_epoch_acc: 4.4f},\"\n",
        "                  f\" Val-Accuracy: {val_epoch_acc:4.4f}, Time: {datetime.datetime.now()}\")\n",
        "\n",
        "        self.student_model.load_state_dict(self.best_student_model_weights)\n",
        "        torch.save(self.student_model.state_dict(), save_model_pth)\n",
        "        plt.plot(train_loss_arr, label='Train')\n",
        "        plt.plot(val_loss_arr, label='Validation')\n",
        "\n",
        "    def distile_student(self, epochs=10, save_model_pth=\"./models/student_distil.pt\"):\n",
        "        self.distilled_student_model = self.distilled_student_model.to(device)\n",
        "        self.teacher_model = self.teacher_model.to(device).eval()\n",
        "        train_loss_arr = []\n",
        "        val_loss_arr = []\n",
        "        best_val_acc = 0.0\n",
        "        self.best_distilled_student_model_weights = deepcopy(self.distilled_student_model.state_dict())\n",
        "\n",
        "        save_dir = os.path.dirname(save_model_pth)\n",
        "        if not os.path.exists(save_dir):\n",
        "            os.makedirs(save_dir)\n",
        "\n",
        "        for ep in range(epochs):\n",
        "            train_epoch_loss = 0.0\n",
        "            val_epoch_loss = 0.0\n",
        "            train_correct = 0.0\n",
        "            val_correct = 0.0\n",
        "\n",
        "            self.distilled_student_model.train()\n",
        "            for (data, label) in self.train_loader:\n",
        "                data = data.to(device)\n",
        "                label = label.to(device)\n",
        "                student_out = self.distilled_student_model(data)\n",
        "                teacher_out = self.teacher_model(data)\n",
        "                pred = student_out.argmax(dim=1, keepdim=True)\n",
        "                train_correct += pred.eq(label.view_as(pred)).sum().item()\n",
        "                loss = self.calculate_kd_loss(student_out, teacher_out, label)\n",
        "                # loss = self.ce_fn(student_out, label)\n",
        "                self.optimizer_distilled_student.zero_grad()\n",
        "                loss.backward()\n",
        "                self.optimizer_distilled_student.step()\n",
        "                train_epoch_loss += loss\n",
        "            \n",
        "            train_epoch_loss /= len(self.train_loader.dataset)\n",
        "            train_epoch_acc = train_correct / len(self.train_loader.dataset)\n",
        "\n",
        "            with torch.no_grad():\n",
        "              self.distilled_student_model.eval()\n",
        "              for (data, label) in self.val_loader:\n",
        "                  data = data.to(device)\n",
        "                  label = label.to(device)\n",
        "                  student_out = self.distilled_student_model(data)\n",
        "                  teacher_out = self.teacher_model(data)\n",
        "                  pred = student_out.argmax(dim=1, keepdim=True)\n",
        "                  val_correct += pred.eq(label.view_as(pred)).sum().item()\n",
        "                  loss = self.calculate_kd_loss(student_out, teacher_out, label)\n",
        "                  # loss = self.ce_fn(student_out, label)\n",
        "                  val_epoch_loss += loss\n",
        "            \n",
        "            val_epoch_acc = val_correct / len(self.val_loader.dataset)\n",
        "            val_epoch_loss /= len(self.val_loader.dataset)\n",
        "            if val_epoch_acc > best_val_acc:\n",
        "                best_val_acc = val_epoch_acc\n",
        "                self.best_distilled_student_model_weights = deepcopy( self.distilled_student_model.state_dict())\n",
        "\n",
        "            train_loss_arr.append(train_epoch_loss)\n",
        "            val_loss_arr.append(val_epoch_loss)\n",
        "            \n",
        "            \n",
        "            print(f\"Epoch: {ep+1}, Train Loss: {train_epoch_loss:4.4f},\"\n",
        "                  f\" Val Loss: {val_epoch_loss:4.4f}, Train-Accuracy: {train_epoch_acc: 4.4f},\"\n",
        "                  f\" Val-Accuracy: {val_epoch_acc:4.4f}, Time: {datetime.datetime.now()}\")\n",
        "\n",
        "        self.distilled_student_model.load_state_dict(self.best_distilled_student_model_weights)\n",
        "        torch.save(self.distilled_student_model.state_dict(), save_model_pth)\n",
        "        plt.plot(train_loss_arr, label='Train')\n",
        "        plt.plot(val_loss_arr, label='Validation')\n",
        "\n",
        "    def calculate_kd_loss(self, y_pred_student, y_pred_teacher, y_true):\n",
        "        soft_teacher_out = F.softmax(y_pred_teacher / self.temp, dim=1)\n",
        "        soft_student_out = F.softmax(y_pred_student / self.temp, dim=1)\n",
        "\n",
        "        loss = (1 - self.distil_weight) * F.cross_entropy(y_pred_student, y_true)\n",
        "        loss += (self.distil_weight * self.temp * self.temp) * self.loss_fn( soft_teacher_out, soft_student_out)\n",
        "        return loss\n",
        "\n",
        "    def _evaluate_model(self, model, verbose=True):\n",
        "        model.eval()\n",
        "        model.to(device)\n",
        "        length_of_dataset = len(self.val_loader.dataset)\n",
        "        correct = 0\n",
        "        outputs = []\n",
        "\n",
        "        with torch.no_grad():\n",
        "            for data, target in self.val_loader:\n",
        "                data = data.to(device)\n",
        "                target = target.to(device)\n",
        "                output = model(data)\n",
        "                outputs.append(output)\n",
        "                pred = output.argmax(dim=1, keepdim=True)\n",
        "                correct += pred.eq(target.view_as(pred)).sum().item()\n",
        "\n",
        "        acc = correct / length_of_dataset\n",
        "        return acc\n",
        "\n",
        "\n",
        "    def evaluate_student(self, distiled=False):\n",
        "        if distiled:\n",
        "            model = deepcopy(self.distilled_student_model).to(device)\n",
        "        else:\n",
        "            model = deepcopy(self.student_model).to(device)\n",
        "        acc = self._evaluate_model(model)\n",
        "        return acc\n",
        "\n",
        "    def evaluate_teacher(self):\n",
        "        model = deepcopy(self.teacher_model).to(device)\n",
        "        acc = self._evaluate_model(model)\n",
        "        return acc\n",
        "\n",
        "    def get_parameters(self):\n",
        "        teacher_params = sum(p.numel() for p in self.teacher_model.parameters())\n",
        "        student_params = sum(p.numel() for p in self.student_model.parameters())\n",
        "\n",
        "        print(\"-\" * 80)\n",
        "        print(f\"teacher'parameters : {teacher_params}\")\n",
        "        print(f\"student'parameters : {student_params}\")\n",
        "        print(f\"Percentage of Student/Teacher is: {student_params/teacher_params * 100:.2f} %\")"
      ],
      "execution_count": 47,
      "outputs": []
    },
    {
      "cell_type": "markdown",
      "metadata": {
        "id": "6hMcWxUko2na"
      },
      "source": [
        "# Load Models or train them."
      ]
    },
    {
      "cell_type": "code",
      "metadata": {
        "id": "BgWxnYjz7p3Z"
      },
      "source": [
        "distiller = KD(teacher_model, student_model, distilled_student_model, train_loader, test_loader)"
      ],
      "execution_count": 48,
      "outputs": []
    },
    {
      "cell_type": "code",
      "metadata": {
        "colab": {
          "base_uri": "https://localhost:8080/"
        },
        "id": "XjZx4zSo8YCc",
        "outputId": "a1fb8b2f-cd97-47f7-cdc0-ce46d99da1e4"
      },
      "source": [
        "distiller.get_parameters()"
      ],
      "execution_count": 49,
      "outputs": [
        {
          "output_type": "stream",
          "text": [
            "--------------------------------------------------------------------------------\n",
            "teacher'parameters : 19357706\n",
            "student'parameters : 1771786\n",
            "Percentage of Student/Teacher is: 9.15 %\n"
          ],
          "name": "stdout"
        }
      ]
    },
    {
      "cell_type": "code",
      "metadata": {
        "colab": {
          "base_uri": "https://localhost:8080/",
          "height": 797
        },
        "id": "4qm73KbOlDbZ",
        "outputId": "a1067786-933e-4008-f30f-c69a0644682c"
      },
      "source": [
        "distiller.train_teacher(epochs=30)"
      ],
      "execution_count": 23,
      "outputs": [
        {
          "output_type": "stream",
          "text": [
            "Epoch: 1, Train Loss: 0.0471, Val Loss: 0.0401, Train-Accuracy:  0.4378, Val-Accuracy: 0.5474, Time: 2021-05-18 08:24:36.285113\n",
            "Epoch: 2, Train Loss: 0.0312, Val Loss: 0.0284, Train-Accuracy:  0.6451, Val-Accuracy: 0.6833, Time: 2021-05-18 08:25:30.704495\n",
            "Epoch: 3, Train Loss: 0.0246, Val Loss: 0.0209, Train-Accuracy:  0.7268, Val-Accuracy: 0.7674, Time: 2021-05-18 08:26:25.441064\n",
            "Epoch: 4, Train Loss: 0.0208, Val Loss: 0.0221, Train-Accuracy:  0.7686, Val-Accuracy: 0.7622, Time: 2021-05-18 08:27:20.586118\n",
            "Epoch: 5, Train Loss: 0.0183, Val Loss: 0.0183, Train-Accuracy:  0.7986, Val-Accuracy: 0.8000, Time: 2021-05-18 08:28:15.859746\n",
            "Epoch: 6, Train Loss: 0.0167, Val Loss: 0.0165, Train-Accuracy:  0.8170, Val-Accuracy: 0.8226, Time: 2021-05-18 08:29:11.187865\n",
            "Epoch: 7, Train Loss: 0.0152, Val Loss: 0.0173, Train-Accuracy:  0.8309, Val-Accuracy: 0.8099, Time: 2021-05-18 08:30:06.477211\n",
            "Epoch: 8, Train Loss: 0.0141, Val Loss: 0.0157, Train-Accuracy:  0.8441, Val-Accuracy: 0.8297, Time: 2021-05-18 08:31:01.816438\n",
            "Epoch: 9, Train Loss: 0.0130, Val Loss: 0.0144, Train-Accuracy:  0.8581, Val-Accuracy: 0.8456, Time: 2021-05-18 08:31:57.049611\n",
            "Epoch: 10, Train Loss: 0.0123, Val Loss: 0.0163, Train-Accuracy:  0.8647, Val-Accuracy: 0.8284, Time: 2021-05-18 08:32:52.406534\n",
            "Epoch: 11, Train Loss: 0.0114, Val Loss: 0.0124, Train-Accuracy:  0.8742, Val-Accuracy: 0.8642, Time: 2021-05-18 08:33:47.790405\n",
            "Epoch: 12, Train Loss: 0.0106, Val Loss: 0.0154, Train-Accuracy:  0.8842, Val-Accuracy: 0.8432, Time: 2021-05-18 08:34:43.134720\n",
            "Epoch: 13, Train Loss: 0.0102, Val Loss: 0.0151, Train-Accuracy:  0.8883, Val-Accuracy: 0.8458, Time: 2021-05-18 08:35:38.474115\n",
            "Epoch: 14, Train Loss: 0.0097, Val Loss: 0.0126, Train-Accuracy:  0.8950, Val-Accuracy: 0.8674, Time: 2021-05-18 08:36:33.797769\n",
            "Epoch: 15, Train Loss: 0.0091, Val Loss: 0.0120, Train-Accuracy:  0.9010, Val-Accuracy: 0.8723, Time: 2021-05-18 08:37:29.082000\n",
            "Epoch: 16, Train Loss: 0.0086, Val Loss: 0.0119, Train-Accuracy:  0.9056, Val-Accuracy: 0.8734, Time: 2021-05-18 08:38:24.381558\n",
            "Epoch: 17, Train Loss: 0.0082, Val Loss: 0.0148, Train-Accuracy:  0.9097, Val-Accuracy: 0.8503, Time: 2021-05-18 08:39:19.657683\n",
            "Epoch: 18, Train Loss: 0.0078, Val Loss: 0.0127, Train-Accuracy:  0.9137, Val-Accuracy: 0.8694, Time: 2021-05-18 08:40:14.911879\n",
            "Epoch: 19, Train Loss: 0.0075, Val Loss: 0.0112, Train-Accuracy:  0.9153, Val-Accuracy: 0.8837, Time: 2021-05-18 08:41:10.104409\n",
            "Epoch: 20, Train Loss: 0.0072, Val Loss: 0.0121, Train-Accuracy:  0.9204, Val-Accuracy: 0.8751, Time: 2021-05-18 08:42:05.314387\n",
            "Epoch: 21, Train Loss: 0.0067, Val Loss: 0.0120, Train-Accuracy:  0.9254, Val-Accuracy: 0.8845, Time: 2021-05-18 08:43:00.499491\n",
            "Epoch: 22, Train Loss: 0.0064, Val Loss: 0.0116, Train-Accuracy:  0.9287, Val-Accuracy: 0.8834, Time: 2021-05-18 08:43:55.549181\n",
            "Epoch: 23, Train Loss: 0.0063, Val Loss: 0.0151, Train-Accuracy:  0.9308, Val-Accuracy: 0.8548, Time: 2021-05-18 08:44:50.542984\n",
            "Epoch: 24, Train Loss: 0.0060, Val Loss: 0.0107, Train-Accuracy:  0.9337, Val-Accuracy: 0.8918, Time: 2021-05-18 08:45:45.630176\n",
            "Epoch: 25, Train Loss: 0.0057, Val Loss: 0.0121, Train-Accuracy:  0.9365, Val-Accuracy: 0.8804, Time: 2021-05-18 08:46:40.582692\n",
            "Epoch: 26, Train Loss: 0.0054, Val Loss: 0.0116, Train-Accuracy:  0.9397, Val-Accuracy: 0.8897, Time: 2021-05-18 08:47:35.642959\n",
            "Epoch: 27, Train Loss: 0.0052, Val Loss: 0.0129, Train-Accuracy:  0.9413, Val-Accuracy: 0.8762, Time: 2021-05-18 08:48:30.654947\n",
            "Epoch: 28, Train Loss: 0.0049, Val Loss: 0.0121, Train-Accuracy:  0.9448, Val-Accuracy: 0.8883, Time: 2021-05-18 08:49:25.640061\n",
            "Epoch: 29, Train Loss: 0.0049, Val Loss: 0.0111, Train-Accuracy:  0.9465, Val-Accuracy: 0.8945, Time: 2021-05-18 08:50:20.593199\n",
            "Epoch: 30, Train Loss: 0.0046, Val Loss: 0.0102, Train-Accuracy:  0.9492, Val-Accuracy: 0.8990, Time: 2021-05-18 08:51:15.568529\n"
          ],
          "name": "stdout"
        },
        {
          "output_type": "display_data",
          "data": {
            "image/png": "[encoded data removed]",
            "text/plain": [
              "<Figure size 432x288 with 1 Axes>"
            ]
          },
          "metadata": {
            "tags": [],
            "needs_background": "light"
          }
        }
      ]
    },
    {
      "cell_type": "code",
      "metadata": {
        "id": "h4U4KpeV8SJN",
        "colab": {
          "base_uri": "https://localhost:8080/",
          "height": 762
        },
        "outputId": "d3d43ad6-faf8-4b15-cb65-5d52f6bfb662"
      },
      "source": [
        "distiller.train_student(epochs=30)"
      ],
      "execution_count": 50,
      "outputs": [
        {
          "output_type": "stream",
          "text": [
            "Epoch: 1, Train Loss: 0.0447, Val Loss: 0.0352, Train-Accuracy:  0.4728, Val-Accuracy: 0.5983, Time: 2021-05-18 10:09:49.198262\n",
            "Epoch: 2, Train Loss: 0.0314, Val Loss: 0.0273, Train-Accuracy:  0.6407, Val-Accuracy: 0.6933, Time: 2021-05-18 10:10:11.376293\n",
            "Epoch: 3, Train Loss: 0.0261, Val Loss: 0.0258, Train-Accuracy:  0.7060, Val-Accuracy: 0.7134, Time: 2021-05-18 10:10:33.552040\n",
            "Epoch: 4, Train Loss: 0.0230, Val Loss: 0.0264, Train-Accuracy:  0.7423, Val-Accuracy: 0.7125, Time: 2021-05-18 10:10:55.495519\n",
            "Epoch: 6, Train Loss: 0.0194, Val Loss: 0.0208, Train-Accuracy:  0.7824, Val-Accuracy: 0.7697, Time: 2021-05-18 10:11:39.425136\n",
            "Epoch: 7, Train Loss: 0.0180, Val Loss: 0.0206, Train-Accuracy:  0.8008, Val-Accuracy: 0.7745, Time: 2021-05-18 10:12:01.333094\n",
            "Epoch: 8, Train Loss: 0.0168, Val Loss: 0.0181, Train-Accuracy:  0.8136, Val-Accuracy: 0.8051, Time: 2021-05-18 10:12:23.421585\n",
            "Epoch: 10, Train Loss: 0.0151, Val Loss: 0.0167, Train-Accuracy:  0.8330, Val-Accuracy: 0.8187, Time: 2021-05-18 10:13:07.555043\n",
            "Epoch: 11, Train Loss: 0.0143, Val Loss: 0.0186, Train-Accuracy:  0.8413, Val-Accuracy: 0.7997, Time: 2021-05-18 10:13:29.642692\n",
            "Epoch: 12, Train Loss: 0.0137, Val Loss: 0.0157, Train-Accuracy:  0.8469, Val-Accuracy: 0.8334, Time: 2021-05-18 10:13:51.876317\n",
            "Epoch: 13, Train Loss: 0.0131, Val Loss: 0.0176, Train-Accuracy:  0.8551, Val-Accuracy: 0.8184, Time: 2021-05-18 10:14:13.949141\n",
            "Epoch: 14, Train Loss: 0.0126, Val Loss: 0.0148, Train-Accuracy:  0.8577, Val-Accuracy: 0.8394, Time: 2021-05-18 10:14:36.168851\n",
            "Epoch: 15, Train Loss: 0.0120, Val Loss: 0.0163, Train-Accuracy:  0.8648, Val-Accuracy: 0.8255, Time: 2021-05-18 10:14:58.346920\n",
            "Epoch: 16, Train Loss: 0.0116, Val Loss: 0.0164, Train-Accuracy:  0.8698, Val-Accuracy: 0.8268, Time: 2021-05-18 10:15:20.686385\n",
            "Epoch: 17, Train Loss: 0.0112, Val Loss: 0.0160, Train-Accuracy:  0.8747, Val-Accuracy: 0.8348, Time: 2021-05-18 10:15:42.798104\n",
            "Epoch: 18, Train Loss: 0.0108, Val Loss: 0.0148, Train-Accuracy:  0.8790, Val-Accuracy: 0.8418, Time: 2021-05-18 10:16:05.028610\n",
            "Epoch: 19, Train Loss: 0.0104, Val Loss: 0.0157, Train-Accuracy:  0.8828, Val-Accuracy: 0.8364, Time: 2021-05-18 10:16:27.104550\n",
            "Epoch: 20, Train Loss: 0.0101, Val Loss: 0.0152, Train-Accuracy:  0.8866, Val-Accuracy: 0.8422, Time: 2021-05-18 10:16:49.393662\n",
            "Epoch: 21, Train Loss: 0.0098, Val Loss: 0.0153, Train-Accuracy:  0.8891, Val-Accuracy: 0.8406, Time: 2021-05-18 10:17:11.583615\n",
            "Epoch: 22, Train Loss: 0.0093, Val Loss: 0.0151, Train-Accuracy:  0.8963, Val-Accuracy: 0.8459, Time: 2021-05-18 10:17:33.752168\n",
            "Epoch: 23, Train Loss: 0.0091, Val Loss: 0.0158, Train-Accuracy:  0.8973, Val-Accuracy: 0.8336, Time: 2021-05-18 10:17:55.852433\n",
            "Epoch: 24, Train Loss: 0.0089, Val Loss: 0.0157, Train-Accuracy:  0.9003, Val-Accuracy: 0.8409, Time: 2021-05-18 10:18:17.950308\n",
            "Epoch: 25, Train Loss: 0.0085, Val Loss: 0.0136, Train-Accuracy:  0.9048, Val-Accuracy: 0.8610, Time: 2021-05-18 10:18:39.873384\n",
            "Epoch: 26, Train Loss: 0.0083, Val Loss: 0.0136, Train-Accuracy:  0.9064, Val-Accuracy: 0.8641, Time: 2021-05-18 10:19:01.753751\n",
            "Epoch: 27, Train Loss: 0.0081, Val Loss: 0.0147, Train-Accuracy:  0.9088, Val-Accuracy: 0.8494, Time: 2021-05-18 10:19:23.806778\n",
            "Epoch: 28, Train Loss: 0.0078, Val Loss: 0.0132, Train-Accuracy:  0.9136, Val-Accuracy: 0.8633, Time: 2021-05-18 10:19:45.985715\n",
            "Epoch: 29, Train Loss: 0.0076, Val Loss: 0.0128, Train-Accuracy:  0.9146, Val-Accuracy: 0.8690, Time: 2021-05-18 10:20:08.242275\n",
            "Epoch: 30, Train Loss: 0.0074, Val Loss: 0.0147, Train-Accuracy:  0.9177, Val-Accuracy: 0.8575, Time: 2021-05-18 10:20:30.602398\n"
          ],
          "name": "stdout"
        },
        {
          "output_type": "display_data",
          "data": {
            "image/png": "[encoded data removed]",
            "text/plain": [
              "<Figure size 432x288 with 1 Axes>"
            ]
          },
          "metadata": {
            "tags": [],
            "needs_background": "light"
          }
        }
      ]
    },
    {
      "cell_type": "code",
      "metadata": {
        "colab": {
          "base_uri": "https://localhost:8080/",
          "height": 797
        },
        "id": "waHn7cXV_zv7",
        "outputId": "a8c329a1-e10e-4dbf-d2d4-84fada3eb2ee"
      },
      "source": [
        "distiller.distile_student(30)"
      ],
      "execution_count": 51,
      "outputs": [
        {
          "output_type": "stream",
          "text": [
            "Epoch: 1, Train Loss: -14.9988, Val Loss: -15.0206, Train-Accuracy:  0.5277, Val-Accuracy: 0.6007, Time: 2021-05-18 10:22:03.643139\n",
            "Epoch: 2, Train Loss: -15.0051, Val Loss: -15.0246, Train-Accuracy:  0.6933, Val-Accuracy: 0.6905, Time: 2021-05-18 10:22:58.201142\n",
            "Epoch: 3, Train Loss: -15.0073, Val Loss: -15.0253, Train-Accuracy:  0.7459, Val-Accuracy: 0.7085, Time: 2021-05-18 10:23:52.990232\n",
            "Epoch: 4, Train Loss: -15.0085, Val Loss: -15.0282, Train-Accuracy:  0.7823, Val-Accuracy: 0.7718, Time: 2021-05-18 10:24:47.829176\n",
            "Epoch: 5, Train Loss: -15.0094, Val Loss: -15.0286, Train-Accuracy:  0.8027, Val-Accuracy: 0.7788, Time: 2021-05-18 10:25:42.550214\n",
            "Epoch: 6, Train Loss: -15.0100, Val Loss: -15.0303, Train-Accuracy:  0.8164, Val-Accuracy: 0.8265, Time: 2021-05-18 10:26:37.314396\n",
            "Epoch: 7, Train Loss: -15.0105, Val Loss: -15.0293, Train-Accuracy:  0.8294, Val-Accuracy: 0.7994, Time: 2021-05-18 10:27:32.057521\n",
            "Epoch: 8, Train Loss: -15.0109, Val Loss: -15.0302, Train-Accuracy:  0.8399, Val-Accuracy: 0.8265, Time: 2021-05-18 10:28:26.780598\n",
            "Epoch: 9, Train Loss: -15.0113, Val Loss: -15.0307, Train-Accuracy:  0.8492, Val-Accuracy: 0.8334, Time: 2021-05-18 10:29:21.493245\n",
            "Epoch: 10, Train Loss: -15.0116, Val Loss: -15.0307, Train-Accuracy:  0.8566, Val-Accuracy: 0.8324, Time: 2021-05-18 10:30:16.227188\n",
            "Epoch: 11, Train Loss: -15.0118, Val Loss: -15.0310, Train-Accuracy:  0.8632, Val-Accuracy: 0.8471, Time: 2021-05-18 10:31:10.937373\n",
            "Epoch: 12, Train Loss: -15.0121, Val Loss: -15.0314, Train-Accuracy:  0.8697, Val-Accuracy: 0.8521, Time: 2021-05-18 10:32:05.622026\n",
            "Epoch: 13, Train Loss: -15.0124, Val Loss: -15.0311, Train-Accuracy:  0.8763, Val-Accuracy: 0.8473, Time: 2021-05-18 10:33:00.337015\n",
            "Epoch: 14, Train Loss: -15.0125, Val Loss: -15.0317, Train-Accuracy:  0.8793, Val-Accuracy: 0.8555, Time: 2021-05-18 10:33:55.037533\n",
            "Epoch: 15, Train Loss: -15.0127, Val Loss: -15.0317, Train-Accuracy:  0.8863, Val-Accuracy: 0.8578, Time: 2021-05-18 10:34:49.773902\n",
            "Epoch: 16, Train Loss: -15.0129, Val Loss: -15.0320, Train-Accuracy:  0.8903, Val-Accuracy: 0.8645, Time: 2021-05-18 10:35:44.539488\n",
            "Epoch: 17, Train Loss: -15.0130, Val Loss: -15.0317, Train-Accuracy:  0.8943, Val-Accuracy: 0.8563, Time: 2021-05-18 10:36:39.208281\n",
            "Epoch: 18, Train Loss: -15.0132, Val Loss: -15.0318, Train-Accuracy:  0.8980, Val-Accuracy: 0.8621, Time: 2021-05-18 10:37:33.918970\n",
            "Epoch: 19, Train Loss: -15.0134, Val Loss: -15.0315, Train-Accuracy:  0.9031, Val-Accuracy: 0.8513, Time: 2021-05-18 10:38:28.582765\n",
            "Epoch: 20, Train Loss: -15.0134, Val Loss: -15.0320, Train-Accuracy:  0.9053, Val-Accuracy: 0.8640, Time: 2021-05-18 10:39:23.234613\n",
            "Epoch: 21, Train Loss: -15.0136, Val Loss: -15.0323, Train-Accuracy:  0.9087, Val-Accuracy: 0.8732, Time: 2021-05-18 10:40:17.927924\n",
            "Epoch: 22, Train Loss: -15.0137, Val Loss: -15.0323, Train-Accuracy:  0.9113, Val-Accuracy: 0.8714, Time: 2021-05-18 10:41:12.609215\n",
            "Epoch: 23, Train Loss: -15.0138, Val Loss: -15.0326, Train-Accuracy:  0.9146, Val-Accuracy: 0.8778, Time: 2021-05-18 10:42:07.290950\n",
            "Epoch: 24, Train Loss: -15.0139, Val Loss: -15.0324, Train-Accuracy:  0.9168, Val-Accuracy: 0.8748, Time: 2021-05-18 10:43:02.014126\n",
            "Epoch: 25, Train Loss: -15.0140, Val Loss: -15.0322, Train-Accuracy:  0.9192, Val-Accuracy: 0.8704, Time: 2021-05-18 10:43:56.791926\n",
            "Epoch: 26, Train Loss: -15.0141, Val Loss: -15.0324, Train-Accuracy:  0.9213, Val-Accuracy: 0.8765, Time: 2021-05-18 10:44:51.557589\n",
            "Epoch: 27, Train Loss: -15.0142, Val Loss: -15.0320, Train-Accuracy:  0.9248, Val-Accuracy: 0.8675, Time: 2021-05-18 10:45:46.308749\n",
            "Epoch: 28, Train Loss: -15.0142, Val Loss: -15.0326, Train-Accuracy:  0.9262, Val-Accuracy: 0.8785, Time: 2021-05-18 10:46:41.073193\n",
            "Epoch: 29, Train Loss: -15.0143, Val Loss: -15.0318, Train-Accuracy:  0.9283, Val-Accuracy: 0.8610, Time: 2021-05-18 10:47:35.926899\n",
            "Epoch: 30, Train Loss: -15.0144, Val Loss: -15.0327, Train-Accuracy:  0.9325, Val-Accuracy: 0.8827, Time: 2021-05-18 10:48:30.720096\n"
          ],
          "name": "stdout"
        },
        {
          "output_type": "display_data",
          "data": {
            "image/png": "[encoded data removed]",
            "text/plain": [
              "<Figure size 432x288 with 1 Axes>"
            ]
          },
          "metadata": {
            "tags": [],
            "needs_background": "light"
          }
        }
      ]
    },
    {
      "cell_type": "code",
      "metadata": {
        "id": "H03HSsWgPKdu"
      },
      "source": [
        "# student_model.load_state_dict(torch.load('/content/models/student.pt'))"
      ],
      "execution_count": null,
      "outputs": []
    },
    {
      "cell_type": "code",
      "metadata": {
        "id": "1w0JkCDHPOUv"
      },
      "source": [
        "# teacher_model.load_state_dict(torch.load('/content/models/teacher.pt'))"
      ],
      "execution_count": null,
      "outputs": []
    },
    {
      "cell_type": "code",
      "metadata": {
        "id": "7JHuNyG05xEE"
      },
      "source": [
        "# distilled_student_model.load_state_dict(torch.load('/content/models/student_distil.pt'))"
      ],
      "execution_count": null,
      "outputs": []
    },
    {
      "cell_type": "code",
      "metadata": {
        "id": "1vtuBd4X8F50"
      },
      "source": [
        "# distiller = KD(teacher_model, student_model, distilled_student_model, train_loader, test_loader)"
      ],
      "execution_count": null,
      "outputs": []
    },
    {
      "cell_type": "code",
      "metadata": {
        "id": "pFVWiM5gmaV8",
        "colab": {
          "base_uri": "https://localhost:8080/"
        },
        "outputId": "83275ca1-96c6-4684-d310-7669469d7dc0"
      },
      "source": [
        "distiller.get_parameters()"
      ],
      "execution_count": 52,
      "outputs": [
        {
          "output_type": "stream",
          "text": [
            "--------------------------------------------------------------------------------\n",
            "teacher'parameters : 19357706\n",
            "student'parameters : 1771786\n",
            "Percentage of Student/Teacher is: 9.15 %\n"
          ],
          "name": "stdout"
        }
      ]
    },
    {
      "cell_type": "code",
      "metadata": {
        "id": "v3TcUFe_y48V",
        "colab": {
          "base_uri": "https://localhost:8080/"
        },
        "outputId": "c3e54bde-2d1e-4b6a-a126-8a86ca5eb4d5"
      },
      "source": [
        "teacher_acc = distiller.evaluate_teacher()\n",
        "print(f\"Teacher Accuracy: {teacher_acc:0.4}\")"
      ],
      "execution_count": 53,
      "outputs": [
        {
          "output_type": "stream",
          "text": [
            "Teacher Accuracy: 0.899\n"
          ],
          "name": "stdout"
        }
      ]
    },
    {
      "cell_type": "code",
      "metadata": {
        "id": "8y62sfSby63V",
        "colab": {
          "base_uri": "https://localhost:8080/"
        },
        "outputId": "81619f3d-312e-4fb0-cd6d-d01d423e50b1"
      },
      "source": [
        "student_acc = distiller.evaluate_student(distiled=False)\n",
        "print(f\"Student Accuracy: {student_acc:0.4}\")"
      ],
      "execution_count": 54,
      "outputs": [
        {
          "output_type": "stream",
          "text": [
            "Student Accuracy: 0.869\n"
          ],
          "name": "stdout"
        }
      ]
    },
    {
      "cell_type": "code",
      "metadata": {
        "id": "jh3MCskmoNqG",
        "colab": {
          "base_uri": "https://localhost:8080/"
        },
        "outputId": "404f679e-2ba1-4b6d-d9c4-c9f00e98caab"
      },
      "source": [
        "distiled_acc = distiller.evaluate_student(distiled=True)\n",
        "print(f\"Distilled Student Accuracy: {distiled_acc:0.4}\")"
      ],
      "execution_count": 55,
      "outputs": [
        {
          "output_type": "stream",
          "text": [
            "Distilled Student Accuracy: 0.8827\n"
          ],
          "name": "stdout"
        }
      ]
    },
    {
      "cell_type": "code",
      "metadata": {
        "id": "lCFXxLPoa_71"
      },
      "source": [
        ""
      ],
      "execution_count": null,
      "outputs": []
    }
  ]
}