{
  "nbformat": 4,
  "nbformat_minor": 0,
  "metadata": {
    "colab": {
      "name": "Conv Net",
      "provenance": [],
      "authorship_tag": "ABX9TyOQQhgH32NEEgjp4wAP6TCf",
      "include_colab_link": true
    },
    "kernelspec": {
      "name": "python3",
      "display_name": "Python 3"
    }
  },
  "cells": [
    {
      "cell_type": "markdown",
      "metadata": {
        "id": "view-in-github",
        "colab_type": "text"
      },
      "source": [
        "<a href=\"https://colab.research.google.com/github/YamenHabib/DeepLearning/blob/main/Convolutional%20Neural%20Network%20using%20Numpy%20to%20solve%20MNIST%20dataset.ipynb\" target=\"_parent\"><img src=\"https://colab.research.google.com/assets/colab-badge.svg\" alt=\"Open In Colab\"/></a>"
      ]
    },
    {
      "cell_type": "code",
      "metadata": {
        "id": "aw9T9bNoraL5"
      },
      "source": [
        "#Inspired(basically stolen) from My great teatcher : denis.stepanov@jetbrains.com"
      ],
      "execution_count": 43,
      "outputs": []
    },
    {
      "cell_type": "code",
      "metadata": {
        "colab": {
          "base_uri": "https://localhost:8080/"
        },
        "id": "S2f5oklmk8k5",
        "outputId": "a515f6d0-be70-4cfc-d24f-e4e383129bcc"
      },
      "source": [
        "!pip install ggplot\r\n",
        "!pip install lets-plot"
      ],
      "execution_count": 44,
      "outputs": [
        {
          "output_type": "stream",
          "text": [
            "Requirement already satisfied: ggplot in /usr/local/lib/python3.7/dist-packages (0.11.5)\n",
            "Requirement already satisfied: patsy>=0.4 in /usr/local/lib/python3.7/dist-packages (from ggplot) (0.5.1)\n",
            "Requirement already satisfied: pandas in /usr/local/lib/python3.7/dist-packages (from ggplot) (1.1.5)\n",
            "Requirement already satisfied: six in /usr/local/lib/python3.7/dist-packages (from ggplot) (1.15.0)\n",
            "Requirement already satisfied: matplotlib in /usr/local/lib/python3.7/dist-packages (from ggplot) (3.2.2)\n",
            "Requirement already satisfied: cycler in /usr/local/lib/python3.7/dist-packages (from ggplot) (0.10.0)\n",
            "Requirement already satisfied: brewer2mpl in /usr/local/lib/python3.7/dist-packages (from ggplot) (1.4.1)\n",
            "Requirement already satisfied: statsmodels in /usr/local/lib/python3.7/dist-packages (from ggplot) (0.10.2)\n",
            "Requirement already satisfied: numpy in /usr/local/lib/python3.7/dist-packages (from ggplot) (1.19.5)\n",
            "Requirement already satisfied: scipy in /usr/local/lib/python3.7/dist-packages (from ggplot) (1.4.1)\n",
            "Requirement already satisfied: python-dateutil>=2.7.3 in /usr/local/lib/python3.7/dist-packages (from pandas->ggplot) (2.8.1)\n",
            "Requirement already satisfied: pytz>=2017.2 in /usr/local/lib/python3.7/dist-packages (from pandas->ggplot) (2018.9)\n",
            "Requirement already satisfied: pyparsing!=2.0.4,!=2.1.2,!=2.1.6,>=2.0.1 in /usr/local/lib/python3.7/dist-packages (from matplotlib->ggplot) (2.4.7)\n",
            "Requirement already satisfied: kiwisolver>=1.0.1 in /usr/local/lib/python3.7/dist-packages (from matplotlib->ggplot) (1.3.1)\n",
            "Requirement already satisfied: lets-plot in /usr/local/lib/python3.7/dist-packages (2.0.0)\n",
            "Requirement already satisfied: pypng in /usr/local/lib/python3.7/dist-packages (from lets-plot) (0.0.20)\n"
          ],
          "name": "stdout"
        }
      ]
    },
    {
      "cell_type": "code",
      "metadata": {
        "id": "0_t2lfmNkstp"
      },
      "source": [
        "import numpy as np\r\n",
        "import pandas as pd\r\n",
        "import matplotlib.pyplot as plt\r\n",
        "from lets_plot import *\r\n",
        "from sklearn.datasets import load_digits\r\n",
        "from numba import jit\r\n",
        "from numpy.lib import stride_tricks\r\n",
        "from sklearn.model_selection import train_test_split\r\n",
        "from sklearn.metrics import accuracy_score\r\n",
        "from sklearn.metrics import confusion_matrix\r\n",
        "from typing import List, Optional, Union\r\n",
        "import json\r\n",
        "import time"
      ],
      "execution_count": 81,
      "outputs": []
    },
    {
      "cell_type": "code",
      "metadata": {
        "id": "Giz1FwUUk4hT"
      },
      "source": [
        "class Function:\r\n",
        "  def __call__(self) -> \"Tensor\":\r\n",
        "    pass\r\n",
        "  \r\n",
        "  def backward(self, *args, **kwargs):\r\n",
        "    pass"
      ],
      "execution_count": 82,
      "outputs": []
    },
    {
      "cell_type": "code",
      "metadata": {
        "id": "uCxqTTT1lPhd"
      },
      "source": [
        "class Tensor:\r\n",
        "    def __init__(self, data: np.ndarray, func: Optional[Function]=None, name: str=None):\r\n",
        "        self.data: np.ndarray = data\r\n",
        "        self.grad: np.ndarray = np.zeros(data.shape)\r\n",
        "        self.func = func\r\n",
        "        self.__name__ = name\r\n",
        "    \r\n",
        "    def backward(self, grad: Optional[np.ndarray] = None):\r\n",
        "        if grad is not None:\r\n",
        "            assert grad.shape == self.grad.shape\r\n",
        "            self.grad += grad\r\n",
        "            if self.func:\r\n",
        "                self.func.backward(grad)\r\n",
        "        else:\r\n",
        "            if self.func:\r\n",
        "                self.func.backward()\r\n",
        "\r\n",
        "    def zero_grad(self):\r\n",
        "        self.grad[:] = .0\r\n",
        "    \r\n",
        "    @property\r\n",
        "    def shape(self):\r\n",
        "        return self.data.shape\r\n",
        "    \r\n",
        "    def reshape(self, *args, **kwargs):\r\n",
        "        return Tensor(self.data.reshape(*args, **kwargs), self.func, self.__name__)\r\n",
        "    \r\n",
        "    @property\r\n",
        "    def size(self):\r\n",
        "        return self.data.size\r\n",
        "    \r\n",
        "    def astype(self, dtype: Union[str, np.dtype]):\r\n",
        "        return self.data.astype(dtype)\r\n",
        "    \r\n",
        "    def __str__(self) -> str:\r\n",
        "        return str(self.data)"
      ],
      "execution_count": 137,
      "outputs": []
    },
    {
      "cell_type": "code",
      "metadata": {
        "id": "F28ZkQ48nuvt"
      },
      "source": [
        "class Module:\r\n",
        "    def __init__(self):\r\n",
        "        self.parameters: List[Tensor] = []\r\n",
        "        self.__name__ = self.__class__.__name__\r\n",
        "        self.state_dict = {}\r\n",
        "        self.training = True\r\n",
        "    \r\n",
        "    @staticmethod\r\n",
        "    def get_module_state_dict(module: \"Module\"):\r\n",
        "        keys = [param.__name__ for param in module.__dict__['parameters']]\r\n",
        "        values = [param.data.tolist() for param in module.__dict__['parameters']]\r\n",
        "        return dict(zip(keys, values))\r\n",
        "     \r\n",
        "    def update_state_dict(self):\r\n",
        "        module_state_dicts = []\r\n",
        "        module_names = []\r\n",
        "        for key in self.__dict__:\r\n",
        "            value = self.__dict__[key]\r\n",
        "            base_class_name = value.__class__.__bases__[0].__name__\r\n",
        "            class_name = value.__class__.__name__\r\n",
        "            if base_class_name == 'Module':\r\n",
        "                class_has_parameters = hasattr(value, \"parameters\")\r\n",
        "                if class_has_parameters:\r\n",
        "                    parameters_not_empty = len(value.parameters) > 0\r\n",
        "                    if parameters_not_empty:\r\n",
        "                        module_names.append(key)\r\n",
        "                        module_state_dict = self.get_module_state_dict(value)\r\n",
        "                        module_state_dicts.append(module_state_dict)\r\n",
        "        self.state_dict = dict(zip(module_names, module_state_dicts))\r\n",
        "\r\n",
        "    def register_parameter(self, param: Tensor):\r\n",
        "        self.parameters.append(param)\r\n",
        "\r\n",
        "    def register_parameters(self, param_list_or_module: Union[List[Tensor], \"Module\", List[\"Module\"]]):\r\n",
        "        if isinstance(param_list_or_module, List):\r\n",
        "            for element in param_list_or_module:\r\n",
        "                if isinstance(element, Tensor):\r\n",
        "                    self.register_parameter(element)\r\n",
        "                elif isinstance(element, Module):\r\n",
        "                    for param in element.parameters:\r\n",
        "                        self.register_parameter(param)\r\n",
        "                else:\r\n",
        "                    raise TypeError(\"Parameter should be of type Tensor\")\r\n",
        "        elif isinstance(param_list_or_module, Module):\r\n",
        "            for param in param_list_or_module.parameters:\r\n",
        "                self.register_parameter(param)\r\n",
        "        self.update_state_dict()\r\n",
        "    \r\n",
        "    def zero_grad(self):\r\n",
        "        for param in self.parameters:\r\n",
        "            param.zero_grad()\r\n",
        "    \r\n",
        "    def forward(self, *args, **kwargs):\r\n",
        "        raise NotImplementedError\r\n",
        "    \r\n",
        "    def __call__(self, *args, **kwargs):\r\n",
        "        return self.forward(*args, **kwargs)\r\n",
        "    \r\n",
        "    def size(self):\r\n",
        "        s = 0\r\n",
        "        for param in self.parameters:\r\n",
        "            s += param.data.size\r\n",
        "        return s\r\n",
        "    \r\n",
        "    def update_parameters_from_state_dict(self):\r\n",
        "        for key in self.__dict__:\r\n",
        "            if key in self.state_dict:\r\n",
        "                for param in self.__dict__[key].parameters:\r\n",
        "                    param.data = np.asarray(self.state_dict[key][param.__name__])\r\n",
        "\r\n",
        "    def save(self, filename: str = None):\r\n",
        "        if filename is None:\r\n",
        "            filename = time.strftime(\"%Y%m%d-%H%M%S\") + '.json'\r\n",
        "        self.update_state_dict()\r\n",
        "        with open(filename, 'w', encoding='utf-8') as f:\r\n",
        "            json.dump(self.state_dict, f, ensure_ascii=False, indent=4)\r\n",
        "    \r\n",
        "    def load(self, filename: str):\r\n",
        "        with open(filename, 'r') as f:\r\n",
        "            json_str = f.read()\r\n",
        "            self.state_dict = json.loads(json_str)\r\n",
        "        self.update_parameters_from_state_dict()\r\n",
        "    \r\n",
        "    def train(self):\r\n",
        "        self.training = True\r\n",
        "    \r\n",
        "    def eval(self):\r\n",
        "        self.training = False"
      ],
      "execution_count": 138,
      "outputs": []
    },
    {
      "cell_type": "code",
      "metadata": {
        "id": "UXJbbJPEpKo3"
      },
      "source": [
        "digits_bunch = load_digits()\r\n",
        "digits_df = pd.DataFrame(digits_bunch.data)\r\n",
        "digits_df['target'] = pd.Series(pd.Categorical.from_codes(digits_bunch.target, categories=digits_bunch.target_names))"
      ],
      "execution_count": 139,
      "outputs": []
    },
    {
      "cell_type": "code",
      "metadata": {
        "colab": {
          "base_uri": "https://localhost:8080/"
        },
        "id": "Epf362MrtjUO",
        "outputId": "e7889e5d-4bad-4679-fa42-c35a9629ce22"
      },
      "source": [
        "X, y = digits_df.drop('target', axis=1), digits_df['target']\r\n",
        "print('X shape: {}, y shape: {}'.format(X.shape, y.shape))"
      ],
      "execution_count": 140,
      "outputs": [
        {
          "output_type": "stream",
          "text": [
            "X shape: (1797, 64), y shape: (1797,)\n"
          ],
          "name": "stdout"
        }
      ]
    },
    {
      "cell_type": "code",
      "metadata": {
        "id": "T7JHqKIMtsMa"
      },
      "source": [
        "X, y = X.values, y.values\r\n",
        "y = y.astype(int)\r\n",
        "X = X / 16"
      ],
      "execution_count": 141,
      "outputs": []
    },
    {
      "cell_type": "code",
      "metadata": {
        "colab": {
          "base_uri": "https://localhost:8080/"
        },
        "id": "BDsINAkktvmT",
        "outputId": "11af551a-2499-4a24-a597-41fc363cc946"
      },
      "source": [
        "X_train_val, X_test, y_train_val, y_test = train_test_split(X, y, test_size=0.2, stratify=y, random_state=42)\r\n",
        "X_train, X_val, y_train, y_val = train_test_split(X_train_val, y_train_val, test_size=0.2, stratify=y_train_val, random_state=42)\r\n",
        "print('X_train shape: {}, X_val shape: {}, X_test shape: {}'.format(X_train.shape, X_val.shape, X_test.shape))"
      ],
      "execution_count": 142,
      "outputs": [
        {
          "output_type": "stream",
          "text": [
            "X_train shape: (1149, 64), X_val shape: (288, 64), X_test shape: (360, 64)\n"
          ],
          "name": "stdout"
        }
      ]
    },
    {
      "cell_type": "code",
      "metadata": {
        "id": "R30TjE3ztxZN"
      },
      "source": [
        "random_ind = np.random.randint(low=0, high=X.shape[0], size=100)\r\n",
        "digit_examples = X[random_ind]"
      ],
      "execution_count": 143,
      "outputs": []
    },
    {
      "cell_type": "code",
      "metadata": {
        "id": "13k0wu4atzl1"
      },
      "source": [
        "def Wandb(in_dim, out_dim):\r\n",
        "    W = np.random.normal(loc=0, scale=0.1, size=(in_dim, out_dim))\r\n",
        "    b = np.random.normal(loc=0, scale=0.1, size=(1, out_dim))\r\n",
        "    return Tensor(W, name='weights'), Tensor(b, name='bias')"
      ],
      "execution_count": 144,
      "outputs": []
    },
    {
      "cell_type": "code",
      "metadata": {
        "id": "mVJDJbfwvLjr"
      },
      "source": [
        "class Linear(Function):\r\n",
        "    def __init__(self, x: Tensor, W: Tensor, b: Tensor = None):\r\n",
        "        self.x = x\r\n",
        "        self.W = W\r\n",
        "        self.b = b\r\n",
        "\r\n",
        "    def __call__(self):\r\n",
        "        outputs = np.dot(self.x.data, self.W.data) + self.b.data\r\n",
        "        return Tensor(outputs, func=self)\r\n",
        "\r\n",
        "    def backward(self, grad: np.ndarray):\r\n",
        "        dW = np.dot(self.x.data.T, grad)\r\n",
        "        db = grad.sum(axis=0)\r\n",
        "        grad = np.dot(grad, self.W.data.T)\r\n",
        "        self.W.backward(dW.reshape(self.W.shape))\r\n",
        "        self.b.backward(db.reshape(self.b.shape))\r\n",
        "        self.x.backward(grad.reshape(self.x.shape))"
      ],
      "execution_count": 145,
      "outputs": []
    },
    {
      "cell_type": "code",
      "metadata": {
        "id": "VS6-p9gWvYT6"
      },
      "source": [
        "class LinearLayer(Module):\r\n",
        "    def __init__(self, in_dim: int, out_dim: int):\r\n",
        "        super().__init__()\r\n",
        "        self.W, self.b = Wandb(in_dim, out_dim)\r\n",
        "        self.register_parameters([self.W, self.b])\r\n",
        "        self.x = None\r\n",
        "\r\n",
        "    def forward(self, x: Tensor):\r\n",
        "        return Linear(x, self.W, self.b)()"
      ],
      "execution_count": 146,
      "outputs": []
    },
    {
      "cell_type": "code",
      "metadata": {
        "id": "HLJ6BGHYvu6a"
      },
      "source": [
        "def sigmoid(x):\r\n",
        "    s = 1.0 / (1.0 + np.exp(-x))\r\n",
        "    return s"
      ],
      "execution_count": 147,
      "outputs": []
    },
    {
      "cell_type": "code",
      "metadata": {
        "id": "bmwWsyDPv-W-"
      },
      "source": [
        "class Sigmoid(Function):\r\n",
        "    def __init__(self, x: Tensor):\r\n",
        "        self.x = x\r\n",
        "\r\n",
        "    def __call__(self):\r\n",
        "        self.a = sigmoid(self.x.data)\r\n",
        "        return Tensor(self.a, self)\r\n",
        "\r\n",
        "    def backward(self, grad: np.ndarray):\r\n",
        "        grad = self.a * (1. - self.a) * grad.reshape(self.a.shape)\r\n",
        "        self.x.backward(grad)"
      ],
      "execution_count": 148,
      "outputs": []
    },
    {
      "cell_type": "code",
      "metadata": {
        "id": "tTF-aT0SwH1R"
      },
      "source": [
        "class SigmoidFunction(Module):\r\n",
        "    def __init__(self):\r\n",
        "        super().__init__()\r\n",
        "\r\n",
        "    def forward(self, x: Tensor):\r\n",
        "        return Sigmoid(x)()"
      ],
      "execution_count": 149,
      "outputs": []
    },
    {
      "cell_type": "code",
      "metadata": {
        "id": "vh93bakwwLix"
      },
      "source": [
        "def softmax(x: Tensor):\r\n",
        "    a = np.amax(x.data, axis=1)[:, np.newaxis]\r\n",
        "    ex = np.exp(x.data - a)\r\n",
        "    ex_sum = np.sum(ex, axis=1)[:, np.newaxis]\r\n",
        "    out = ex / ex_sum\r\n",
        "    return Tensor(out, x.func)"
      ],
      "execution_count": 150,
      "outputs": []
    },
    {
      "cell_type": "code",
      "metadata": {
        "id": "wADqhdsGwSwK"
      },
      "source": [
        "def one_hot_encoder(labels: Tensor, n_classes=10):\r\n",
        "    encoded = np.zeros((labels.size, n_classes))\r\n",
        "    encoded[np.arange(labels.size), labels.astype(int)] = 1\r\n",
        "    return Tensor(encoded)"
      ],
      "execution_count": 151,
      "outputs": []
    },
    {
      "cell_type": "code",
      "metadata": {
        "id": "KSX8n5Z7wUFR"
      },
      "source": [
        "class NLL(Function):\r\n",
        "    def __init__(self, y_hat: Tensor, y: Tensor, eps: float = 1e-15):\r\n",
        "        self.y_hat = softmax(y_hat)\r\n",
        "        self.y = one_hot_encoder(y)\r\n",
        "        self.eps = eps\r\n",
        "\r\n",
        "    def __call__(self):\r\n",
        "        logs = np.log(self.y_hat.data + self.eps)\r\n",
        "        loss = np.multiply(-self.y.data, logs).sum(axis=1).sum()\r\n",
        "        return Tensor(loss, self)\r\n",
        "    \r\n",
        "    def backward(self):\r\n",
        "        grad = self.y_hat.data - self.y.data\r\n",
        "        self.y_hat.backward(grad)"
      ],
      "execution_count": 152,
      "outputs": []
    },
    {
      "cell_type": "code",
      "metadata": {
        "id": "Zyj14ZAjwfXb"
      },
      "source": [
        "class CrossEntropyLoss(Module):\r\n",
        "    def __init__(self, eps=1e-15):\r\n",
        "        super().__init__()\r\n",
        "        self.eps = eps\r\n",
        "\r\n",
        "    def forward(self, output, target):\r\n",
        "        return NLL(output, target, self.eps)()"
      ],
      "execution_count": 153,
      "outputs": []
    },
    {
      "cell_type": "code",
      "metadata": {
        "id": "AuFG5Bj0wgws"
      },
      "source": [
        "class Optimizer:\r\n",
        "    def __init__(self, params: List[Tensor], lr: float = 0.001):\r\n",
        "        self.params = params\r\n",
        "        self.lr = lr\r\n",
        "\r\n",
        "    def step(self, *args, **kwargs):\r\n",
        "        raise NotImplemented\r\n",
        "    \r\n",
        "    def zero_grad(self):\r\n",
        "        for param in self.params:\r\n",
        "            param.zero_grad()\r\n"
      ],
      "execution_count": 154,
      "outputs": []
    },
    {
      "cell_type": "code",
      "metadata": {
        "id": "tODrPa5GqMx6"
      },
      "source": [
        "class SGD(Optimizer):\r\n",
        "    def __init__(self, params: List[Tensor], lr: float = 0.001):\r\n",
        "        super().__init__(params, lr)\r\n",
        "\r\n",
        "    def step(self):\r\n",
        "        for param in self.params:\r\n",
        "            param.data -= self.lr * param.grad"
      ],
      "execution_count": 155,
      "outputs": []
    },
    {
      "cell_type": "code",
      "metadata": {
        "id": "HlHuxu1IqQ8o"
      },
      "source": [
        "class Scheduler:\r\n",
        "    def __init__(self, optimizer: Optimizer, last_epoch: int = -1):\r\n",
        "        self.optimizer = optimizer\r\n",
        "        self.base_lr = optimizer.lr\r\n",
        "        self.last_epoch = last_epoch\r\n",
        "    \r\n",
        "    def step(self):\r\n",
        "        raise NotImplementedError"
      ],
      "execution_count": 156,
      "outputs": []
    },
    {
      "cell_type": "code",
      "metadata": {
        "id": "Tb7TDGb5qTYB"
      },
      "source": [
        "class ConstantLR(Scheduler):\r\n",
        "    def __init__(self, optimizer: Optimizer):\r\n",
        "        super().__init__(optimizer)\r\n",
        "        self.lr = optimizer.lr\r\n",
        "    \r\n",
        "    def step(self):\r\n",
        "        self.last_epoch += 1"
      ],
      "execution_count": 157,
      "outputs": []
    },
    {
      "cell_type": "code",
      "metadata": {
        "id": "uwxJGzBoqXN0"
      },
      "source": [
        "def xavier_(weights):\r\n",
        "    for weight in weights:\r\n",
        "        in_dim, out_dim = weight.shape[-2:]\r\n",
        "        np.copyto(dst=weight.data, src=np.random.randn(*weight.shape) * np.sqrt(2. / (in_dim + out_dim)))"
      ],
      "execution_count": 158,
      "outputs": []
    },
    {
      "cell_type": "code",
      "metadata": {
        "id": "7KxTL5f5qeyS"
      },
      "source": [
        "def im2col_idx(x, Hf, Wf, padding=1, stride=1):\r\n",
        "    Nx, Cx, Hx, Wx = x.shape\r\n",
        "\r\n",
        "    Hx += 2 * padding\r\n",
        "    Wx += 2 * padding\r\n",
        "    Ho = (Hx - Hf) / stride + 1\r\n",
        "    Wo = (Wx - Wf) / stride + 1\r\n",
        "    Ho, Wo = int(Ho), int(Wo)\r\n",
        "\r\n",
        "    mask = np.arange(Nx * Cx * Hx * Wx).reshape(Nx, Cx, Hx, Wx)\r\n",
        "    shape = (Cx, Hf, Wf, Nx, Ho, Wo)\r\n",
        "    strides = (Hx * Wx, Wx, 1, Cx * Hx * Wx, stride * Wx, stride)\r\n",
        "    strides = x.itemsize * np.array(strides)\r\n",
        "    mask_stride = stride_tricks.as_strided(mask, shape=shape, strides=strides, writeable=False)\r\n",
        "    return mask_stride, Ho, Wo\r\n"
      ],
      "execution_count": 159,
      "outputs": []
    },
    {
      "cell_type": "code",
      "metadata": {
        "id": "5HPux3liqguo"
      },
      "source": [
        "def im2col(x, Hf, Wf, padding=1, stride=1):\r\n",
        "    Nx, Cx, Hx, Wx = x.shape\r\n",
        "\r\n",
        "    x_padded = np.pad(x, ((0, 0), (0, 0), (padding, padding), (padding, padding)), mode='constant')\r\n",
        "    mask_stride, Ho, Wo = im2col_idx(x, Hf, Wf, padding, stride)\r\n",
        "\r\n",
        "    idx = mask_stride.ravel()\r\n",
        "    x_padded_stride = x_padded.ravel()[idx].reshape(mask_stride.shape)\r\n",
        "    cols = np.ascontiguousarray(x_padded_stride)\r\n",
        "\r\n",
        "    cols = np.ascontiguousarray(cols.transpose(0, 1, 2, 4, 5, 3))\r\n",
        "    cols.shape = (Cx * Hf * Wf, Ho * Wo * Nx)\r\n",
        "    return cols\r\n"
      ],
      "execution_count": 160,
      "outputs": []
    },
    {
      "cell_type": "code",
      "metadata": {
        "id": "IfelUj1pqiqL"
      },
      "source": [
        "def col2im(cols, x, Hf, Wf, padding=1, stride=1):\r\n",
        "    Nx, Cx, Hx, Wx = x.shape\r\n",
        "    Hp, Wp = Hx + 2 * padding, Wx + 2 * padding\r\n",
        "    x_padded = np.zeros((Nx, Cx, Hp, Wp), dtype=cols.dtype)\r\n",
        "    x_padded = np.ascontiguousarray(x_padded)\r\n",
        "    mask_stride, Ho, Wo = im2col_idx(x, Hf, Wf, padding, stride)\r\n",
        "\r\n",
        "    cols_reshaped = cols.reshape(Cx * Hf * Wf, Ho, Wo, Nx).transpose(0, 3, 1, 2)\r\n",
        "    cols_reshaped = cols_reshaped.reshape(Cx * Hf * Wf, -1, Nx)\r\n",
        "\r\n",
        "    np.add.at(x_padded.ravel(), mask_stride.ravel(), cols_reshaped.ravel())\r\n",
        "    if padding == 0:\r\n",
        "        return x_padded\r\n",
        "    return x_padded[:, :, padding:-padding, padding:-padding]"
      ],
      "execution_count": 161,
      "outputs": []
    },
    {
      "cell_type": "code",
      "metadata": {
        "id": "NYN_aoAWqZMo"
      },
      "source": [
        "class Conv2D(Function):\r\n",
        "    def __init__(self, x: Tensor, W: Tensor, b: Tensor = None, stride: int = 1, padding: int = 1):\r\n",
        "        self.x = x\r\n",
        "        self.W = W\r\n",
        "        self.b = b\r\n",
        "        self.stride = stride\r\n",
        "        self.padding = padding\r\n",
        "\r\n",
        "    def __call__(self):\r\n",
        "        Nf, Cf, Hf, Wf = self.W.shape\r\n",
        "        Nx, Cx, Hx, Wx = self.x.shape\r\n",
        "\r\n",
        "        Ho = (Hx - Hf + 2 * self.padding) / self.stride + 1\r\n",
        "        Wo = (Wx - Wf + 2 * self.padding) / self.stride + 1\r\n",
        "        Ho, Wo = int(Ho), int(Wo)\r\n",
        "\r\n",
        "        self.x_col = im2col(self.x.data, Hf, Wf, self.padding, self.stride)\r\n",
        "\r\n",
        "        self.x_col = np.ascontiguousarray(self.x_col)\r\n",
        "        W_col = self.W.data.reshape(Nf, -1)\r\n",
        "        z = np.dot(W_col, self.x_col) + self.b.data\r\n",
        "        z = z.reshape(Nf, Ho, Wo, Nx)\r\n",
        "        z = z.transpose(3, 0, 1, 2)\r\n",
        "        z = np.ascontiguousarray(z)\r\n",
        "        return Tensor(z, func=self)\r\n",
        "\r\n",
        "    def backward(self, grad:np.ndarray):\r\n",
        "        Nf, Cf, Hf, Wf = self.W.shape\r\n",
        "\r\n",
        "        db = grad.sum(axis=(0, 2, 3))\r\n",
        "        db = db.reshape(Nf, -1)\r\n",
        "\r\n",
        "        grad_ = grad.transpose(1, 2, 3, 0).reshape(Nf, -1)\r\n",
        "        dW = np.dot(grad_, self.x_col.T)\r\n",
        "        dW = dW.reshape(self.W.shape)\r\n",
        "\r\n",
        "        W_ = self.W.data.reshape(Nf, -1)\r\n",
        "        dx_col = np.dot(W_.T, grad_)\r\n",
        "        dx_col = np.ascontiguousarray(dx_col)\r\n",
        "        dx = col2im(dx_col, self.x.data, Hf, Wf, self.padding, self.stride)\r\n",
        "        dx = np.ascontiguousarray(dx)\r\n",
        "        self.W.backward(dW.reshape(self.W.shape))\r\n",
        "        self.b.backward(db.reshape(self.b.shape))\r\n",
        "        self.x.backward(dx.reshape(self.x.shape))"
      ],
      "execution_count": 162,
      "outputs": []
    },
    {
      "cell_type": "code",
      "metadata": {
        "id": "ovDc9fFPqbn4"
      },
      "source": [
        "class ConvLayer(Module):\r\n",
        "    def __init__(self, N, C, H=3, W=3, stride=1, padding=1):\r\n",
        "        super().__init__()\r\n",
        "        self.W = Tensor(np.random.randn(N, C, H, W) * 0.01, name='weights')\r\n",
        "        self.b = Tensor(np.random.randn(N, 1), name='bias')\r\n",
        "        self.stride = stride\r\n",
        "        self.padding = padding\r\n",
        "        self.register_parameters([self.W, self.b])\r\n",
        "        self.x = None\r\n",
        "\r\n",
        "    def forward(self, x: Tensor):\r\n",
        "        return Conv2D(x, self.W, self.b, self.stride, self.padding)()"
      ],
      "execution_count": 163,
      "outputs": []
    },
    {
      "cell_type": "code",
      "metadata": {
        "id": "_fu2GAoHqlQk"
      },
      "source": [
        "class ConvNetwork(Module):\r\n",
        "    def __init__(self):\r\n",
        "        super().__init__()\r\n",
        "        self.conv1 = ConvLayer(10, 1)\r\n",
        "        self.conv2 = ConvLayer(3, 10)\r\n",
        "        self.fc = LinearLayer(192, 10)\r\n",
        "        self.sigmoid1 = SigmoidFunction()\r\n",
        "        self.sigmoid2 = SigmoidFunction()\r\n",
        "\r\n",
        "        xavier_(self.conv1.parameters)\r\n",
        "        xavier_(self.conv2.parameters)\r\n",
        "        xavier_(self.fc.parameters)\r\n",
        "        self.register_parameters([self.conv1, self.conv2, self.fc])\r\n",
        "\r\n",
        "    def forward(self, x: Tensor):\r\n",
        "        z1 = self.conv1(x)\r\n",
        "        a1 = self.sigmoid1(z1)\r\n",
        "        z2 = self.conv2(a1)\r\n",
        "        a2 = self.sigmoid2(z2)\r\n",
        "        flat = a2.reshape(a2.shape[0], -1)\r\n",
        "        z3 = self.fc(flat)\r\n",
        "        return z3"
      ],
      "execution_count": 164,
      "outputs": []
    },
    {
      "cell_type": "code",
      "metadata": {
        "id": "izax53AkqnGU"
      },
      "source": [
        "def reshape(x: Tensor, Nx=10, Cx=1, Hx=8, Wx=8):\r\n",
        "    return x.reshape(-1, Cx, Hx, Wx)"
      ],
      "execution_count": 165,
      "outputs": []
    },
    {
      "cell_type": "code",
      "metadata": {
        "id": "qkhtBVonqoqS"
      },
      "source": [
        "class DataLoader:\r\n",
        "    def __init__(self, data, target, batch_size=20):\r\n",
        "        self.data = data\r\n",
        "        self.target = target\r\n",
        "        self.batch_size = batch_size\r\n",
        "\r\n",
        "    def next(self):\r\n",
        "        m, _ = self.data.shape\r\n",
        "        rand_index = np.random.choice(m, size=m, replace=False)\r\n",
        "        X, y = self.data[rand_index], self.target[rand_index]\r\n",
        "        pos = 0\r\n",
        "        while pos < m:\r\n",
        "            X_batch, y_batch = X[pos:pos+self.batch_size], y[pos:pos+self.batch_size]\r\n",
        "            yield Tensor(X_batch), Tensor(y_batch)\r\n",
        "            pos += self.batch_size\r\n",
        "\r\n",
        "    def __call__(self):\r\n",
        "        return self.next()"
      ],
      "execution_count": 166,
      "outputs": []
    },
    {
      "cell_type": "code",
      "metadata": {
        "id": "YhbGzgdGqpnz"
      },
      "source": [
        "def eval_accuracy(model, val, y_val):\r\n",
        "    val = reshape(Tensor(val), 11200)\r\n",
        "    output = model(val)\r\n",
        "    y_hat = np.argmax(output.data, axis=1)\r\n",
        "    return accuracy_score(y_val, y_hat)\r\n"
      ],
      "execution_count": 167,
      "outputs": []
    },
    {
      "cell_type": "code",
      "metadata": {
        "colab": {
          "base_uri": "https://localhost:8080/"
        },
        "id": "6-mXWsc9qrFv",
        "outputId": "ab979da7-cd16-4ab3-f550-823224b2a0e3"
      },
      "source": [
        "num_epochs = 50\r\n",
        "batch_size = 10\r\n",
        "dataloader = DataLoader(X_train, y_train, batch_size)\r\n",
        "model = ConvNetwork()\r\n",
        "loss_function = CrossEntropyLoss()\r\n",
        "optimizer = SGD(model.parameters, lr=0.01)\r\n",
        "scheduler = ConstantLR(optimizer)\r\n",
        "model.size()"
      ],
      "execution_count": 168,
      "outputs": [
        {
          "output_type": "execute_result",
          "data": {
            "text/plain": [
              "2303"
            ]
          },
          "metadata": {
            "tags": []
          },
          "execution_count": 168
        }
      ]
    },
    {
      "cell_type": "code",
      "metadata": {
        "colab": {
          "base_uri": "https://localhost:8080/"
        },
        "id": "4wPSMnSjqsLc",
        "outputId": "3103b306-a71c-49ba-83b1-7c12d2379282"
      },
      "source": [
        "losses = []\r\n",
        "accuracies = []\r\n",
        "lrs = []\r\n",
        "for epoch in range(num_epochs):\r\n",
        "    loss_sum = 0\r\n",
        "    for data in dataloader():\r\n",
        "        optimizer.zero_grad()\r\n",
        "        inputs, targets = data\r\n",
        "        inputs = reshape(inputs)\r\n",
        "        outputs = model(inputs)\r\n",
        "        loss = loss_function(outputs, targets)\r\n",
        "        loss.backward()\r\n",
        "        optimizer.step()\r\n",
        "        loss_sum += loss.data\r\n",
        "    acc = eval_accuracy(model, X_val, y_val)\r\n",
        "    print(f'\\r epoch: [{epoch+1}/{num_epochs}], loss: {loss_sum}, acc: {acc}', end='')\r\n",
        "    losses.append(loss_sum)\r\n",
        "    accuracies.append(acc)\r\n",
        "    lrs.append(scheduler.lr)\r\n",
        "    scheduler.step()"
      ],
      "execution_count": 169,
      "outputs": [
        {
          "output_type": "stream",
          "text": [
            " epoch: [50/50], loss: 44.3872135544678, acc: 0.9652777777777778"
          ],
          "name": "stdout"
        }
      ]
    },
    {
      "cell_type": "code",
      "metadata": {
        "id": "uiFkPhxvqu-E",
        "colab": {
          "base_uri": "https://localhost:8080/",
          "height": 335
        },
        "outputId": "b2fac118-8a91-47be-9d34-57cd42926a36"
      },
      "source": [
        "epochs = np.arange(num_epochs)\r\n",
        "fig, ax = plt.subplots(1, 2, figsize=(15,5))\r\n",
        "ax[0].plot(epochs, losses)\r\n",
        "ax[0].set_title('Losses')\r\n",
        "ax[1].plot(epochs, accuracies)\r\n",
        "ax[1].set_title('Accuracy');"
      ],
      "execution_count": 170,
      "outputs": [
        {
          "output_type": "display_data",
          "data": {
            "image/png": "[encoded data removed]",
            "text/plain": [
              "<Figure size 1080x360 with 2 Axes>"
            ]
          },
          "metadata": {
            "tags": [],
            "needs_background": "light"
          }
        }
      ]
    },
    {
      "cell_type": "code",
      "metadata": {
        "id": "CmrLWXLLvJQu"
      },
      "source": [
        "model.eval()\r\n",
        "y_hat = model(reshape(Tensor(X_train)))\r\n",
        "y_pred = np.argmax(y_hat.data, axis=1)\r\n"
      ],
      "execution_count": 171,
      "outputs": []
    },
    {
      "cell_type": "code",
      "metadata": {
        "id": "Ki7yTDfOvSJw"
      },
      "source": [
        "def gg_confusion_matrix(y, y_hat):\r\n",
        "    conf_mat = confusion_matrix(y, y_hat)[::-1]\r\n",
        "    confusion_dat = pd.DataFrame(conf_mat)\r\n",
        "    observed = confusion_dat.columns.values\r\n",
        "    actual = confusion_dat.index.values\r\n",
        "    xx, yy = np.meshgrid(actual, observed)\r\n",
        "    xx = xx.reshape(-1)\r\n",
        "    yy = yy.reshape(-1)\r\n",
        "    zz = conf_mat.reshape(-1)\r\n",
        "    dat = {'predicted':xx, 'actual':yy[::-1], 'z':zz}\r\n",
        "    p = ggplot(dat, aes('predicted', 'actual', fill='z')) \\\r\n",
        "        + geom_raster() \\\r\n",
        "        + geom_text(aes(label='z'), color='white')\\\r\n",
        "        + theme(legend_position='none', axis_ticks='blank', axis_line='blank')\\\r\n",
        "        + ggsize(500, 500) + scale_x_discrete() + scale_y_discrete()\\\r\n",
        "        + ggtitle('Confusion matrix')\r\n",
        "    return p\r\n"
      ],
      "execution_count": 173,
      "outputs": []
    },
    {
      "cell_type": "code",
      "metadata": {
        "id": "Rpq2JfwLvZBY"
      },
      "source": [
        "def f1_score_micro(conf_matrix):\r\n",
        "    num_tags = conf_matrix.shape[0]\r\n",
        "    score = 0.\r\n",
        "    pr, p, r = 0., 0., 0.\r\n",
        "    for tag in range(num_tags):\r\n",
        "        pr += conf_matrix[tag, tag]\r\n",
        "        p += sum(conf_matrix[tag, :])\r\n",
        "        r += sum(conf_matrix[:, tag])\r\n",
        "    try:\r\n",
        "        score = 2 * pr / (p + r)\r\n",
        "    except ZeroDivisionError:\r\n",
        "        pass\r\n",
        "    return score"
      ],
      "execution_count": 176,
      "outputs": []
    },
    {
      "cell_type": "code",
      "metadata": {
        "colab": {
          "base_uri": "https://localhost:8080/",
          "height": 521
        },
        "id": "BYo1O19VvMh7",
        "outputId": "3ffe988a-d5ea-4e90-a2ab-74053a3bdbf2"
      },
      "source": [
        "gg_confusion_matrix(y_train, y_pred) + ggsize(500, 500)\r\n"
      ],
      "execution_count": 177,
      "outputs": [
        {
          "output_type": "execute_result",
          "data": {
            "text/html": [
              "<html lang=\"en\">\n",
              "   <head>\n",
              "       <script type=\"text/javascript\" data-lets-plot-script=\"library\" src=\"https://dl.bintray.com/jetbrains/lets-plot/lets-plot-2.0.0.min.js\"></script>\n",
              "   </head>\n",
              "   <body>\n",
              "          <div id=\"ydYLru\"></div>\n",
              "   <script type=\"text/javascript\" data-lets-plot-script=\"plot\">\n",
              "       var plotSpec={\n",
              "'data':{\n",
              "'predicted':[0.0,1.0,2.0,3.0,4.0,5.0,6.0,7.0,8.0,9.0,0.0,1.0,2.0,3.0,4.0,5.0,6.0,7.0,8.0,9.0,0.0,1.0,2.0,3.0,4.0,5.0,6.0,7.0,8.0,9.0,0.0,1.0,2.0,3.0,4.0,5.0,6.0,7.0,8.0,9.0,0.0,1.0,2.0,3.0,4.0,5.0,6.0,7.0,8.0,9.0,0.0,1.0,2.0,3.0,4.0,5.0,6.0,7.0,8.0,9.0,0.0,1.0,2.0,3.0,4.0,5.0,6.0,7.0,8.0,9.0,0.0,1.0,2.0,3.0,4.0,5.0,6.0,7.0,8.0,9.0,0.0,1.0,2.0,3.0,4.0,5.0,6.0,7.0,8.0,9.0,0.0,1.0,2.0,3.0,4.0,5.0,6.0,7.0,8.0,9.0],\n",
              "'actual':[9.0,9.0,9.0,9.0,9.0,9.0,9.0,9.0,9.0,9.0,8.0,8.0,8.0,8.0,8.0,8.0,8.0,8.0,8.0,8.0,7.0,7.0,7.0,7.0,7.0,7.0,7.0,7.0,7.0,7.0,6.0,6.0,6.0,6.0,6.0,6.0,6.0,6.0,6.0,6.0,5.0,5.0,5.0,5.0,5.0,5.0,5.0,5.0,5.0,5.0,4.0,4.0,4.0,4.0,4.0,4.0,4.0,4.0,4.0,4.0,3.0,3.0,3.0,3.0,3.0,3.0,3.0,3.0,3.0,3.0,2.0,2.0,2.0,2.0,2.0,2.0,2.0,2.0,2.0,2.0,1.0,1.0,1.0,1.0,1.0,1.0,1.0,1.0,1.0,1.0,0.0,0.0,0.0,0.0,0.0,0.0,0.0,0.0,0.0,0.0],\n",
              "'z':[0.0,0.0,0.0,1.0,0.0,0.0,0.0,0.0,0.0,114.0,0.0,2.0,1.0,0.0,0.0,2.0,0.0,0.0,106.0,0.0,0.0,0.0,0.0,0.0,0.0,0.0,0.0,114.0,0.0,0.0,0.0,0.0,0.0,0.0,0.0,0.0,116.0,0.0,0.0,0.0,0.0,0.0,0.0,0.0,0.0,115.0,0.0,0.0,0.0,1.0,0.0,0.0,0.0,0.0,116.0,0.0,0.0,0.0,0.0,0.0,0.0,0.0,0.0,116.0,0.0,1.0,0.0,0.0,0.0,0.0,0.0,0.0,114.0,0.0,0.0,0.0,0.0,0.0,0.0,0.0,0.0,117.0,0.0,0.0,0.0,0.0,0.0,0.0,0.0,0.0,113.0,0.0,0.0,0.0,0.0,0.0,0.0,0.0,0.0,0.0]\n",
              "},\n",
              "'mapping':{\n",
              "'x':\"predicted\",\n",
              "'y':\"actual\",\n",
              "'fill':\"z\"\n",
              "},\n",
              "'data_meta':{\n",
              "},\n",
              "'theme':{\n",
              "'axis_ticks':\"blank\",\n",
              "'axis_line':\"blank\",\n",
              "'legend_position':\"none\"\n",
              "},\n",
              "'ggsize':{\n",
              "'width':500,\n",
              "'height':500\n",
              "},\n",
              "'ggtitle':{\n",
              "'text':\"Confusion matrix\"\n",
              "},\n",
              "'kind':\"plot\",\n",
              "'scales':[{\n",
              "'aesthetic':\"x\",\n",
              "'discrete':true,\n",
              "'reverse':false\n",
              "},{\n",
              "'aesthetic':\"y\",\n",
              "'discrete':true,\n",
              "'reverse':false\n",
              "}],\n",
              "'layers':[{\n",
              "'geom':\"raster\",\n",
              "'mapping':{\n",
              "},\n",
              "'data_meta':{\n",
              "},\n",
              "'data':{\n",
              "}\n",
              "},{\n",
              "'geom':\"text\",\n",
              "'mapping':{\n",
              "'label':\"z\"\n",
              "},\n",
              "'data_meta':{\n",
              "},\n",
              "'color':\"white\",\n",
              "'data':{\n",
              "}\n",
              "}]\n",
              "};\n",
              "       var plotContainer = document.getElementById(\"ydYLru\");\n",
              "       LetsPlot.buildPlotFromProcessedSpecs(plotSpec, -1, -1, plotContainer);\n",
              "   </script>\n",
              "   </body>\n",
              "</html>"
            ],
            "text/plain": [
              "<lets_plot.plot.core.PlotSpec at 0x7fd786baded0>"
            ]
          },
          "metadata": {
            "tags": []
          },
          "execution_count": 177
        }
      ]
    },
    {
      "cell_type": "code",
      "metadata": {
        "colab": {
          "base_uri": "https://localhost:8080/"
        },
        "id": "wJ8Mry6_vOyZ",
        "outputId": "d6775212-98b8-47db-c9ad-f853f311b9b0"
      },
      "source": [
        "cm = confusion_matrix(y_train, y_pred)\r\n",
        "score = f1_score_micro(cm)\r\n",
        "print(f'F1 score micro: {score}')"
      ],
      "execution_count": 178,
      "outputs": [
        {
          "output_type": "stream",
          "text": [
            "F1 score micro: 0.9930374238468234\n"
          ],
          "name": "stdout"
        }
      ]
    },
    {
      "cell_type": "code",
      "metadata": {
        "id": "ptgugswVvU_Q"
      },
      "source": [
        "model.eval()\r\n",
        "y_hat = model(reshape(Tensor(X_test)))\r\n",
        "y_pred = np.argmax(y_hat.data, axis=1)\r\n"
      ],
      "execution_count": 179,
      "outputs": []
    },
    {
      "cell_type": "code",
      "metadata": {
        "colab": {
          "base_uri": "https://localhost:8080/",
          "height": 521
        },
        "id": "lQzg1IF8vbx9",
        "outputId": "37687f2d-4ea8-4f50-d7f7-38ccb8216938"
      },
      "source": [
        "gg_confusion_matrix(y_test, y_pred) + ggsize(500, 500)\r\n"
      ],
      "execution_count": 180,
      "outputs": [
        {
          "output_type": "execute_result",
          "data": {
            "text/html": [
              "<html lang=\"en\">\n",
              "   <head>\n",
              "       <script type=\"text/javascript\" data-lets-plot-script=\"library\" src=\"https://dl.bintray.com/jetbrains/lets-plot/lets-plot-2.0.0.min.js\"></script>\n",
              "   </head>\n",
              "   <body>\n",
              "          <div id=\"mtpaEt\"></div>\n",
              "   <script type=\"text/javascript\" data-lets-plot-script=\"plot\">\n",
              "       var plotSpec={\n",
              "'data':{\n",
              "'predicted':[0.0,1.0,2.0,3.0,4.0,5.0,6.0,7.0,8.0,9.0,0.0,1.0,2.0,3.0,4.0,5.0,6.0,7.0,8.0,9.0,0.0,1.0,2.0,3.0,4.0,5.0,6.0,7.0,8.0,9.0,0.0,1.0,2.0,3.0,4.0,5.0,6.0,7.0,8.0,9.0,0.0,1.0,2.0,3.0,4.0,5.0,6.0,7.0,8.0,9.0,0.0,1.0,2.0,3.0,4.0,5.0,6.0,7.0,8.0,9.0,0.0,1.0,2.0,3.0,4.0,5.0,6.0,7.0,8.0,9.0,0.0,1.0,2.0,3.0,4.0,5.0,6.0,7.0,8.0,9.0,0.0,1.0,2.0,3.0,4.0,5.0,6.0,7.0,8.0,9.0,0.0,1.0,2.0,3.0,4.0,5.0,6.0,7.0,8.0,9.0],\n",
              "'actual':[9.0,9.0,9.0,9.0,9.0,9.0,9.0,9.0,9.0,9.0,8.0,8.0,8.0,8.0,8.0,8.0,8.0,8.0,8.0,8.0,7.0,7.0,7.0,7.0,7.0,7.0,7.0,7.0,7.0,7.0,6.0,6.0,6.0,6.0,6.0,6.0,6.0,6.0,6.0,6.0,5.0,5.0,5.0,5.0,5.0,5.0,5.0,5.0,5.0,5.0,4.0,4.0,4.0,4.0,4.0,4.0,4.0,4.0,4.0,4.0,3.0,3.0,3.0,3.0,3.0,3.0,3.0,3.0,3.0,3.0,2.0,2.0,2.0,2.0,2.0,2.0,2.0,2.0,2.0,2.0,1.0,1.0,1.0,1.0,1.0,1.0,1.0,1.0,1.0,1.0,0.0,0.0,0.0,0.0,0.0,0.0,0.0,0.0,0.0,0.0],\n",
              "'z':[0.0,0.0,0.0,0.0,2.0,0.0,0.0,0.0,0.0,34.0,0.0,4.0,0.0,0.0,0.0,0.0,0.0,1.0,30.0,0.0,0.0,0.0,0.0,0.0,0.0,0.0,0.0,36.0,0.0,0.0,1.0,0.0,0.0,0.0,0.0,0.0,35.0,0.0,0.0,0.0,0.0,0.0,0.0,0.0,0.0,37.0,0.0,0.0,0.0,0.0,0.0,0.0,0.0,0.0,36.0,0.0,0.0,0.0,0.0,0.0,0.0,0.0,0.0,36.0,0.0,1.0,0.0,0.0,0.0,0.0,0.0,0.0,35.0,0.0,0.0,0.0,0.0,0.0,0.0,0.0,0.0,33.0,0.0,0.0,2.0,0.0,1.0,0.0,0.0,0.0,34.0,0.0,1.0,0.0,1.0,0.0,0.0,0.0,0.0,0.0]\n",
              "},\n",
              "'mapping':{\n",
              "'x':\"predicted\",\n",
              "'y':\"actual\",\n",
              "'fill':\"z\"\n",
              "},\n",
              "'data_meta':{\n",
              "},\n",
              "'theme':{\n",
              "'axis_ticks':\"blank\",\n",
              "'axis_line':\"blank\",\n",
              "'legend_position':\"none\"\n",
              "},\n",
              "'ggsize':{\n",
              "'width':500,\n",
              "'height':500\n",
              "},\n",
              "'ggtitle':{\n",
              "'text':\"Confusion matrix\"\n",
              "},\n",
              "'kind':\"plot\",\n",
              "'scales':[{\n",
              "'aesthetic':\"x\",\n",
              "'discrete':true,\n",
              "'reverse':false\n",
              "},{\n",
              "'aesthetic':\"y\",\n",
              "'discrete':true,\n",
              "'reverse':false\n",
              "}],\n",
              "'layers':[{\n",
              "'geom':\"raster\",\n",
              "'mapping':{\n",
              "},\n",
              "'data_meta':{\n",
              "},\n",
              "'data':{\n",
              "}\n",
              "},{\n",
              "'geom':\"text\",\n",
              "'mapping':{\n",
              "'label':\"z\"\n",
              "},\n",
              "'data_meta':{\n",
              "},\n",
              "'color':\"white\",\n",
              "'data':{\n",
              "}\n",
              "}]\n",
              "};\n",
              "       var plotContainer = document.getElementById(\"mtpaEt\");\n",
              "       LetsPlot.buildPlotFromProcessedSpecs(plotSpec, -1, -1, plotContainer);\n",
              "   </script>\n",
              "   </body>\n",
              "</html>"
            ],
            "text/plain": [
              "<lets_plot.plot.core.PlotSpec at 0x7fd786bad8d0>"
            ]
          },
          "metadata": {
            "tags": []
          },
          "execution_count": 180
        }
      ]
    },
    {
      "cell_type": "code",
      "metadata": {
        "colab": {
          "base_uri": "https://localhost:8080/"
        },
        "id": "b1IhzU5AvcxV",
        "outputId": "9ad68bb2-3ca0-4334-b684-f2c9b82a702b"
      },
      "source": [
        "cm = confusion_matrix(y_test, y_pred)\r\n",
        "score = f1_score_micro(cm)\r\n",
        "print(f'F1 score micro: {score}')\r\n"
      ],
      "execution_count": 181,
      "outputs": [
        {
          "output_type": "stream",
          "text": [
            "F1 score micro: 0.9611111111111111\n"
          ],
          "name": "stdout"
        }
      ]
    },
    {
      "cell_type": "code",
      "metadata": {
        "id": "PHQL_8Kgvd0L"
      },
      "source": [
        "def gradient_checker(J, grad_J, theta, eps=1e-5, rtol=1e-5):\r\n",
        "    \"\"\"Gradient checker for scalar and vector functions\r\n",
        "Args:\r\n",
        "    J - function of theta\r\n",
        "    grad_J - gradient of function J\r\n",
        "    theta - the point for which to compute the numerical gradient\r\n",
        "    eps - step value in numerical gradient\r\n",
        "    rtol - relative tolerance threshold value\r\n",
        "Returns:\r\n",
        "    error message if the relative tolerance is greater for some axis\r\n",
        "    or \"Gradient check passed\" else\r\n",
        "\"\"\"\r\n",
        "    it = np.nditer(theta, flags=['multi_index'], op_flags=['readwrite'])\r\n",
        "\r\n",
        "    while not it.finished:\r\n",
        "        ix = it.multi_index\r\n",
        "        theta_ = np.array(theta, copy=True)\r\n",
        "        theta_[ix] += eps\r\n",
        "        J1 = J(theta_)\r\n",
        "        theta_ = np.array(theta, copy=True)\r\n",
        "        theta_[ix] -= eps\r\n",
        "        J2 = J(theta_)\r\n",
        "\r\n",
        "        J1 = to_scalar(J1, ix)\r\n",
        "        J2 = to_scalar(J2, ix)\r\n",
        "\r\n",
        "        num_grad = (J1 - J2)/(2*eps)\r\n",
        "\r\n",
        "        rel_tol = np.abs(num_grad - grad_J)[ix]/(1. + np.minimum(np.abs(num_grad), np.abs(grad_J[ix])))\r\n",
        "\r\n",
        "        if rel_tol > rtol:\r\n",
        "            print(f'num_grad: {num_grad} grad: {grad_J[ix]} factor: {grad_J[ix] / num_grad}')\r\n",
        "            print(f'Incorrect gradient for the axis {str(ix)}')\r\n",
        "            return\r\n",
        "        it.iternext()\r\n",
        "    print(f'Gradient check passed')"
      ],
      "execution_count": 182,
      "outputs": []
    },
    {
      "cell_type": "code",
      "metadata": {
        "id": "D4ggOiIoviiK"
      },
      "source": [
        "def J_theta_global(model, loss_function, theta, idx, x, y):\r\n",
        "    original = model.parameters[idx].data.copy()\r\n",
        "    np.copyto(dst=model.parameters[idx].data, src=theta)\r\n",
        "    x = reshape(x)\r\n",
        "    outputs = model(x)\r\n",
        "    loss_value = loss_function(outputs, y).data\r\n",
        "    np.copyto(dst=model.parameters[idx].data, src=original)\r\n",
        "    model.zero_grad()\r\n",
        "    return loss_value\r\n"
      ],
      "execution_count": 183,
      "outputs": []
    },
    {
      "cell_type": "code",
      "metadata": {
        "id": "-sOj8ZPxvjlO"
      },
      "source": [
        "def dJ_theta_global(model, loss_function, x, y):\r\n",
        "    x = reshape(x)\r\n",
        "    outputs = model(x)\r\n",
        "    loss = loss_function(outputs, y)\r\n",
        "    loss.backward()\r\n",
        "    grads = []\r\n",
        "    for parameter in model.parameters:\r\n",
        "        grads.append(parameter.grad.copy())\r\n",
        "    model.zero_grad()\r\n",
        "    return grads"
      ],
      "execution_count": 184,
      "outputs": []
    },
    {
      "cell_type": "code",
      "metadata": {
        "id": "uzfuRLndvrKh"
      },
      "source": [
        "def to_scalar(x, i):\r\n",
        "    if isinstance(x, (np.ndarray, list)):\r\n",
        "        return x[i]\r\n",
        "    return x\r\n"
      ],
      "execution_count": 186,
      "outputs": []
    },
    {
      "cell_type": "code",
      "metadata": {
        "colab": {
          "base_uri": "https://localhost:8080/"
        },
        "id": "8Ijd5S8Cvk3z",
        "outputId": "7d87db2f-8e29-497f-826e-2635f3a9b263"
      },
      "source": [
        "loss_function = CrossEntropyLoss()\r\n",
        "model_ = ConvNetwork()\r\n",
        "dJ_theta_tensors = dJ_theta_global(model_, loss_function, Tensor(X_val), Tensor(y_val))\r\n",
        "global_start = time.time()\r\n",
        "for i, parameter in enumerate(model_.parameters):\r\n",
        "    start = time.time()\r\n",
        "    print(f'[{i}]: Start')\r\n",
        "    def J_theta(theta, idx=i, x=Tensor(X_val), y=Tensor(y_val)):\r\n",
        "        return J_theta_global(model_, loss_function, theta, idx, x, y)\r\n",
        "    gradient_checker(J_theta, dJ_theta_tensors[i], parameter.data)\r\n",
        "    print(f'[{i}]: Elapsed time: {time.time() - start:.1f}s')\r\n",
        "print(f'Total elapsed time: {time.time() - global_start:.1f}s')"
      ],
      "execution_count": 187,
      "outputs": [
        {
          "output_type": "stream",
          "text": [
            "[0]: Start\n",
            "Gradient check passed\n",
            "[0]: Elapsed time: 6.8s\n",
            "[1]: Start\n",
            "Gradient check passed\n",
            "[1]: Elapsed time: 0.8s\n",
            "[2]: Start\n",
            "Gradient check passed\n",
            "[2]: Elapsed time: 20.3s\n",
            "[3]: Start\n",
            "Gradient check passed\n",
            "[3]: Elapsed time: 0.2s\n",
            "[4]: Start\n",
            "Gradient check passed\n",
            "[4]: Elapsed time: 142.7s\n",
            "[5]: Start\n",
            "Gradient check passed\n",
            "[5]: Elapsed time: 0.7s\n",
            "Total elapsed time: 171.5s\n"
          ],
          "name": "stdout"
        }
      ]
    },
    {
      "cell_type": "code",
      "metadata": {
        "id": "Bhov5mcxv2TB"
      },
      "source": [
        ""
      ],
      "execution_count": null,
      "outputs": []
    }
  ]
}