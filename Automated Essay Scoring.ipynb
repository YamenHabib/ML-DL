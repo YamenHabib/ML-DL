{
 "cells": [
  {
   "cell_type": "code",
   "execution_count": 1,
   "id": "23292c67",
   "metadata": {},
   "outputs": [
    {
     "name": "stdout",
     "output_type": "stream",
     "text": [
      "Sat Sep 25 08:30:19 2021       \n",
      "+-----------------------------------------------------------------------------+\n",
      "| NVIDIA-SMI 440.118.02   Driver Version: 440.118.02   CUDA Version: 10.2     |\n",
      "|-------------------------------+----------------------+----------------------+\n",
      "| GPU  Name        Persistence-M| Bus-Id        Disp.A | Volatile Uncorr. ECC |\n",
      "| Fan  Temp  Perf  Pwr:Usage/Cap|         Memory-Usage | GPU-Util  Compute M. |\n",
      "|===============================+======================+======================|\n",
      "|   0  GeForce GTX 108...  On   | 00000000:51:00.0 Off |                  N/A |\n",
      "|  0%   31C    P8     9W / 250W |  11173MiB / 11178MiB |      0%      Default |\n",
      "+-------------------------------+----------------------+----------------------+\n",
      "|   1  GeForce GTX 108...  On   | 00000000:CB:00.0 Off |                  N/A |\n",
      "|  0%   33C    P8     9W / 250W |  11128MiB / 11178MiB |      0%      Default |\n",
      "+-------------------------------+----------------------+----------------------+\n",
      "|   2  GeForce GTX 108...  On   | 00000000:D5:00.0 Off |                  N/A |\n",
      "|  0%   35C    P2    58W / 250W |    856MiB / 11178MiB |      0%      Default |\n",
      "+-------------------------------+----------------------+----------------------+\n",
      "                                                                               \n",
      "+-----------------------------------------------------------------------------+\n",
      "| Processes:                                                       GPU Memory |\n",
      "|  GPU       PID   Type   Process name                             Usage      |\n",
      "|=============================================================================|\n",
      "+-----------------------------------------------------------------------------+\n"
     ]
    }
   ],
   "source": [
    "!nvidia-smi"
   ]
  },
  {
   "cell_type": "code",
   "execution_count": 2,
   "id": "f83b2f9a",
   "metadata": {},
   "outputs": [],
   "source": [
    "import pandas as pd\n",
    "import numpy as np\n",
    "\n",
    "from transformers import RobertaTokenizer, RobertaModel, AdamW, get_linear_schedule_with_warmup\n",
    "\n",
    "from sklearn.model_selection import train_test_split\n",
    "from sklearn.feature_extraction.text import CountVectorizer\n",
    "from sklearn.metrics import accuracy_score, classification_report, confusion_matrix\n",
    "import time  \n",
    "import torch\n",
    "import torch.nn.functional as F \n",
    "from torch.utils.data import Dataset, DataLoader\n",
    "from collections import Counter\n",
    "from tqdm.notebook import tqdm\n",
    "import datetime"
   ]
  },
  {
   "cell_type": "code",
   "execution_count": 3,
   "id": "57ff122a",
   "metadata": {},
   "outputs": [],
   "source": [
    "device= torch.device('cuda:2')"
   ]
  },
  {
   "cell_type": "code",
   "execution_count": 4,
   "id": "e5c73577",
   "metadata": {},
   "outputs": [],
   "source": [
    "df= pd.read_csv('data/training_set_rel3.tsv', sep='\\t', encoding='ISO-8859-1')"
   ]
  },
  {
   "cell_type": "code",
   "execution_count": 5,
   "id": "3cb0af6e",
   "metadata": {},
   "outputs": [],
   "source": [
    "df= df.dropna(axis=1)"
   ]
  },
  {
   "cell_type": "code",
   "execution_count": 6,
   "id": "2bbc4359",
   "metadata": {},
   "outputs": [],
   "source": [
    "df= df[(~(df['essay_set']==8)) & (~(df['essay_set']==7)) & (~(df['essay_set']==1)) & (~(df['essay_set']==2))]"
   ]
  },
  {
   "cell_type": "code",
   "execution_count": 7,
   "id": "265efc8b",
   "metadata": {},
   "outputs": [
    {
     "data": {
      "text/html": [
       "<div>\n",
       "<style scoped>\n",
       "    .dataframe tbody tr th:only-of-type {\n",
       "        vertical-align: middle;\n",
       "    }\n",
       "\n",
       "    .dataframe tbody tr th {\n",
       "        vertical-align: top;\n",
       "    }\n",
       "\n",
       "    .dataframe thead th {\n",
       "        text-align: right;\n",
       "    }\n",
       "</style>\n",
       "<table border=\"1\" class=\"dataframe\">\n",
       "  <thead>\n",
       "    <tr style=\"text-align: right;\">\n",
       "      <th></th>\n",
       "      <th>essay_id</th>\n",
       "      <th>essay_set</th>\n",
       "      <th>essay</th>\n",
       "      <th>rater1_domain1</th>\n",
       "      <th>rater2_domain1</th>\n",
       "      <th>domain1_score</th>\n",
       "    </tr>\n",
       "  </thead>\n",
       "  <tbody>\n",
       "    <tr>\n",
       "      <th>3583</th>\n",
       "      <td>5978</td>\n",
       "      <td>3</td>\n",
       "      <td>The features of the setting affect the cyclist...</td>\n",
       "      <td>1</td>\n",
       "      <td>1</td>\n",
       "      <td>1</td>\n",
       "    </tr>\n",
       "    <tr>\n",
       "      <th>3584</th>\n",
       "      <td>5979</td>\n",
       "      <td>3</td>\n",
       "      <td>The features of the setting affected the cycli...</td>\n",
       "      <td>2</td>\n",
       "      <td>2</td>\n",
       "      <td>2</td>\n",
       "    </tr>\n",
       "    <tr>\n",
       "      <th>3585</th>\n",
       "      <td>5980</td>\n",
       "      <td>3</td>\n",
       "      <td>Everyone travels to unfamiliar places. Sometim...</td>\n",
       "      <td>1</td>\n",
       "      <td>1</td>\n",
       "      <td>1</td>\n",
       "    </tr>\n",
       "    <tr>\n",
       "      <th>3586</th>\n",
       "      <td>5981</td>\n",
       "      <td>3</td>\n",
       "      <td>I believe the features of the cyclist affected...</td>\n",
       "      <td>1</td>\n",
       "      <td>1</td>\n",
       "      <td>1</td>\n",
       "    </tr>\n",
       "    <tr>\n",
       "      <th>3587</th>\n",
       "      <td>5982</td>\n",
       "      <td>3</td>\n",
       "      <td>The setting effects the cyclist because of the...</td>\n",
       "      <td>2</td>\n",
       "      <td>2</td>\n",
       "      <td>2</td>\n",
       "    </tr>\n",
       "    <tr>\n",
       "      <th>...</th>\n",
       "      <td>...</td>\n",
       "      <td>...</td>\n",
       "      <td>...</td>\n",
       "      <td>...</td>\n",
       "      <td>...</td>\n",
       "      <td>...</td>\n",
       "    </tr>\n",
       "    <tr>\n",
       "      <th>10679</th>\n",
       "      <td>16629</td>\n",
       "      <td>6</td>\n",
       "      <td>The one obstacle the builders had when trying ...</td>\n",
       "      <td>2</td>\n",
       "      <td>0</td>\n",
       "      <td>0</td>\n",
       "    </tr>\n",
       "    <tr>\n",
       "      <th>10680</th>\n",
       "      <td>16630</td>\n",
       "      <td>6</td>\n",
       "      <td>Some of the problems with the constructing of ...</td>\n",
       "      <td>1</td>\n",
       "      <td>2</td>\n",
       "      <td>2</td>\n",
       "    </tr>\n",
       "    <tr>\n",
       "      <th>10681</th>\n",
       "      <td>16631</td>\n",
       "      <td>6</td>\n",
       "      <td>The builders of the Empire State building face...</td>\n",
       "      <td>2</td>\n",
       "      <td>3</td>\n",
       "      <td>3</td>\n",
       "    </tr>\n",
       "    <tr>\n",
       "      <th>10682</th>\n",
       "      <td>16632</td>\n",
       "      <td>6</td>\n",
       "      <td>The obstacles the builders of the Empire State...</td>\n",
       "      <td>2</td>\n",
       "      <td>1</td>\n",
       "      <td>2</td>\n",
       "    </tr>\n",
       "    <tr>\n",
       "      <th>10683</th>\n",
       "      <td>16633</td>\n",
       "      <td>6</td>\n",
       "      <td>You want me to tell you what they had to go th...</td>\n",
       "      <td>2</td>\n",
       "      <td>2</td>\n",
       "      <td>2</td>\n",
       "    </tr>\n",
       "  </tbody>\n",
       "</table>\n",
       "<p>7101 rows × 6 columns</p>\n",
       "</div>"
      ],
      "text/plain": [
       "       essay_id  essay_set                                              essay  \\\n",
       "3583       5978          3  The features of the setting affect the cyclist...   \n",
       "3584       5979          3  The features of the setting affected the cycli...   \n",
       "3585       5980          3  Everyone travels to unfamiliar places. Sometim...   \n",
       "3586       5981          3  I believe the features of the cyclist affected...   \n",
       "3587       5982          3  The setting effects the cyclist because of the...   \n",
       "...         ...        ...                                                ...   \n",
       "10679     16629          6  The one obstacle the builders had when trying ...   \n",
       "10680     16630          6  Some of the problems with the constructing of ...   \n",
       "10681     16631          6  The builders of the Empire State building face...   \n",
       "10682     16632          6  The obstacles the builders of the Empire State...   \n",
       "10683     16633          6  You want me to tell you what they had to go th...   \n",
       "\n",
       "       rater1_domain1  rater2_domain1  domain1_score  \n",
       "3583                1               1              1  \n",
       "3584                2               2              2  \n",
       "3585                1               1              1  \n",
       "3586                1               1              1  \n",
       "3587                2               2              2  \n",
       "...               ...             ...            ...  \n",
       "10679               2               0              0  \n",
       "10680               1               2              2  \n",
       "10681               2               3              3  \n",
       "10682               2               1              2  \n",
       "10683               2               2              2  \n",
       "\n",
       "[7101 rows x 6 columns]"
      ]
     },
     "execution_count": 7,
     "metadata": {},
     "output_type": "execute_result"
    }
   ],
   "source": [
    "df"
   ]
  },
  {
   "cell_type": "markdown",
   "id": "4ed7b11d",
   "metadata": {},
   "source": [
    "# Normalization"
   ]
  },
  {
   "cell_type": "code",
   "execution_count": 8,
   "id": "fa8f3fef",
   "metadata": {},
   "outputs": [],
   "source": [
    "# def normalize(x, mini, maxi):\n",
    "#     x['domain1_score']= int((x['domain1_score']-mini)/(maxi-mini) * 100)\n",
    "#     return x"
   ]
  },
  {
   "cell_type": "code",
   "execution_count": 9,
   "id": "e1d1087d",
   "metadata": {},
   "outputs": [],
   "source": [
    "# for i in tqdm(range(1, 8)):\n",
    "#     tmp= df[(df['essay_set']==i)]['domain1_score'].copy()\n",
    "#     mini= min(tmp)\n",
    "#     maxi= max(tmp)\n",
    "#     df[(df['essay_set']==i)]= df[(df['essay_set']==i)].apply(lambda x: normalize(x, mini, maxi), axis=1)\n",
    "    "
   ]
  },
  {
   "cell_type": "code",
   "execution_count": 10,
   "id": "20529d44",
   "metadata": {},
   "outputs": [
    {
     "data": {
      "text/plain": [
       "<AxesSubplot:>"
      ]
     },
     "execution_count": 10,
     "metadata": {},
     "output_type": "execute_result"
    },
    {
     "data": {
      "image/png": "[encoded data removed]",
      "text/plain": [
       "<Figure size 1080x720 with 1 Axes>"
      ]
     },
     "metadata": {
      "needs_background": "light"
     },
     "output_type": "display_data"
    }
   ],
   "source": [
    "counts= df['domain1_score'].value_counts()\n",
    "counts.plot(kind='bar', figsize=(15, 10))"
   ]
  },
  {
   "cell_type": "code",
   "execution_count": 11,
   "id": "3e687f37",
   "metadata": {},
   "outputs": [
    {
     "data": {
      "text/plain": [
       "Index(['essay_id', 'essay_set', 'essay', 'rater1_domain1', 'rater2_domain1',\n",
       "       'domain1_score'],\n",
       "      dtype='object')"
      ]
     },
     "execution_count": 11,
     "metadata": {},
     "output_type": "execute_result"
    }
   ],
   "source": [
    "df.columns"
   ]
  },
  {
   "cell_type": "code",
   "execution_count": 12,
   "id": "050a2d8c",
   "metadata": {},
   "outputs": [],
   "source": [
    "df= df.drop(['essay_set', 'essay_id'], axis=1)\n",
    "# df= df.drop(['rater1_domain1', 'rater2_domain1'], axis=1)"
   ]
  },
  {
   "cell_type": "code",
   "execution_count": 13,
   "id": "cde4db72",
   "metadata": {},
   "outputs": [
    {
     "data": {
      "text/html": [
       "<div>\n",
       "<style scoped>\n",
       "    .dataframe tbody tr th:only-of-type {\n",
       "        vertical-align: middle;\n",
       "    }\n",
       "\n",
       "    .dataframe tbody tr th {\n",
       "        vertical-align: top;\n",
       "    }\n",
       "\n",
       "    .dataframe thead th {\n",
       "        text-align: right;\n",
       "    }\n",
       "</style>\n",
       "<table border=\"1\" class=\"dataframe\">\n",
       "  <thead>\n",
       "    <tr style=\"text-align: right;\">\n",
       "      <th></th>\n",
       "      <th>essay</th>\n",
       "      <th>rater1_domain1</th>\n",
       "      <th>rater2_domain1</th>\n",
       "      <th>domain1_score</th>\n",
       "    </tr>\n",
       "  </thead>\n",
       "  <tbody>\n",
       "    <tr>\n",
       "      <th>3583</th>\n",
       "      <td>The features of the setting affect the cyclist...</td>\n",
       "      <td>1</td>\n",
       "      <td>1</td>\n",
       "      <td>1</td>\n",
       "    </tr>\n",
       "    <tr>\n",
       "      <th>3584</th>\n",
       "      <td>The features of the setting affected the cycli...</td>\n",
       "      <td>2</td>\n",
       "      <td>2</td>\n",
       "      <td>2</td>\n",
       "    </tr>\n",
       "    <tr>\n",
       "      <th>3585</th>\n",
       "      <td>Everyone travels to unfamiliar places. Sometim...</td>\n",
       "      <td>1</td>\n",
       "      <td>1</td>\n",
       "      <td>1</td>\n",
       "    </tr>\n",
       "    <tr>\n",
       "      <th>3586</th>\n",
       "      <td>I believe the features of the cyclist affected...</td>\n",
       "      <td>1</td>\n",
       "      <td>1</td>\n",
       "      <td>1</td>\n",
       "    </tr>\n",
       "    <tr>\n",
       "      <th>3587</th>\n",
       "      <td>The setting effects the cyclist because of the...</td>\n",
       "      <td>2</td>\n",
       "      <td>2</td>\n",
       "      <td>2</td>\n",
       "    </tr>\n",
       "    <tr>\n",
       "      <th>...</th>\n",
       "      <td>...</td>\n",
       "      <td>...</td>\n",
       "      <td>...</td>\n",
       "      <td>...</td>\n",
       "    </tr>\n",
       "    <tr>\n",
       "      <th>10679</th>\n",
       "      <td>The one obstacle the builders had when trying ...</td>\n",
       "      <td>2</td>\n",
       "      <td>0</td>\n",
       "      <td>0</td>\n",
       "    </tr>\n",
       "    <tr>\n",
       "      <th>10680</th>\n",
       "      <td>Some of the problems with the constructing of ...</td>\n",
       "      <td>1</td>\n",
       "      <td>2</td>\n",
       "      <td>2</td>\n",
       "    </tr>\n",
       "    <tr>\n",
       "      <th>10681</th>\n",
       "      <td>The builders of the Empire State building face...</td>\n",
       "      <td>2</td>\n",
       "      <td>3</td>\n",
       "      <td>3</td>\n",
       "    </tr>\n",
       "    <tr>\n",
       "      <th>10682</th>\n",
       "      <td>The obstacles the builders of the Empire State...</td>\n",
       "      <td>2</td>\n",
       "      <td>1</td>\n",
       "      <td>2</td>\n",
       "    </tr>\n",
       "    <tr>\n",
       "      <th>10683</th>\n",
       "      <td>You want me to tell you what they had to go th...</td>\n",
       "      <td>2</td>\n",
       "      <td>2</td>\n",
       "      <td>2</td>\n",
       "    </tr>\n",
       "  </tbody>\n",
       "</table>\n",
       "<p>7101 rows × 4 columns</p>\n",
       "</div>"
      ],
      "text/plain": [
       "                                                   essay  rater1_domain1  \\\n",
       "3583   The features of the setting affect the cyclist...               1   \n",
       "3584   The features of the setting affected the cycli...               2   \n",
       "3585   Everyone travels to unfamiliar places. Sometim...               1   \n",
       "3586   I believe the features of the cyclist affected...               1   \n",
       "3587   The setting effects the cyclist because of the...               2   \n",
       "...                                                  ...             ...   \n",
       "10679  The one obstacle the builders had when trying ...               2   \n",
       "10680  Some of the problems with the constructing of ...               1   \n",
       "10681  The builders of the Empire State building face...               2   \n",
       "10682  The obstacles the builders of the Empire State...               2   \n",
       "10683  You want me to tell you what they had to go th...               2   \n",
       "\n",
       "       rater2_domain1  domain1_score  \n",
       "3583                1              1  \n",
       "3584                2              2  \n",
       "3585                1              1  \n",
       "3586                1              1  \n",
       "3587                2              2  \n",
       "...               ...            ...  \n",
       "10679               0              0  \n",
       "10680               2              2  \n",
       "10681               3              3  \n",
       "10682               1              2  \n",
       "10683               2              2  \n",
       "\n",
       "[7101 rows x 4 columns]"
      ]
     },
     "execution_count": 13,
     "metadata": {},
     "output_type": "execute_result"
    }
   ],
   "source": [
    "df"
   ]
  },
  {
   "cell_type": "code",
   "execution_count": 14,
   "id": "c4811563",
   "metadata": {},
   "outputs": [],
   "source": [
    "# tokenizer = RobertaTokenizer.from_pretrained(\"roberta-base\")"
   ]
  },
  {
   "cell_type": "code",
   "execution_count": 15,
   "id": "69dec847",
   "metadata": {},
   "outputs": [],
   "source": [
    "df['essay'] = df['essay'].apply(lambda x: \" \".join(x.split()[:512]))"
   ]
  },
  {
   "cell_type": "code",
   "execution_count": 16,
   "id": "bcbfbc14",
   "metadata": {},
   "outputs": [
    {
     "data": {
      "text/plain": [
       "((5325, 4), (1776, 4))"
      ]
     },
     "execution_count": 16,
     "metadata": {},
     "output_type": "execute_result"
    }
   ],
   "source": [
    "train_df, val_df = train_test_split(df, test_size=0.25, shuffle=True)\n",
    "train_df.shape, val_df.shape"
   ]
  },
  {
   "cell_type": "code",
   "execution_count": 17,
   "id": "a24b7f39",
   "metadata": {},
   "outputs": [],
   "source": [
    "tokenizer = RobertaTokenizer.from_pretrained('roberta-base', truncation=True, do_lower_case=True)"
   ]
  },
  {
   "cell_type": "code",
   "execution_count": 18,
   "id": "487aee08",
   "metadata": {},
   "outputs": [],
   "source": [
    "class AESDataset(Dataset):\n",
    "    def __init__(self, df, tokenizer, max_len):\n",
    "        self.tokenizer = tokenizer\n",
    "        self.df = df\n",
    "        self.max_len = max_len\n",
    "\n",
    "    def __len__(self):\n",
    "        return len(self.df)\n",
    "\n",
    "    def __getitem__(self, index):\n",
    "        sample = self.df.iloc[index]\n",
    "\n",
    "        inputs= self.tokenizer.encode_plus(sample['essay'],\n",
    "                          add_special_tokens=True,\n",
    "                          max_length=self.max_len,\n",
    "                          padding='max_length',\n",
    "                          truncation=True,\n",
    "                          return_token_type_ids=True)\n",
    "        \n",
    "        ids = inputs['input_ids']\n",
    "        mask = inputs['attention_mask']\n",
    "        token_type_ids = inputs[\"token_type_ids\"]\n",
    "        \n",
    "        ids= torch.tensor(ids, dtype=torch.long),\n",
    "        mask= torch.tensor(mask, dtype=torch.long),\n",
    "        token_type_ids= torch.tensor(token_type_ids, dtype=torch.long),\n",
    "        targets= torch.tensor(sample['domain1_score'], dtype=torch.float)\n",
    "        \n",
    "        return (ids, mask, token_type_ids, targets)"
   ]
  },
  {
   "cell_type": "code",
   "execution_count": 19,
   "id": "01fc49f5",
   "metadata": {},
   "outputs": [],
   "source": [
    "MAX_LEN = 512\n",
    "TRAIN_BATCH_SIZE = 8\n",
    "VALID_BATCH_SIZE = 8"
   ]
  },
  {
   "cell_type": "code",
   "execution_count": 20,
   "id": "09fa9ebc",
   "metadata": {},
   "outputs": [],
   "source": [
    "train_dataset = AESDataset(train_df, tokenizer, MAX_LEN)\n",
    "train_loader = DataLoader(train_dataset, batch_size= TRAIN_BATCH_SIZE, shuffle=True, num_workers= 4)"
   ]
  },
  {
   "cell_type": "code",
   "execution_count": 21,
   "id": "c6ac698d",
   "metadata": {},
   "outputs": [],
   "source": [
    "val_dataset = AESDataset(val_df, tokenizer, MAX_LEN)\n",
    "val_loader = DataLoader(val_dataset, batch_size = VALID_BATCH_SIZE, shuffle=True, num_workers= 4)"
   ]
  },
  {
   "cell_type": "code",
   "execution_count": 22,
   "id": "757526e6",
   "metadata": {},
   "outputs": [],
   "source": [
    "class Model(torch.nn.Module):\n",
    "    def __init__(self):\n",
    "        super(Model, self).__init__()\n",
    "        self.base_model = RobertaModel.from_pretrained(\"roberta-base\")\n",
    "        self.pre_classifier = torch.nn.Linear(768, 256)\n",
    "        self.dropout = torch.nn.Dropout(0.3)\n",
    "        self.classifier = torch.nn.Linear(256, 5)\n",
    "\n",
    "    def forward(self, input_ids, attention_mask, token_type_ids):\n",
    "        output_1 = self.base_model(input_ids=input_ids, attention_mask=attention_mask, token_type_ids=token_type_ids)\n",
    "        hidden_state = output_1[0]\n",
    "        pooler = hidden_state[:, 0]\n",
    "        pooler = self.pre_classifier(pooler)\n",
    "        pooler = torch.nn.ReLU()(pooler)\n",
    "        pooler = self.dropout(pooler)\n",
    "        output = self.classifier(pooler)\n",
    "        output = F.log_softmax(output, dim=1)\n",
    "        return output"
   ]
  },
  {
   "cell_type": "code",
   "execution_count": 23,
   "id": "28492d1f",
   "metadata": {},
   "outputs": [],
   "source": [
    "model = Model()\n",
    "model = model.to(device)"
   ]
  },
  {
   "cell_type": "code",
   "execution_count": 24,
   "id": "c4f485de",
   "metadata": {},
   "outputs": [],
   "source": [
    "LOSS_FUN= torch.nn.CrossEntropyLoss() #torch.nn.MSELoss()"
   ]
  },
  {
   "cell_type": "code",
   "execution_count": 25,
   "id": "16c70853",
   "metadata": {},
   "outputs": [],
   "source": [
    "def train(model, optimizer, loss_fun,\n",
    "          train_loader, val_loader, \n",
    "          scheduler=None, \n",
    "          num_epochs=5,batch_size=16, \n",
    "          device=device, \n",
    "          train_whole_model=False, \n",
    "          save_as=\"model.pkl\"):\n",
    "    \n",
    "    step = 0\n",
    "    # if we want to train all the model (our added layers + RoBERTa)\n",
    "    if train_whole_model:\n",
    "        for param in model.base_model.parameters():\n",
    "            param.requires_grad = True\n",
    "    # in case we just want to train our added layer.\n",
    "    else:\n",
    "        for param in model.base_model.parameters():\n",
    "            param.requires_grad = False\n",
    "\n",
    "    model.train()\n",
    "    min_val = float('inf')\n",
    "    for epoch in range(num_epochs):\n",
    "        train_loss = 0.0\n",
    "        val_loss = 0.0\n",
    "        batch_count = 0\n",
    "        model.train()\n",
    "        for (input_ids, input_mask, token_type_ids, y_true) in tqdm(train_loader):\n",
    "            input_ids=input_ids[0].to(device)\n",
    "            attention_mask=input_mask[0].to(device)\n",
    "            token_type_ids= token_type_ids[0].to(device)\n",
    "            y_pred= model(input_ids, attention_mask, token_type_ids).squeeze(1)\n",
    "            loss = loss_fun(y_pred, y_true.long().to(device))\n",
    "            loss.backward()\n",
    "            # Optimizer and scheduler step\n",
    "            optimizer.step()\n",
    "            scheduler.step()\n",
    "            optimizer.zero_grad()\n",
    "            # Update train loss and step\n",
    "            train_loss += loss.item()\n",
    "            step += batch_size\n",
    "            batch_count += 1\n",
    "        \n",
    "        train_loss /= batch_count\n",
    "        model.eval()\n",
    "        with torch.no_grad():\n",
    "            batch_count = 0\n",
    "            for (input_ids, input_mask, token_type_ids, y_true) in tqdm(val_loader):\n",
    "                input_ids=input_ids[0].to(device)\n",
    "                attention_mask=input_mask[0].to(device)\n",
    "                token_type_ids= token_type_ids[0].to(device)\n",
    "                y_pred= model(input_ids, attention_mask, token_type_ids).squeeze(1)\n",
    "                loss = loss_fun(y_pred, y_true.long().to(device))\n",
    "                val_loss += loss.item()\n",
    "                batch_count += 1\n",
    "            val_loss /= batch_count\n",
    "        \n",
    "        if val_loss < min_val:\n",
    "            min_val= val_loss\n",
    "            torch.save({'state_dict': model.state_dict()}, 'model.tar')\n",
    "            print(f\"Updating Model at Epoch: {epoch}\")\n",
    "        print(f\"{datetime.datetime.now().time()} Epoch: {epoch}/{num_epochs}: train_loss: {train_loss:.4f}, val_loss: {val_loss:.4f}\")"
   ]
  },
  {
   "cell_type": "code",
   "execution_count": 26,
   "id": "8eb167f4",
   "metadata": {},
   "outputs": [
    {
     "name": "stdout",
     "output_type": "stream",
     "text": [
      " ............. Training the added Layers only ............. \n"
     ]
    },
    {
     "data": {
      "application/vnd.jupyter.widget-view+json": {
       "model_id": "40045c8459724443ad41e5f901a22574",
       "version_major": 2,
       "version_minor": 0
      },
      "text/plain": [
       "  0%|          | 0/666 [00:00<?, ?it/s]"
      ]
     },
     "metadata": {},
     "output_type": "display_data"
    },
    {
     "data": {
      "application/vnd.jupyter.widget-view+json": {
       "model_id": "a81f1cc3d3f0401abc21f5a99a9adaa3",
       "version_major": 2,
       "version_minor": 0
      },
      "text/plain": [
       "  0%|          | 0/222 [00:00<?, ?it/s]"
      ]
     },
     "metadata": {},
     "output_type": "display_data"
    },
    {
     "name": "stdout",
     "output_type": "stream",
     "text": [
      "Updating Model at Epoch: 0\n",
      "08:32:51.682663 Epoch: 0/6: train_loss: 1.4939, val_loss: 1.4530\n"
     ]
    },
    {
     "data": {
      "application/vnd.jupyter.widget-view+json": {
       "model_id": "7d7efb7c2fbf41cb9318716afcc2cbc9",
       "version_major": 2,
       "version_minor": 0
      },
      "text/plain": [
       "  0%|          | 0/666 [00:00<?, ?it/s]"
      ]
     },
     "metadata": {},
     "output_type": "display_data"
    },
    {
     "data": {
      "application/vnd.jupyter.widget-view+json": {
       "model_id": "a17a1953400a44c0af4d802670861dc1",
       "version_major": 2,
       "version_minor": 0
      },
      "text/plain": [
       "  0%|          | 0/222 [00:00<?, ?it/s]"
      ]
     },
     "metadata": {},
     "output_type": "display_data"
    },
    {
     "name": "stdout",
     "output_type": "stream",
     "text": [
      "Updating Model at Epoch: 1\n",
      "08:35:05.232216 Epoch: 1/6: train_loss: 1.3967, val_loss: 1.3813\n"
     ]
    },
    {
     "data": {
      "application/vnd.jupyter.widget-view+json": {
       "model_id": "c50266e81f2b418aa51fd5fcb15c845f",
       "version_major": 2,
       "version_minor": 0
      },
      "text/plain": [
       "  0%|          | 0/666 [00:00<?, ?it/s]"
      ]
     },
     "metadata": {},
     "output_type": "display_data"
    },
    {
     "data": {
      "application/vnd.jupyter.widget-view+json": {
       "model_id": "80e4ebc686ca4d0c8d0f9830dd659fc0",
       "version_major": 2,
       "version_minor": 0
      },
      "text/plain": [
       "  0%|          | 0/222 [00:00<?, ?it/s]"
      ]
     },
     "metadata": {},
     "output_type": "display_data"
    },
    {
     "name": "stdout",
     "output_type": "stream",
     "text": [
      "Updating Model at Epoch: 2\n",
      "08:37:19.216565 Epoch: 2/6: train_loss: 1.3365, val_loss: 1.3260\n"
     ]
    },
    {
     "data": {
      "application/vnd.jupyter.widget-view+json": {
       "model_id": "05bc1e2eb14a4d19b44351be1c2fad6e",
       "version_major": 2,
       "version_minor": 0
      },
      "text/plain": [
       "  0%|          | 0/666 [00:00<?, ?it/s]"
      ]
     },
     "metadata": {},
     "output_type": "display_data"
    },
    {
     "data": {
      "application/vnd.jupyter.widget-view+json": {
       "model_id": "aa2ec54507e94553818e1e6169fde247",
       "version_major": 2,
       "version_minor": 0
      },
      "text/plain": [
       "  0%|          | 0/222 [00:00<?, ?it/s]"
      ]
     },
     "metadata": {},
     "output_type": "display_data"
    },
    {
     "name": "stdout",
     "output_type": "stream",
     "text": [
      "Updating Model at Epoch: 3\n",
      "08:39:32.806451 Epoch: 3/6: train_loss: 1.2928, val_loss: 1.2908\n"
     ]
    },
    {
     "data": {
      "application/vnd.jupyter.widget-view+json": {
       "model_id": "0039ccd55f0e48f09c4676b3df8d4dbd",
       "version_major": 2,
       "version_minor": 0
      },
      "text/plain": [
       "  0%|          | 0/666 [00:00<?, ?it/s]"
      ]
     },
     "metadata": {},
     "output_type": "display_data"
    },
    {
     "data": {
      "application/vnd.jupyter.widget-view+json": {
       "model_id": "b75f3533e93b41d6a33d339c1c9e1bb4",
       "version_major": 2,
       "version_minor": 0
      },
      "text/plain": [
       "  0%|          | 0/222 [00:00<?, ?it/s]"
      ]
     },
     "metadata": {},
     "output_type": "display_data"
    },
    {
     "name": "stdout",
     "output_type": "stream",
     "text": [
      "Updating Model at Epoch: 4\n",
      "08:41:46.513436 Epoch: 4/6: train_loss: 1.2738, val_loss: 1.2718\n"
     ]
    },
    {
     "data": {
      "application/vnd.jupyter.widget-view+json": {
       "model_id": "face9851171c43419d5a996455774c6c",
       "version_major": 2,
       "version_minor": 0
      },
      "text/plain": [
       "  0%|          | 0/666 [00:00<?, ?it/s]"
      ]
     },
     "metadata": {},
     "output_type": "display_data"
    },
    {
     "data": {
      "application/vnd.jupyter.widget-view+json": {
       "model_id": "966a46e4f7e247c4a5dadd3f50b59466",
       "version_major": 2,
       "version_minor": 0
      },
      "text/plain": [
       "  0%|          | 0/222 [00:00<?, ?it/s]"
      ]
     },
     "metadata": {},
     "output_type": "display_data"
    },
    {
     "name": "stdout",
     "output_type": "stream",
     "text": [
      "Updating Model at Epoch: 5\n",
      "08:44:00.103919 Epoch: 5/6: train_loss: 1.2655, val_loss: 1.2665\n",
      " ............. Training the whole Model ............. \n"
     ]
    },
    {
     "data": {
      "application/vnd.jupyter.widget-view+json": {
       "model_id": "2f67049c065b4d75847722f8f5d6b100",
       "version_major": 2,
       "version_minor": 0
      },
      "text/plain": [
       "  0%|          | 0/666 [00:00<?, ?it/s]"
      ]
     },
     "metadata": {},
     "output_type": "display_data"
    },
    {
     "data": {
      "application/vnd.jupyter.widget-view+json": {
       "model_id": "0bbdbf8637ff4bfd8b4208b8dadf64ed",
       "version_major": 2,
       "version_minor": 0
      },
      "text/plain": [
       "  0%|          | 0/222 [00:00<?, ?it/s]"
      ]
     },
     "metadata": {},
     "output_type": "display_data"
    },
    {
     "name": "stdout",
     "output_type": "stream",
     "text": [
      "Updating Model at Epoch: 0\n",
      "08:49:26.964533 Epoch: 0/18: train_loss: 1.2206, val_loss: 1.1504\n"
     ]
    },
    {
     "data": {
      "application/vnd.jupyter.widget-view+json": {
       "model_id": "7b6f8119de0a463096e9550b6792027f",
       "version_major": 2,
       "version_minor": 0
      },
      "text/plain": [
       "  0%|          | 0/666 [00:00<?, ?it/s]"
      ]
     },
     "metadata": {},
     "output_type": "display_data"
    },
    {
     "data": {
      "application/vnd.jupyter.widget-view+json": {
       "model_id": "15ff0a395cbc4d9eb2cc4c9e3c514385",
       "version_major": 2,
       "version_minor": 0
      },
      "text/plain": [
       "  0%|          | 0/222 [00:00<?, ?it/s]"
      ]
     },
     "metadata": {},
     "output_type": "display_data"
    },
    {
     "name": "stdout",
     "output_type": "stream",
     "text": [
      "Updating Model at Epoch: 1\n",
      "08:54:54.589592 Epoch: 1/18: train_loss: 1.0702, val_loss: 0.9455\n"
     ]
    },
    {
     "data": {
      "application/vnd.jupyter.widget-view+json": {
       "model_id": "30d39b7027e24b149e73bcfcb148cae0",
       "version_major": 2,
       "version_minor": 0
      },
      "text/plain": [
       "  0%|          | 0/666 [00:00<?, ?it/s]"
      ]
     },
     "metadata": {},
     "output_type": "display_data"
    },
    {
     "data": {
      "application/vnd.jupyter.widget-view+json": {
       "model_id": "fe62c474592841e5a632cbb3937403ba",
       "version_major": 2,
       "version_minor": 0
      },
      "text/plain": [
       "  0%|          | 0/222 [00:00<?, ?it/s]"
      ]
     },
     "metadata": {},
     "output_type": "display_data"
    },
    {
     "name": "stdout",
     "output_type": "stream",
     "text": [
      "Updating Model at Epoch: 2\n",
      "09:00:21.403283 Epoch: 2/18: train_loss: 0.9290, val_loss: 0.8726\n"
     ]
    },
    {
     "data": {
      "application/vnd.jupyter.widget-view+json": {
       "model_id": "45c98e4127cf467cbe54bbb156418651",
       "version_major": 2,
       "version_minor": 0
      },
      "text/plain": [
       "  0%|          | 0/666 [00:00<?, ?it/s]"
      ]
     },
     "metadata": {},
     "output_type": "display_data"
    },
    {
     "data": {
      "application/vnd.jupyter.widget-view+json": {
       "model_id": "ebdad6aed0a64b00b821dc175e64e39b",
       "version_major": 2,
       "version_minor": 0
      },
      "text/plain": [
       "  0%|          | 0/222 [00:00<?, ?it/s]"
      ]
     },
     "metadata": {},
     "output_type": "display_data"
    },
    {
     "name": "stdout",
     "output_type": "stream",
     "text": [
      "Updating Model at Epoch: 3\n",
      "09:05:48.168685 Epoch: 3/18: train_loss: 0.8722, val_loss: 0.8362\n"
     ]
    },
    {
     "data": {
      "application/vnd.jupyter.widget-view+json": {
       "model_id": "190507833f6843ddb9fb5f9b01d12b78",
       "version_major": 2,
       "version_minor": 0
      },
      "text/plain": [
       "  0%|          | 0/666 [00:00<?, ?it/s]"
      ]
     },
     "metadata": {},
     "output_type": "display_data"
    },
    {
     "data": {
      "application/vnd.jupyter.widget-view+json": {
       "model_id": "0f93a43151a1412f825b7a3123c1fe1d",
       "version_major": 2,
       "version_minor": 0
      },
      "text/plain": [
       "  0%|          | 0/222 [00:00<?, ?it/s]"
      ]
     },
     "metadata": {},
     "output_type": "display_data"
    },
    {
     "name": "stdout",
     "output_type": "stream",
     "text": [
      "Updating Model at Epoch: 4\n",
      "09:11:14.494472 Epoch: 4/18: train_loss: 0.8116, val_loss: 0.8070\n"
     ]
    },
    {
     "data": {
      "application/vnd.jupyter.widget-view+json": {
       "model_id": "78d17c33bd0947c89447818ddd3a6759",
       "version_major": 2,
       "version_minor": 0
      },
      "text/plain": [
       "  0%|          | 0/666 [00:00<?, ?it/s]"
      ]
     },
     "metadata": {},
     "output_type": "display_data"
    },
    {
     "data": {
      "application/vnd.jupyter.widget-view+json": {
       "model_id": "3db20c0dcb0e40248abeca4371427677",
       "version_major": 2,
       "version_minor": 0
      },
      "text/plain": [
       "  0%|          | 0/222 [00:00<?, ?it/s]"
      ]
     },
     "metadata": {},
     "output_type": "display_data"
    },
    {
     "name": "stdout",
     "output_type": "stream",
     "text": [
      "Updating Model at Epoch: 5\n",
      "09:16:40.414554 Epoch: 5/18: train_loss: 0.7805, val_loss: 0.7808\n"
     ]
    },
    {
     "data": {
      "application/vnd.jupyter.widget-view+json": {
       "model_id": "ddb869373f4d4052b7f6a269cf7ed8c6",
       "version_major": 2,
       "version_minor": 0
      },
      "text/plain": [
       "  0%|          | 0/666 [00:00<?, ?it/s]"
      ]
     },
     "metadata": {},
     "output_type": "display_data"
    },
    {
     "data": {
      "application/vnd.jupyter.widget-view+json": {
       "model_id": "9a99f01b834f469d86c4dc4404ee5138",
       "version_major": 2,
       "version_minor": 0
      },
      "text/plain": [
       "  0%|          | 0/222 [00:00<?, ?it/s]"
      ]
     },
     "metadata": {},
     "output_type": "display_data"
    },
    {
     "name": "stdout",
     "output_type": "stream",
     "text": [
      "Updating Model at Epoch: 6\n",
      "09:22:07.877927 Epoch: 6/18: train_loss: 0.7470, val_loss: 0.7674\n"
     ]
    },
    {
     "data": {
      "application/vnd.jupyter.widget-view+json": {
       "model_id": "36bf1390f4a14a7cb4406525ce6d2de8",
       "version_major": 2,
       "version_minor": 0
      },
      "text/plain": [
       "  0%|          | 0/666 [00:00<?, ?it/s]"
      ]
     },
     "metadata": {},
     "output_type": "display_data"
    },
    {
     "data": {
      "application/vnd.jupyter.widget-view+json": {
       "model_id": "86682af8d1fa47fe8efb69c32e8ad7e6",
       "version_major": 2,
       "version_minor": 0
      },
      "text/plain": [
       "  0%|          | 0/222 [00:00<?, ?it/s]"
      ]
     },
     "metadata": {},
     "output_type": "display_data"
    },
    {
     "name": "stdout",
     "output_type": "stream",
     "text": [
      "Updating Model at Epoch: 7\n",
      "09:27:35.541179 Epoch: 7/18: train_loss: 0.7231, val_loss: 0.7603\n"
     ]
    },
    {
     "data": {
      "application/vnd.jupyter.widget-view+json": {
       "model_id": "7fc5dcd0c76847e5832da6d49c73b704",
       "version_major": 2,
       "version_minor": 0
      },
      "text/plain": [
       "  0%|          | 0/666 [00:00<?, ?it/s]"
      ]
     },
     "metadata": {},
     "output_type": "display_data"
    },
    {
     "data": {
      "application/vnd.jupyter.widget-view+json": {
       "model_id": "f9d534a1de2c4d24bfd63c4f33ab0d61",
       "version_major": 2,
       "version_minor": 0
      },
      "text/plain": [
       "  0%|          | 0/222 [00:00<?, ?it/s]"
      ]
     },
     "metadata": {},
     "output_type": "display_data"
    },
    {
     "name": "stdout",
     "output_type": "stream",
     "text": [
      "09:33:02.349488 Epoch: 8/18: train_loss: 0.7086, val_loss: 0.7741\n"
     ]
    },
    {
     "data": {
      "application/vnd.jupyter.widget-view+json": {
       "model_id": "5b9a48270c16417b835c4feebf95d53a",
       "version_major": 2,
       "version_minor": 0
      },
      "text/plain": [
       "  0%|          | 0/666 [00:00<?, ?it/s]"
      ]
     },
     "metadata": {},
     "output_type": "display_data"
    },
    {
     "data": {
      "application/vnd.jupyter.widget-view+json": {
       "model_id": "6a2252ce19ab423f8c84967ddf99fd63",
       "version_major": 2,
       "version_minor": 0
      },
      "text/plain": [
       "  0%|          | 0/222 [00:00<?, ?it/s]"
      ]
     },
     "metadata": {},
     "output_type": "display_data"
    },
    {
     "name": "stdout",
     "output_type": "stream",
     "text": [
      "Updating Model at Epoch: 9\n",
      "09:38:30.412662 Epoch: 9/18: train_loss: 0.6912, val_loss: 0.7476\n"
     ]
    },
    {
     "data": {
      "application/vnd.jupyter.widget-view+json": {
       "model_id": "fb7af3ca18b1486ba0b3668eee92eca1",
       "version_major": 2,
       "version_minor": 0
      },
      "text/plain": [
       "  0%|          | 0/666 [00:00<?, ?it/s]"
      ]
     },
     "metadata": {},
     "output_type": "display_data"
    },
    {
     "data": {
      "application/vnd.jupyter.widget-view+json": {
       "model_id": "ad9c3baa91434af787ba4d38c94d381a",
       "version_major": 2,
       "version_minor": 0
      },
      "text/plain": [
       "  0%|          | 0/222 [00:00<?, ?it/s]"
      ]
     },
     "metadata": {},
     "output_type": "display_data"
    },
    {
     "name": "stdout",
     "output_type": "stream",
     "text": [
      "Updating Model at Epoch: 10\n",
      "09:43:57.612058 Epoch: 10/18: train_loss: 0.6625, val_loss: 0.7466\n"
     ]
    },
    {
     "data": {
      "application/vnd.jupyter.widget-view+json": {
       "model_id": "bb1f8319d7da4870b04365bb5501f9a6",
       "version_major": 2,
       "version_minor": 0
      },
      "text/plain": [
       "  0%|          | 0/666 [00:00<?, ?it/s]"
      ]
     },
     "metadata": {},
     "output_type": "display_data"
    },
    {
     "data": {
      "application/vnd.jupyter.widget-view+json": {
       "model_id": "04f8a81ec4d649209372bbef68b8fef0",
       "version_major": 2,
       "version_minor": 0
      },
      "text/plain": [
       "  0%|          | 0/222 [00:00<?, ?it/s]"
      ]
     },
     "metadata": {},
     "output_type": "display_data"
    },
    {
     "name": "stdout",
     "output_type": "stream",
     "text": [
      "Updating Model at Epoch: 11\n",
      "09:49:24.388799 Epoch: 11/18: train_loss: 0.6593, val_loss: 0.7377\n"
     ]
    },
    {
     "data": {
      "application/vnd.jupyter.widget-view+json": {
       "model_id": "f1677460589d4fc79d3673aeea56e941",
       "version_major": 2,
       "version_minor": 0
      },
      "text/plain": [
       "  0%|          | 0/666 [00:00<?, ?it/s]"
      ]
     },
     "metadata": {},
     "output_type": "display_data"
    },
    {
     "data": {
      "application/vnd.jupyter.widget-view+json": {
       "model_id": "e979db5fc9894fa5a7c8b123c526d701",
       "version_major": 2,
       "version_minor": 0
      },
      "text/plain": [
       "  0%|          | 0/222 [00:00<?, ?it/s]"
      ]
     },
     "metadata": {},
     "output_type": "display_data"
    },
    {
     "name": "stdout",
     "output_type": "stream",
     "text": [
      "Updating Model at Epoch: 12\n",
      "09:54:50.202585 Epoch: 12/18: train_loss: 0.6411, val_loss: 0.7359\n"
     ]
    },
    {
     "data": {
      "application/vnd.jupyter.widget-view+json": {
       "model_id": "4b1be029995f46c8bf7e345a84eca55a",
       "version_major": 2,
       "version_minor": 0
      },
      "text/plain": [
       "  0%|          | 0/666 [00:00<?, ?it/s]"
      ]
     },
     "metadata": {},
     "output_type": "display_data"
    },
    {
     "data": {
      "application/vnd.jupyter.widget-view+json": {
       "model_id": "992fc6ba454e4e07a727636828738e28",
       "version_major": 2,
       "version_minor": 0
      },
      "text/plain": [
       "  0%|          | 0/222 [00:00<?, ?it/s]"
      ]
     },
     "metadata": {},
     "output_type": "display_data"
    },
    {
     "name": "stdout",
     "output_type": "stream",
     "text": [
      "10:00:15.856763 Epoch: 13/18: train_loss: 0.6352, val_loss: 0.7389\n"
     ]
    },
    {
     "data": {
      "application/vnd.jupyter.widget-view+json": {
       "model_id": "efaae8dd623a49c1acda7236f21d4590",
       "version_major": 2,
       "version_minor": 0
      },
      "text/plain": [
       "  0%|          | 0/666 [00:00<?, ?it/s]"
      ]
     },
     "metadata": {},
     "output_type": "display_data"
    },
    {
     "data": {
      "application/vnd.jupyter.widget-view+json": {
       "model_id": "a931ccaf44d94bc0aad013b4195f3d53",
       "version_major": 2,
       "version_minor": 0
      },
      "text/plain": [
       "  0%|          | 0/222 [00:00<?, ?it/s]"
      ]
     },
     "metadata": {},
     "output_type": "display_data"
    },
    {
     "name": "stdout",
     "output_type": "stream",
     "text": [
      "10:05:41.285777 Epoch: 14/18: train_loss: 0.6271, val_loss: 0.7369\n"
     ]
    },
    {
     "data": {
      "application/vnd.jupyter.widget-view+json": {
       "model_id": "f13e0fd57461466badea80844e80dfaf",
       "version_major": 2,
       "version_minor": 0
      },
      "text/plain": [
       "  0%|          | 0/666 [00:00<?, ?it/s]"
      ]
     },
     "metadata": {},
     "output_type": "display_data"
    },
    {
     "data": {
      "application/vnd.jupyter.widget-view+json": {
       "model_id": "c8961c8f469748b8bd02f4e93a1ad1fa",
       "version_major": 2,
       "version_minor": 0
      },
      "text/plain": [
       "  0%|          | 0/222 [00:00<?, ?it/s]"
      ]
     },
     "metadata": {},
     "output_type": "display_data"
    },
    {
     "name": "stdout",
     "output_type": "stream",
     "text": [
      "Updating Model at Epoch: 15\n",
      "10:11:07.930041 Epoch: 15/18: train_loss: 0.6289, val_loss: 0.7353\n"
     ]
    },
    {
     "data": {
      "application/vnd.jupyter.widget-view+json": {
       "model_id": "2957b824062a49cea0aed22bcee50195",
       "version_major": 2,
       "version_minor": 0
      },
      "text/plain": [
       "  0%|          | 0/666 [00:00<?, ?it/s]"
      ]
     },
     "metadata": {},
     "output_type": "display_data"
    },
    {
     "data": {
      "application/vnd.jupyter.widget-view+json": {
       "model_id": "ad1af5bce28542968da65deeef7f2765",
       "version_major": 2,
       "version_minor": 0
      },
      "text/plain": [
       "  0%|          | 0/222 [00:00<?, ?it/s]"
      ]
     },
     "metadata": {},
     "output_type": "display_data"
    },
    {
     "name": "stdout",
     "output_type": "stream",
     "text": [
      "10:16:33.021849 Epoch: 16/18: train_loss: 0.6153, val_loss: 0.7358\n"
     ]
    },
    {
     "data": {
      "application/vnd.jupyter.widget-view+json": {
       "model_id": "7786139d95be40d9b713c3c919bf8834",
       "version_major": 2,
       "version_minor": 0
      },
      "text/plain": [
       "  0%|          | 0/666 [00:00<?, ?it/s]"
      ]
     },
     "metadata": {},
     "output_type": "display_data"
    },
    {
     "data": {
      "application/vnd.jupyter.widget-view+json": {
       "model_id": "3fe6768cff54465b818660d3e9ed71c0",
       "version_major": 2,
       "version_minor": 0
      },
      "text/plain": [
       "  0%|          | 0/222 [00:00<?, ?it/s]"
      ]
     },
     "metadata": {},
     "output_type": "display_data"
    },
    {
     "name": "stdout",
     "output_type": "stream",
     "text": [
      "10:21:58.939311 Epoch: 17/18: train_loss: 0.6207, val_loss: 0.7366\n"
     ]
    }
   ],
   "source": [
    "# Main training loop\n",
    "NUM_EPOCHS_1 = 6\n",
    "steps_per_epoch = len(train_loader)\n",
    "\n",
    "print(\" ............. Training the added Layers only ............. \")\n",
    "optimizer = AdamW(model.parameters(), lr=1e-4)\n",
    "scheduler = get_linear_schedule_with_warmup(optimizer,  num_warmup_steps=steps_per_epoch*1, num_training_steps=steps_per_epoch*NUM_EPOCHS_1)\n",
    "train(model=model, \n",
    "      train_loader=train_loader, val_loader=val_loader, \n",
    "      optimizer=optimizer, scheduler=scheduler, \n",
    "      loss_fun = LOSS_FUN,\n",
    "      num_epochs=NUM_EPOCHS_1, train_whole_model = False)\n",
    "\n",
    "\n",
    "print(\" ............. Training the whole Model ............. \")\n",
    "NUM_EPOCHS_2 = 18\n",
    "optimizer = AdamW(model.parameters(), lr=1e-6)\n",
    "scheduler = get_linear_schedule_with_warmup(optimizer, num_warmup_steps=steps_per_epoch*2, num_training_steps=steps_per_epoch*NUM_EPOCHS_2)\n",
    "\n",
    "train(model=model,  \n",
    "      train_loader=train_loader,  val_loader=val_loader,  \n",
    "      optimizer=optimizer, scheduler=scheduler,\n",
    "      loss_fun = LOSS_FUN,\n",
    "      num_epochs=NUM_EPOCHS_2, train_whole_model=True)"
   ]
  },
  {
   "cell_type": "code",
   "execution_count": 27,
   "id": "f834a6e8",
   "metadata": {},
   "outputs": [
    {
     "data": {
      "application/vnd.jupyter.widget-view+json": {
       "model_id": "091dca542d6a4ea483a1779ca8c5b836",
       "version_major": 2,
       "version_minor": 0
      },
      "text/plain": [
       "  0%|          | 0/1776 [00:00<?, ?it/s]"
      ]
     },
     "metadata": {},
     "output_type": "display_data"
    }
   ],
   "source": [
    "d = []\n",
    "y_preds = []\n",
    "y_trues = []\n",
    "for i in tqdm(range(len(val_dataset))):\n",
    "    input_ids, input_mask, token_type_ids, y_true = val_dataset[i]\n",
    "    input_ids= input_ids[0].unsqueeze(0).to(device)\n",
    "    input_mask= input_mask[0].unsqueeze(0).to(device)\n",
    "    token_type_ids= token_type_ids[0].unsqueeze(0).to(device)\n",
    "\n",
    "    y_pred = model(input_ids, input_mask, token_type_ids)\n",
    "    y_pred = torch.argmax(y_pred) \n",
    "    p= int(y_pred.item())\n",
    "    t= int(y_true.item())\n",
    "    y_preds.append(p)\n",
    "    y_trues.append(t)\n",
    "    d.append(abs(t-p))"
   ]
  },
  {
   "cell_type": "code",
   "execution_count": 28,
   "id": "f065039b",
   "metadata": {},
   "outputs": [],
   "source": [
    "keys = list(Counter(d).keys())\n",
    "values = list(Counter(d).values())"
   ]
  },
  {
   "cell_type": "code",
   "execution_count": 29,
   "id": "6dfc81f5",
   "metadata": {},
   "outputs": [],
   "source": [
    "t = Counter(d).most_common()"
   ]
  },
  {
   "cell_type": "code",
   "execution_count": 30,
   "id": "75b4a9da",
   "metadata": {},
   "outputs": [
    {
     "name": "stdout",
     "output_type": "stream",
     "text": [
      "There are 1238 samples with difference equlas to 0 betweeb true and predicted values.\n",
      "There are 515 samples with difference equlas to 1 betweeb true and predicted values.\n",
      "There are 21 samples with difference equlas to 2 betweeb true and predicted values.\n",
      "There are 2 samples with difference equlas to 3 betweeb true and predicted values.\n"
     ]
    }
   ],
   "source": [
    "for i in range(len(keys)):\n",
    "    print(f\"There are {t[i][1]} samples with difference equlas to {t[i][0]} betweeb true and predicted values.\")"
   ]
  },
  {
   "cell_type": "code",
   "execution_count": 31,
   "id": "2b8bd32b",
   "metadata": {},
   "outputs": [],
   "source": [
    "from sklearn.metrics import cohen_kappa_score"
   ]
  },
  {
   "cell_type": "code",
   "execution_count": 32,
   "id": "a0d1daf1",
   "metadata": {},
   "outputs": [
    {
     "data": {
      "text/plain": [
       "0.5941543906207922"
      ]
     },
     "execution_count": 32,
     "metadata": {},
     "output_type": "execute_result"
    }
   ],
   "source": [
    "cohen_kappa_score(y_preds, y_trues)"
   ]
  },
  {
   "cell_type": "code",
   "execution_count": 33,
   "id": "0dfdfc53",
   "metadata": {},
   "outputs": [
    {
     "data": {
      "text/plain": [
       "({0, 1, 2, 3, 4}, {0, 1, 2, 3, 4})"
      ]
     },
     "execution_count": 33,
     "metadata": {},
     "output_type": "execute_result"
    }
   ],
   "source": [
    "set(y_preds), set(y_trues)"
   ]
  },
  {
   "cell_type": "code",
   "execution_count": 34,
   "id": "be354129",
   "metadata": {},
   "outputs": [
    {
     "name": "stdout",
     "output_type": "stream",
     "text": [
      "Counter({3: 536, 2: 523, 1: 430, 4: 173, 0: 114})\n",
      "Counter({2: 551, 3: 517, 1: 452, 4: 187, 0: 69})\n"
     ]
    }
   ],
   "source": [
    "print(Counter(y_trues))\n",
    "print(Counter(y_preds))"
   ]
  },
  {
   "cell_type": "code",
   "execution_count": null,
   "id": "eb2cc4ee",
   "metadata": {},
   "outputs": [],
   "source": []
  },
  {
   "cell_type": "code",
   "execution_count": 36,
   "id": "576d1a15",
   "metadata": {},
   "outputs": [
    {
     "data": {
      "text/plain": [
       "0.9870495495495496"
      ]
     },
     "execution_count": 36,
     "metadata": {},
     "output_type": "execute_result"
    }
   ],
   "source": [
    "(1238 + 515) / 1776"
   ]
  },
  {
   "cell_type": "code",
   "execution_count": null,
   "id": "b26a0668",
   "metadata": {},
   "outputs": [],
   "source": []
  }
 ],
 "metadata": {
  "kernelspec": {
   "display_name": "Python 3",
   "language": "python",
   "name": "python3"
  },
  "language_info": {
   "codemirror_mode": {
    "name": "ipython",
    "version": 3
   },
   "file_extension": ".py",
   "mimetype": "text/x-python",
   "name": "python",
   "nbconvert_exporter": "python",
   "pygments_lexer": "ipython3",
   "version": "3.8.10"
  }
 },
 "nbformat": 4,
 "nbformat_minor": 5
}
